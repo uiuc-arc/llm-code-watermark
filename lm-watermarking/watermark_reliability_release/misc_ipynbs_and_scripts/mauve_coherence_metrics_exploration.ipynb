{
 "cells": [
  {
   "attachments": {},
   "cell_type": "markdown",
   "metadata": {},
   "source": [
    "# Mauve and coherence metrics exploration\n",
    "\n",
    "Notebook for doing some EDA on metrics"
   ]
  },
  {
   "cell_type": "code",
   "execution_count": 1,
   "metadata": {},
   "outputs": [],
   "source": [
    "INPUT_DIR = \"/cmlscratch/manlis/test/watermarking-root/input\"\n",
    "OUTPUT_DIR = \"/cmlscratch/manlis/test/watermarking-root/output\""
   ]
  },
  {
   "cell_type": "code",
   "execution_count": 2,
   "metadata": {},
   "outputs": [],
   "source": [
    "# Basic imports\n",
    "import os\n",
    "\n",
    "from tqdm import tqdm\n",
    "from statistics import mean\n",
    "\n",
    "import numpy as np\n",
    "import pandas as pd\n",
    "import torch\n",
    "\n",
    "import matplotlib.pyplot as plt\n",
    "\n",
    "from matplotlib import rc\n",
    "rc('font', **{'family': 'serif', 'serif': ['Computer Modern']})\n",
    "rc('text', usetex=True)\n",
    "\n",
    "import cmasher as cmr"
   ]
  },
  {
   "cell_type": "code",
   "execution_count": 3,
   "metadata": {},
   "outputs": [
    {
     "name": "stderr",
     "output_type": "stream",
     "text": [
      "/cmlscratch/manlis/anaconda3/envs/watermarking-dev/lib/python3.10/site-packages/tqdm/auto.py:21: TqdmWarning: IProgress not found. Please update jupyter and ipywidgets. See https://ipywidgets.readthedocs.io/en/stable/user_install.html\n",
      "  from .autonotebook import tqdm as notebook_tqdm\n"
     ]
    }
   ],
   "source": [
    "from datasets import load_from_disk"
   ]
  },
  {
   "attachments": {},
   "cell_type": "markdown",
   "metadata": {},
   "source": [
    "### Load the processed dataset/frame"
   ]
  },
  {
   "cell_type": "code",
   "execution_count": 4,
   "metadata": {},
   "outputs": [],
   "source": [
    "# save_name = \"analysis_ds_1-21_greedy_redo\" \n",
    "# save_name = \"analysis_ds_1-21_greedy_redo_truncated_sanity_check\"\n",
    "# save_name = \"analysis_ds_1-23_greedy_gamma_0-25_truncated\" \n",
    "# save_name = \"analysis_ds_1-23_greedy_gamma_0-25_0-5_truncated\" # in figure (not 100% sure this is correct, check)\n",
    "\n",
    "# save_name = \"analysis_ds_1-20_more_attack\" # in figure\n",
    "\n",
    "save_name = \"analysis_ds_1-19_realnews_1-3_v1\" # in figure\n",
    "# save_name = \"analysis_ds_1-23_en_1-3\"\n",
    "# save_name = \"analysis_ds_1-23_pile_1-3\"\n",
    "\n",
    "save_dir = f\"{INPUT_DIR}/processed_datasets/{save_name}\""
   ]
  },
  {
   "cell_type": "code",
   "execution_count": 5,
   "metadata": {},
   "outputs": [],
   "source": [
    "raw_data = load_from_disk(save_dir)"
   ]
  },
  {
   "attachments": {},
   "cell_type": "markdown",
   "metadata": {},
   "source": [
    "#### convert to pandas df"
   ]
  },
  {
   "cell_type": "code",
   "execution_count": 6,
   "metadata": {},
   "outputs": [],
   "source": [
    "df = raw_data.to_pandas()"
   ]
  },
  {
   "cell_type": "code",
   "execution_count": 7,
   "metadata": {},
   "outputs": [
    {
     "name": "stdout",
     "output_type": "stream",
     "text": [
      "Orig number of rows: 66194\n"
     ]
    },
    {
     "data": {
      "text/html": [
       "<div>\n",
       "<style scoped>\n",
       "    .dataframe tbody tr th:only-of-type {\n",
       "        vertical-align: middle;\n",
       "    }\n",
       "\n",
       "    .dataframe tbody tr th {\n",
       "        vertical-align: top;\n",
       "    }\n",
       "\n",
       "    .dataframe thead th {\n",
       "        text-align: right;\n",
       "    }\n",
       "</style>\n",
       "<table border=\"1\" class=\"dataframe\">\n",
       "  <thead>\n",
       "    <tr style=\"text-align: right;\">\n",
       "      <th></th>\n",
       "      <th>idx</th>\n",
       "      <th>truncated_input</th>\n",
       "      <th>baseline_completion</th>\n",
       "      <th>orig_sample_length</th>\n",
       "      <th>prompt_length</th>\n",
       "      <th>real_completion_length</th>\n",
       "      <th>no_bl_gen_time</th>\n",
       "      <th>w_bl_gen_time</th>\n",
       "      <th>spike_entropies</th>\n",
       "      <th>no_bl_output</th>\n",
       "      <th>...</th>\n",
       "      <th>w_bl_num_toks_gend_eq_0</th>\n",
       "      <th>w_bl_whitelist_fraction</th>\n",
       "      <th>w_bl_blacklist_fraction</th>\n",
       "      <th>w_bl_hit_list</th>\n",
       "      <th>avg_spike_entropy</th>\n",
       "      <th>w_bl_exp_num_wl_tokens</th>\n",
       "      <th>w_bl_var_num_wl_tokens</th>\n",
       "      <th>exp_wl_coef</th>\n",
       "      <th>w_bl_exp_whitelist_fraction</th>\n",
       "      <th>w_bl_var_whitelist_fraction</th>\n",
       "    </tr>\n",
       "  </thead>\n",
       "  <tbody>\n",
       "    <tr>\n",
       "      <th>66189</th>\n",
       "      <td>1629</td>\n",
       "      <td>The cast of the 90s TV show, Hip Hip Hurray, j...</td>\n",
       "      <td>ed the picture post as: Nostalgia#at its best....</td>\n",
       "      <td>319</td>\n",
       "      <td>119</td>\n",
       "      <td>200</td>\n",
       "      <td>2.813786</td>\n",
       "      <td>0.767504</td>\n",
       "      <td>[[0.10299381613731384, 0.3138567805290222, 0.2...</td>\n",
       "      <td>ed the post, \"No cast ever.... (sic).\"\\nHere's...</td>\n",
       "      <td>...</td>\n",
       "      <td>False</td>\n",
       "      <td>1.0</td>\n",
       "      <td>0.0</td>\n",
       "      <td>[False, False, False, False, False, False, Fal...</td>\n",
       "      <td>0.505296</td>\n",
       "      <td>26.275373</td>\n",
       "      <td>12.998542</td>\n",
       "      <td>1.0</td>\n",
       "      <td>0.505296</td>\n",
       "      <td>0.249972</td>\n",
       "    </tr>\n",
       "    <tr>\n",
       "      <th>66190</th>\n",
       "      <td>1631</td>\n",
       "      <td>Seated left to right are Viktor Averin, Sergei...</td>\n",
       "      <td>\"arguably the mightiest organised crime group...</td>\n",
       "      <td>1130</td>\n",
       "      <td>930</td>\n",
       "      <td>200</td>\n",
       "      <td>3.019276</td>\n",
       "      <td>1.591323</td>\n",
       "      <td>[[0.39239728450775146, 0.6695157289505005, 0.3...</td>\n",
       "      <td>\"the largest and most powerful mafia organisa...</td>\n",
       "      <td>...</td>\n",
       "      <td>False</td>\n",
       "      <td>1.0</td>\n",
       "      <td>0.0</td>\n",
       "      <td>[False, False, False, False, False, False, Fal...</td>\n",
       "      <td>0.531480</td>\n",
       "      <td>49.959114</td>\n",
       "      <td>23.406847</td>\n",
       "      <td>1.0</td>\n",
       "      <td>0.531480</td>\n",
       "      <td>0.249009</td>\n",
       "    </tr>\n",
       "    <tr>\n",
       "      <th>66191</th>\n",
       "      <td>1632</td>\n",
       "      <td>Does Age Predict Technology Adoption?\\nA commo...</td>\n",
       "      <td>than bound paper, ink and glue to younger or ...</td>\n",
       "      <td>886</td>\n",
       "      <td>686</td>\n",
       "      <td>200</td>\n",
       "      <td>1.283562</td>\n",
       "      <td>3.061106</td>\n",
       "      <td>[[0.11953060328960419, 0.625767171382904, 0.38...</td>\n",
       "      <td>than that of a traditional print copy. In som...</td>\n",
       "      <td>...</td>\n",
       "      <td>False</td>\n",
       "      <td>1.0</td>\n",
       "      <td>0.0</td>\n",
       "      <td>[False, False, False, False, False, False, Fal...</td>\n",
       "      <td>0.213594</td>\n",
       "      <td>42.718895</td>\n",
       "      <td>33.594375</td>\n",
       "      <td>1.0</td>\n",
       "      <td>0.213594</td>\n",
       "      <td>0.167972</td>\n",
       "    </tr>\n",
       "    <tr>\n",
       "      <th>66192</th>\n",
       "      <td>1633</td>\n",
       "      <td>CES attendees inspect Intel UltraBooks at the ...</td>\n",
       "      <td>appease the growing number of employees who a...</td>\n",
       "      <td>1219</td>\n",
       "      <td>1019</td>\n",
       "      <td>200</td>\n",
       "      <td>3.045814</td>\n",
       "      <td>0.448559</td>\n",
       "      <td>[[0.9118322134017944, 0.8717396259307861, 0.69...</td>\n",
       "      <td>keep a laptop in the office and another in th...</td>\n",
       "      <td>...</td>\n",
       "      <td>False</td>\n",
       "      <td>1.0</td>\n",
       "      <td>0.0</td>\n",
       "      <td>[False, False, False, False, False, False, Fal...</td>\n",
       "      <td>0.622416</td>\n",
       "      <td>8.713821</td>\n",
       "      <td>3.290201</td>\n",
       "      <td>1.0</td>\n",
       "      <td>0.622416</td>\n",
       "      <td>0.235014</td>\n",
       "    </tr>\n",
       "    <tr>\n",
       "      <th>66193</th>\n",
       "      <td>1635</td>\n",
       "      <td>Washington, Mar. 9 - Israel is the only safe p...</td>\n",
       "      <td>a wave of church destructions and in Iran, co...</td>\n",
       "      <td>523</td>\n",
       "      <td>323</td>\n",
       "      <td>200</td>\n",
       "      <td>2.861036</td>\n",
       "      <td>2.960533</td>\n",
       "      <td>[[0.693812370300293, 0.6877695322036743, 0.826...</td>\n",
       "      <td>a surge in violence against Christians, espec...</td>\n",
       "      <td>...</td>\n",
       "      <td>False</td>\n",
       "      <td>1.0</td>\n",
       "      <td>0.0</td>\n",
       "      <td>[False, False, False, False, False, False, Fal...</td>\n",
       "      <td>0.243750</td>\n",
       "      <td>48.749969</td>\n",
       "      <td>36.867172</td>\n",
       "      <td>1.0</td>\n",
       "      <td>0.243750</td>\n",
       "      <td>0.184336</td>\n",
       "    </tr>\n",
       "  </tbody>\n",
       "</table>\n",
       "<p>5 rows × 77 columns</p>\n",
       "</div>"
      ],
      "text/plain": [
       "        idx                                    truncated_input  \\\n",
       "66189  1629  The cast of the 90s TV show, Hip Hip Hurray, j...   \n",
       "66190  1631  Seated left to right are Viktor Averin, Sergei...   \n",
       "66191  1632  Does Age Predict Technology Adoption?\\nA commo...   \n",
       "66192  1633  CES attendees inspect Intel UltraBooks at the ...   \n",
       "66193  1635  Washington, Mar. 9 - Israel is the only safe p...   \n",
       "\n",
       "                                     baseline_completion  orig_sample_length  \\\n",
       "66189  ed the picture post as: Nostalgia#at its best....                 319   \n",
       "66190   \"arguably the mightiest organised crime group...                1130   \n",
       "66191   than bound paper, ink and glue to younger or ...                 886   \n",
       "66192   appease the growing number of employees who a...                1219   \n",
       "66193   a wave of church destructions and in Iran, co...                 523   \n",
       "\n",
       "       prompt_length  real_completion_length  no_bl_gen_time  w_bl_gen_time  \\\n",
       "66189            119                     200        2.813786       0.767504   \n",
       "66190            930                     200        3.019276       1.591323   \n",
       "66191            686                     200        1.283562       3.061106   \n",
       "66192           1019                     200        3.045814       0.448559   \n",
       "66193            323                     200        2.861036       2.960533   \n",
       "\n",
       "                                         spike_entropies  \\\n",
       "66189  [[0.10299381613731384, 0.3138567805290222, 0.2...   \n",
       "66190  [[0.39239728450775146, 0.6695157289505005, 0.3...   \n",
       "66191  [[0.11953060328960419, 0.625767171382904, 0.38...   \n",
       "66192  [[0.9118322134017944, 0.8717396259307861, 0.69...   \n",
       "66193  [[0.693812370300293, 0.6877695322036743, 0.826...   \n",
       "\n",
       "                                            no_bl_output  ...  \\\n",
       "66189  ed the post, \"No cast ever.... (sic).\"\\nHere's...  ...   \n",
       "66190   \"the largest and most powerful mafia organisa...  ...   \n",
       "66191   than that of a traditional print copy. In som...  ...   \n",
       "66192   keep a laptop in the office and another in th...  ...   \n",
       "66193   a surge in violence against Christians, espec...  ...   \n",
       "\n",
       "      w_bl_num_toks_gend_eq_0  w_bl_whitelist_fraction  \\\n",
       "66189                   False                      1.0   \n",
       "66190                   False                      1.0   \n",
       "66191                   False                      1.0   \n",
       "66192                   False                      1.0   \n",
       "66193                   False                      1.0   \n",
       "\n",
       "       w_bl_blacklist_fraction  \\\n",
       "66189                      0.0   \n",
       "66190                      0.0   \n",
       "66191                      0.0   \n",
       "66192                      0.0   \n",
       "66193                      0.0   \n",
       "\n",
       "                                           w_bl_hit_list  avg_spike_entropy  \\\n",
       "66189  [False, False, False, False, False, False, Fal...           0.505296   \n",
       "66190  [False, False, False, False, False, False, Fal...           0.531480   \n",
       "66191  [False, False, False, False, False, False, Fal...           0.213594   \n",
       "66192  [False, False, False, False, False, False, Fal...           0.622416   \n",
       "66193  [False, False, False, False, False, False, Fal...           0.243750   \n",
       "\n",
       "       w_bl_exp_num_wl_tokens  w_bl_var_num_wl_tokens  exp_wl_coef  \\\n",
       "66189               26.275373               12.998542          1.0   \n",
       "66190               49.959114               23.406847          1.0   \n",
       "66191               42.718895               33.594375          1.0   \n",
       "66192                8.713821                3.290201          1.0   \n",
       "66193               48.749969               36.867172          1.0   \n",
       "\n",
       "       w_bl_exp_whitelist_fraction  w_bl_var_whitelist_fraction  \n",
       "66189                     0.505296                     0.249972  \n",
       "66190                     0.531480                     0.249009  \n",
       "66191                     0.213594                     0.167972  \n",
       "66192                     0.622416                     0.235014  \n",
       "66193                     0.243750                     0.184336  \n",
       "\n",
       "[5 rows x 77 columns]"
      ]
     },
     "execution_count": 7,
     "metadata": {},
     "output_type": "execute_result"
    }
   ],
   "source": [
    "print(f\"Orig number of rows: {len(df)}\")\n",
    "df.tail()"
   ]
  },
  {
   "cell_type": "code",
   "execution_count": 8,
   "metadata": {},
   "outputs": [
    {
     "data": {
      "text/plain": [
       "Index(['idx', 'truncated_input', 'baseline_completion', 'orig_sample_length',\n",
       "       'prompt_length', 'real_completion_length', 'no_bl_gen_time',\n",
       "       'w_bl_gen_time', 'spike_entropies', 'no_bl_output', 'w_bl_output',\n",
       "       'no_bl_num_tokens_generated', 'w_bl_num_tokens_generated',\n",
       "       'no_bl_sec_per_tok', 'no_bl_tok_per_sec', 'w_bl_sec_per_tok',\n",
       "       'w_bl_tok_per_sec', 'baseline_loss', 'baseline_ppl', 'no_bl_loss',\n",
       "       'no_bl_ppl', 'w_bl_loss', 'w_bl_ppl', 'model_name', 'dataset_name',\n",
       "       'dataset_config_name', 'shuffle_dataset', 'shuffle_seed',\n",
       "       'shuffle_buffer_size', 'max_new_tokens', 'min_prompt_tokens',\n",
       "       'limit_indices', 'input_truncation_strategy',\n",
       "       'input_filtering_strategy', 'output_filtering_strategy', 'initial_seed',\n",
       "       'dynamic_seed', 'bl_proportion', 'bl_logit_bias', 'bl_type',\n",
       "       'num_beams', 'no_repeat_ngram_size', 'early_stopping',\n",
       "       'oracle_model_name', 'no_wandb', 'wandb_project', 'wandb_entity',\n",
       "       'run_name', 'output_dir', 'load_prev_generations', 'store_bl_ids',\n",
       "       'store_spike_ents', 'use_sampling', 'sampling_temp', 'generate_only',\n",
       "       'SLURM_JOB_ID', 'SLURM_ARRAY_JOB_ID', 'SLURM_ARRAY_TASK_ID',\n",
       "       'gen_table_already_existed', 'baseline_num_toks_gend_eq_0',\n",
       "       'baseline_whitelist_fraction', 'baseline_blacklist_fraction',\n",
       "       'baseline_hit_list', 'no_bl_num_toks_gend_eq_0',\n",
       "       'no_bl_whitelist_fraction', 'no_bl_blacklist_fraction',\n",
       "       'no_bl_hit_list', 'w_bl_num_toks_gend_eq_0', 'w_bl_whitelist_fraction',\n",
       "       'w_bl_blacklist_fraction', 'w_bl_hit_list', 'avg_spike_entropy',\n",
       "       'w_bl_exp_num_wl_tokens', 'w_bl_var_num_wl_tokens', 'exp_wl_coef',\n",
       "       'w_bl_exp_whitelist_fraction', 'w_bl_var_whitelist_fraction'],\n",
       "      dtype='object')"
      ]
     },
     "execution_count": 8,
     "metadata": {},
     "output_type": "execute_result"
    }
   ],
   "source": [
    "df.columns"
   ]
  },
  {
   "attachments": {},
   "cell_type": "markdown",
   "metadata": {},
   "source": [
    "## mega filter block"
   ]
  },
  {
   "cell_type": "code",
   "execution_count": 9,
   "metadata": {},
   "outputs": [
    {
     "name": "stdout",
     "output_type": "stream",
     "text": [
      "Num rows that are hard-blacklisted, and measureable, but still have a non-100% WL fraction: 0 out of 0\n",
      "Dropped 721 rows, new len 65473\n",
      "Dropped 0 rows, new len 65473\n",
      "Dropped 0 rows, new len 65473\n",
      "Dropped 0 rows, new len 65473\n",
      "Dropped 37334 rows, new len 28139\n"
     ]
    }
   ],
   "source": [
    "# drop retok_problematic_rows\n",
    "retok_problematic_rows = df[(df['w_bl_whitelist_fraction'] != -1.0) & (df['w_bl_whitelist_fraction'] != 1.0) & (df['bl_type'] == 'hard')]\n",
    "print(f\"Num rows that are hard-blacklisted, and measureable, but still have a non-100% WL fraction: {len(retok_problematic_rows)} out of {len(df[df['bl_type'] == 'hard'])}\")\n",
    "\n",
    "# drop special rows marked as -1.0\n",
    "orig_len = len(df)\n",
    "\n",
    "# df['no_bl_whitelist_fraction'].mask(df['no_bl_whitelist_fraction'] == -1.0, pd.NA, inplace=True)\n",
    "# df['w_bl_whitelist_fraction'].mask(df['w_bl_whitelist_fraction'] == -1.0, pd.NA, inplace=True)\n",
    "\n",
    "df = df[df[\"no_bl_whitelist_fraction\"] != -1.0]\n",
    "df = df[df[\"w_bl_whitelist_fraction\"] != -1.0]\n",
    "\n",
    "print(f\"Dropped {orig_len-len(df)} rows, new len {len(df)}\")\n",
    "\n",
    "# drop too few tokesn rows\n",
    "\n",
    "orig_len = len(df)\n",
    "# df = df[df[\"no_bl_ppl\"].isna()]\n",
    "# df = df[df[\"w_bl_ppl\"].isna()]\n",
    "df = df[~(df[\"no_bl_ppl\"].isna() | df[\"w_bl_ppl\"].isna())]\n",
    "print(f\"Dropped {orig_len-len(df)} rows, new len {len(df)}\")\n",
    "\n",
    "# drop huge biases\n",
    "orig_len = len(df)\n",
    "\n",
    "df = df[df[\"bl_logit_bias\"] <= 100.0]\n",
    "\n",
    "print(f\"Dropped {orig_len-len(df)} rows, new len {len(df)}\")\n",
    "\n",
    "orig_len = len(df)\n",
    "\n",
    "# df = df[df[\"bl_hparams\"].apply(lambda tup: (tup[0] == False and tup[2] != 1) or (tup[0] == True and tup[2] == 1) or (tup[0] == False))]\n",
    "df = df[((df[\"use_sampling\"]==True) & (df[\"num_beams\"] == 1)) | (df[\"use_sampling\"]==False)]\n",
    "\n",
    "print(f\"Dropped {orig_len-len(df)} rows, new len {len(df)}\")\n",
    "\n",
    "# correct sampling temp\n",
    "df.loc[df[\"use_sampling\"]==False,\"sampling_temp\"] = df.loc[df[\"use_sampling\"]==False,\"sampling_temp\"].fillna(0.0)\n",
    "df.loc[df[\"use_sampling\"]==True,\"sampling_temp\"] = df.loc[df[\"use_sampling\"]==True,\"sampling_temp\"].fillna(1.0)\n",
    "\n",
    "# set to inf for hard blacklist\n",
    "df.loc[df[\"bl_type\"]==\"hard\",\"bl_logit_bias\"] = np.inf\n",
    "# df.loc[df[\"bl_type\"]==\"hard\",\"bl_logit_bias\"] = 10000 # crosscheck with whats hardcoded in the bl processor\n",
    "\n",
    "# rename some stuff\n",
    "df[\"delta\"] = df[\"bl_logit_bias\"].values\n",
    "df[\"gamma\"] = 1 - df[\"bl_proportion\"].values\n",
    "df[\"gamma\"] = df[\"gamma\"].round(3)\n",
    "\n",
    "df[\"no_bl_act_num_wl_tokens\"] = np.round(df[\"no_bl_whitelist_fraction\"].values*df[\"no_bl_num_tokens_generated\"],1) # round to 1 for sanity\n",
    "df[\"w_bl_act_num_wl_tokens\"] = np.round(df[\"w_bl_whitelist_fraction\"].values*df[\"w_bl_num_tokens_generated\"],1) # round to 1 for sanity\n",
    "\n",
    "df[\"w_bl_std_num_wl_tokens\"] = np.sqrt(df[\"w_bl_var_num_wl_tokens\"].values)\n",
    "\n",
    "if \"real_completion_length\":\n",
    "    df[\"baseline_num_tokens_generated\"] = df[\"real_completion_length\"].values\n",
    "\n",
    "if \"actual_attacked_ratio\" in df.columns:\n",
    "    df[\"actual_attacked_fraction\"] = df[\"actual_attacked_ratio\"].values*df[\"replace_ratio\"].values\n",
    "\n",
    "if \"meta\" in df.columns:\n",
    "    df[\"pile_set_name\"] = df[\"meta\"].apply(lambda dict: dict[\"pile_set_name\"])\n",
    "\n",
    "df[\"baseline_hit_list_length\"] = df[\"baseline_hit_list\"].apply(len)\n",
    "df[\"no_bl_hit_list_length\"] = df[\"no_bl_hit_list\"].apply(len)\n",
    "df[\"w_bl_hit_list_length\"] = df[\"w_bl_hit_list\"].apply(len)\n",
    "\n",
    "\n",
    "# for pile outlier filtering\n",
    "df[\"w_bl_space_count\"] = df[\"w_bl_output\"].apply(lambda string: string.count(\" \"))\n",
    "df[\"no_bl_space_count\"] = df[\"no_bl_output\"].apply(lambda string: string.count(\" \"))\n",
    "df[\"baseline_space_count\"] = df[\"baseline_completion\"].apply(lambda string: string.count(\" \"))\n",
    "\n",
    "df[\"w_bl_space_frac\"] = df[\"w_bl_space_count\"].values / df[\"w_bl_hit_list_length\"]\n",
    "df[\"no_bl_space_frac\"] = df[\"no_bl_space_count\"].values / df[\"no_bl_hit_list_length\"]\n",
    "df[\"baseline_space_frac\"] = df[\"baseline_space_count\"].values / df[\"baseline_hit_list_length\"]\n",
    "\n",
    "\n",
    "# Final length filtering \n",
    "\n",
    "orig_len = len(df)\n",
    "\n",
    "# # main filters\n",
    "# # df = df[(df[\"real_completion_length\"] == 200) & (df[\"w_bl_num_tokens_generated\"] == 200)]\n",
    "# df = df[(df[\"gamma\"] == 0.1) | (df[\"gamma\"] == 0.25) | (df[\"gamma\"] == 0.5)]\n",
    "# df = df[(df[\"delta\"] == 1.0) | (df[\"delta\"] == 2.0) | (df[\"delta\"] == 10.0)]\n",
    "# df = df[(df[\"use_sampling\"] == True)]\n",
    "# df = df[(df[\"bl_type\"] == \"soft\")]\n",
    "\n",
    "# df = df[(df[\"real_completion_length\"] == 200) & (df[\"no_bl_num_tokens_generated\"] == 200) & (df[\"w_bl_num_tokens_generated\"] == 200)] # now also applies to the truncated version\n",
    "# df = df[(df[\"no_bl_num_tokens_generated\"] >= 500) & (df[\"w_bl_num_tokens_generated\"] >= 500)] # all gas noop\n",
    "\n",
    "# # # attack specific\n",
    "# df = df[(df[\"real_completion_length\"] == 200) & (df[\"no_bl_num_tokens_generated\"] == 200) & (df[\"w_bl_num_tokens_generated\"] == 200)]\n",
    "# df = df[(df[\"replace_ratio\"] <= 0.7)]\n",
    "\n",
    "# # NOTE pile only\n",
    "# df = df[df[\"w_bl_space_frac\"] <= 0.9]\n",
    "# df = df[df[\"no_bl_space_frac\"] <= 0.9]\n",
    "# df = df[df[\"pile_set_name\"] != \"Github\"]\n",
    "\n",
    "upper_T = 205\n",
    "lower_T = 195\n",
    "df = df[(df[\"baseline_hit_list_length\"] >= lower_T) & (df[\"no_bl_hit_list_length\"] >= lower_T) & (df[\"w_bl_hit_list_length\"] >= lower_T)] # now also applies to the truncated version\n",
    "df = df[(df[\"baseline_hit_list_length\"] <= upper_T) & (df[\"no_bl_hit_list_length\"] <= upper_T) & (df[\"w_bl_hit_list_length\"] <= upper_T)] # now also applies to the truncated version\n",
    "\n",
    "\n",
    "print(f\"Dropped {orig_len-len(df)} rows, new len {len(df)}\")"
   ]
  },
  {
   "attachments": {},
   "cell_type": "markdown",
   "metadata": {},
   "source": [
    "# Add z-scores"
   ]
  },
  {
   "cell_type": "code",
   "execution_count": 10,
   "metadata": {},
   "outputs": [],
   "source": [
    "from math import sqrt\n",
    "import scipy.stats\n",
    "def compute_z_score(observed_wl_frac, T, gamma):\n",
    "    numer = observed_wl_frac - gamma\n",
    "    denom = sqrt(gamma*(1-gamma)/T)\n",
    "    z = numer/denom\n",
    "    return z\n",
    "\n",
    "def compute_wl_for_z(z, T, gamma):\n",
    "    denom = sqrt(gamma*(1-gamma)/T)\n",
    "    numer = ((z*denom)+gamma)*T\n",
    "    return numer\n",
    "\n",
    "def compute_p_value(z):\n",
    "    p_value = scipy.stats.norm.sf(z)\n",
    "    return p_value\n",
    "\n",
    "df[\"baseline_z_score\"] = df[[\"baseline_whitelist_fraction\", \"baseline_num_tokens_generated\", \"gamma\"]].apply(lambda tup: compute_z_score(*tup), axis=1)\n",
    "df[\"no_bl_z_score\"] = df[[\"no_bl_whitelist_fraction\", \"no_bl_num_tokens_generated\", \"gamma\"]].apply(lambda tup: compute_z_score(*tup), axis=1)\n",
    "df[\"w_bl_z_score\"] = df[[\"w_bl_whitelist_fraction\", \"w_bl_num_tokens_generated\", \"gamma\"]].apply(lambda tup: compute_z_score(*tup), axis=1)\n",
    "\n",
    "if \"w_bl_attacked_whitelist_fraction\" in df.columns:\n",
    "    df[\"w_bl_attacked_z_score\"] = df[[\"w_bl_attacked_whitelist_fraction\", \"w_bl_attacked_num_tokens_generated\", \"gamma\"]].apply(lambda tup: compute_z_score(*tup), axis=1)"
   ]
  },
  {
   "cell_type": "code",
   "execution_count": 11,
   "metadata": {},
   "outputs": [],
   "source": [
    "# if attacked in df\n",
    "if \"w_bl_attacked_whitelist_fraction\" in df.columns:\n",
    "    df[\"w_bl_attacked_act_num_wl_tokens\"] = np.round(df[\"w_bl_attacked_whitelist_fraction\"].values*df[\"w_bl_attacked_num_tokens_generated\"],1) # round to 1 for sanity\n",
    "\n",
    "    df[\"w_bl_attacked_z_score\"] = df[[\"w_bl_attacked_whitelist_fraction\", \"w_bl_attacked_num_tokens_generated\", \"gamma\"]].apply(lambda tup: compute_z_score(*tup), axis=1)\n",
    "\n",
    "    df[[\"bl_proportion\",\"w_bl_attacked_whitelist_fraction\", \"w_bl_attacked_num_tokens_generated\",\"w_bl_attacked_act_num_wl_tokens\", \"w_bl_attacked_z_score\"]]"
   ]
  },
  {
   "attachments": {},
   "cell_type": "markdown",
   "metadata": {},
   "source": [
    "# Groupby (decide which hyperparameters to groups the rows by)"
   ]
  },
  {
   "cell_type": "code",
   "execution_count": 12,
   "metadata": {},
   "outputs": [],
   "source": [
    "if \"w_bl_attacked_whitelist_fraction\" in df.columns: \n",
    "    groupby_fields = ['use_sampling','num_beams','gamma','delta', 'replace_ratio'] # attack grouping\n",
    "else:\n",
    "    groupby_fields = ['use_sampling','num_beams','delta','gamma'] # regular grouping"
   ]
  },
  {
   "cell_type": "code",
   "execution_count": 13,
   "metadata": {},
   "outputs": [],
   "source": [
    "grouped_df = df.groupby(groupby_fields)"
   ]
  },
  {
   "cell_type": "code",
   "execution_count": 14,
   "metadata": {},
   "outputs": [
    {
     "name": "stdout",
     "output_type": "stream",
     "text": [
      "Number of rows after filtering: 28139\n",
      "Number of groups: 56\n"
     ]
    }
   ],
   "source": [
    "print(f\"Number of rows after filtering: {len(df)}\")\n",
    "print(f\"Number of groups: {len(grouped_df)}\")"
   ]
  },
  {
   "cell_type": "code",
   "execution_count": 15,
   "metadata": {},
   "outputs": [
    {
     "data": {
      "text/html": [
       "<div>\n",
       "<style scoped>\n",
       "    .dataframe tbody tr th:only-of-type {\n",
       "        vertical-align: middle;\n",
       "    }\n",
       "\n",
       "    .dataframe tbody tr th {\n",
       "        vertical-align: top;\n",
       "    }\n",
       "\n",
       "    .dataframe thead th {\n",
       "        text-align: right;\n",
       "    }\n",
       "</style>\n",
       "<table border=\"1\" class=\"dataframe\">\n",
       "  <thead>\n",
       "    <tr style=\"text-align: right;\">\n",
       "      <th></th>\n",
       "      <th></th>\n",
       "      <th></th>\n",
       "      <th></th>\n",
       "      <th>count</th>\n",
       "      <th>mean</th>\n",
       "      <th>std</th>\n",
       "      <th>min</th>\n",
       "      <th>25%</th>\n",
       "      <th>50%</th>\n",
       "      <th>75%</th>\n",
       "      <th>max</th>\n",
       "    </tr>\n",
       "    <tr>\n",
       "      <th>use_sampling</th>\n",
       "      <th>num_beams</th>\n",
       "      <th>delta</th>\n",
       "      <th>gamma</th>\n",
       "      <th></th>\n",
       "      <th></th>\n",
       "      <th></th>\n",
       "      <th></th>\n",
       "      <th></th>\n",
       "      <th></th>\n",
       "      <th></th>\n",
       "      <th></th>\n",
       "    </tr>\n",
       "  </thead>\n",
       "  <tbody>\n",
       "    <tr>\n",
       "      <th rowspan=\"21\" valign=\"top\">False</th>\n",
       "      <th rowspan=\"7\" valign=\"top\">1</th>\n",
       "      <th>0.1</th>\n",
       "      <th>0.50</th>\n",
       "      <td>497.0</td>\n",
       "      <td>0.775204</td>\n",
       "      <td>2.517472</td>\n",
       "      <td>-6.788225</td>\n",
       "      <td>-0.707107</td>\n",
       "      <td>0.707107</td>\n",
       "      <td>2.262742</td>\n",
       "      <td>13.859293</td>\n",
       "    </tr>\n",
       "    <tr>\n",
       "      <th>0.5</th>\n",
       "      <th>0.50</th>\n",
       "      <td>496.0</td>\n",
       "      <td>2.905542</td>\n",
       "      <td>2.515852</td>\n",
       "      <td>-5.798276</td>\n",
       "      <td>1.320812</td>\n",
       "      <td>2.969848</td>\n",
       "      <td>4.384062</td>\n",
       "      <td>13.859293</td>\n",
       "    </tr>\n",
       "    <tr>\n",
       "      <th>1.0</th>\n",
       "      <th>0.50</th>\n",
       "      <td>497.0</td>\n",
       "      <td>5.407189</td>\n",
       "      <td>2.606488</td>\n",
       "      <td>-3.394113</td>\n",
       "      <td>3.676955</td>\n",
       "      <td>5.515433</td>\n",
       "      <td>7.071068</td>\n",
       "      <td>14.142136</td>\n",
       "    </tr>\n",
       "    <tr>\n",
       "      <th>2.0</th>\n",
       "      <th>0.50</th>\n",
       "      <td>495.0</td>\n",
       "      <td>8.785251</td>\n",
       "      <td>2.422845</td>\n",
       "      <td>-1.555635</td>\n",
       "      <td>7.636753</td>\n",
       "      <td>8.909545</td>\n",
       "      <td>10.182338</td>\n",
       "      <td>14.142136</td>\n",
       "    </tr>\n",
       "    <tr>\n",
       "      <th>5.0</th>\n",
       "      <th>0.50</th>\n",
       "      <td>495.0</td>\n",
       "      <td>12.431525</td>\n",
       "      <td>1.582604</td>\n",
       "      <td>0.848528</td>\n",
       "      <td>11.879394</td>\n",
       "      <td>12.727922</td>\n",
       "      <td>13.435029</td>\n",
       "      <td>14.142136</td>\n",
       "    </tr>\n",
       "    <tr>\n",
       "      <th>10.0</th>\n",
       "      <th>0.50</th>\n",
       "      <td>491.0</td>\n",
       "      <td>13.988974</td>\n",
       "      <td>0.397100</td>\n",
       "      <td>10.748023</td>\n",
       "      <td>14.000714</td>\n",
       "      <td>14.142136</td>\n",
       "      <td>14.142136</td>\n",
       "      <td>14.142136</td>\n",
       "    </tr>\n",
       "    <tr>\n",
       "      <th>50.0</th>\n",
       "      <th>0.50</th>\n",
       "      <td>488.0</td>\n",
       "      <td>14.076854</td>\n",
       "      <td>0.333189</td>\n",
       "      <td>10.748023</td>\n",
       "      <td>14.142136</td>\n",
       "      <td>14.142136</td>\n",
       "      <td>14.142136</td>\n",
       "      <td>14.142136</td>\n",
       "    </tr>\n",
       "    <tr>\n",
       "      <th rowspan=\"7\" valign=\"top\">4</th>\n",
       "      <th>0.1</th>\n",
       "      <th>0.50</th>\n",
       "      <td>500.0</td>\n",
       "      <td>1.225231</td>\n",
       "      <td>1.931048</td>\n",
       "      <td>-5.091169</td>\n",
       "      <td>0.000000</td>\n",
       "      <td>1.272792</td>\n",
       "      <td>2.545584</td>\n",
       "      <td>8.202439</td>\n",
       "    </tr>\n",
       "    <tr>\n",
       "      <th>0.5</th>\n",
       "      <th>0.50</th>\n",
       "      <td>504.0</td>\n",
       "      <td>4.121540</td>\n",
       "      <td>1.785928</td>\n",
       "      <td>-2.545584</td>\n",
       "      <td>2.969848</td>\n",
       "      <td>4.101219</td>\n",
       "      <td>5.232590</td>\n",
       "      <td>9.616652</td>\n",
       "    </tr>\n",
       "    <tr>\n",
       "      <th>1.0</th>\n",
       "      <th>0.50</th>\n",
       "      <td>506.0</td>\n",
       "      <td>7.248399</td>\n",
       "      <td>1.827018</td>\n",
       "      <td>1.838478</td>\n",
       "      <td>6.146552</td>\n",
       "      <td>7.212489</td>\n",
       "      <td>8.485281</td>\n",
       "      <td>12.586501</td>\n",
       "    </tr>\n",
       "    <tr>\n",
       "      <th>2.0</th>\n",
       "      <th>0.50</th>\n",
       "      <td>504.0</td>\n",
       "      <td>11.145401</td>\n",
       "      <td>1.429662</td>\n",
       "      <td>3.252691</td>\n",
       "      <td>10.465180</td>\n",
       "      <td>11.455130</td>\n",
       "      <td>12.020815</td>\n",
       "      <td>13.859293</td>\n",
       "    </tr>\n",
       "    <tr>\n",
       "      <th>5.0</th>\n",
       "      <th>0.50</th>\n",
       "      <td>507.0</td>\n",
       "      <td>13.921719</td>\n",
       "      <td>0.441143</td>\n",
       "      <td>8.909545</td>\n",
       "      <td>13.859293</td>\n",
       "      <td>14.000714</td>\n",
       "      <td>14.142136</td>\n",
       "      <td>14.142136</td>\n",
       "    </tr>\n",
       "    <tr>\n",
       "      <th>10.0</th>\n",
       "      <th>0.50</th>\n",
       "      <td>505.0</td>\n",
       "      <td>14.112293</td>\n",
       "      <td>0.129659</td>\n",
       "      <td>12.586501</td>\n",
       "      <td>14.142136</td>\n",
       "      <td>14.142136</td>\n",
       "      <td>14.142136</td>\n",
       "      <td>14.142136</td>\n",
       "    </tr>\n",
       "    <tr>\n",
       "      <th>50.0</th>\n",
       "      <th>0.50</th>\n",
       "      <td>508.0</td>\n",
       "      <td>14.117756</td>\n",
       "      <td>0.123950</td>\n",
       "      <td>12.586501</td>\n",
       "      <td>14.142136</td>\n",
       "      <td>14.142136</td>\n",
       "      <td>14.142136</td>\n",
       "      <td>14.142136</td>\n",
       "    </tr>\n",
       "    <tr>\n",
       "      <th rowspan=\"7\" valign=\"top\">8</th>\n",
       "      <th>0.1</th>\n",
       "      <th>0.50</th>\n",
       "      <td>501.0</td>\n",
       "      <td>1.194271</td>\n",
       "      <td>1.867354</td>\n",
       "      <td>-5.232590</td>\n",
       "      <td>0.141421</td>\n",
       "      <td>1.272792</td>\n",
       "      <td>2.404163</td>\n",
       "      <td>6.646804</td>\n",
       "    </tr>\n",
       "    <tr>\n",
       "      <th>0.5</th>\n",
       "      <th>0.50</th>\n",
       "      <td>503.0</td>\n",
       "      <td>4.403488</td>\n",
       "      <td>1.913617</td>\n",
       "      <td>-2.687006</td>\n",
       "      <td>3.252691</td>\n",
       "      <td>4.477159</td>\n",
       "      <td>5.656854</td>\n",
       "      <td>10.889444</td>\n",
       "    </tr>\n",
       "    <tr>\n",
       "      <th>1.0</th>\n",
       "      <th>0.50</th>\n",
       "      <td>501.0</td>\n",
       "      <td>7.862284</td>\n",
       "      <td>1.909225</td>\n",
       "      <td>1.414214</td>\n",
       "      <td>6.788225</td>\n",
       "      <td>7.919596</td>\n",
       "      <td>9.192388</td>\n",
       "      <td>12.586501</td>\n",
       "    </tr>\n",
       "    <tr>\n",
       "      <th>2.0</th>\n",
       "      <th>0.50</th>\n",
       "      <td>502.0</td>\n",
       "      <td>11.743655</td>\n",
       "      <td>1.245523</td>\n",
       "      <td>3.959798</td>\n",
       "      <td>11.172287</td>\n",
       "      <td>11.879394</td>\n",
       "      <td>12.586501</td>\n",
       "      <td>14.000714</td>\n",
       "    </tr>\n",
       "    <tr>\n",
       "      <th>5.0</th>\n",
       "      <th>0.50</th>\n",
       "      <td>498.0</td>\n",
       "      <td>14.048135</td>\n",
       "      <td>0.184397</td>\n",
       "      <td>12.162237</td>\n",
       "      <td>14.000714</td>\n",
       "      <td>14.142136</td>\n",
       "      <td>14.142136</td>\n",
       "      <td>14.142136</td>\n",
       "    </tr>\n",
       "    <tr>\n",
       "      <th>10.0</th>\n",
       "      <th>0.50</th>\n",
       "      <td>500.0</td>\n",
       "      <td>14.118455</td>\n",
       "      <td>0.145913</td>\n",
       "      <td>11.879394</td>\n",
       "      <td>14.142136</td>\n",
       "      <td>14.142136</td>\n",
       "      <td>14.142136</td>\n",
       "      <td>14.142136</td>\n",
       "    </tr>\n",
       "    <tr>\n",
       "      <th>50.0</th>\n",
       "      <th>0.50</th>\n",
       "      <td>502.0</td>\n",
       "      <td>14.120095</td>\n",
       "      <td>0.144250</td>\n",
       "      <td>11.879394</td>\n",
       "      <td>14.142136</td>\n",
       "      <td>14.142136</td>\n",
       "      <td>14.142136</td>\n",
       "      <td>14.142136</td>\n",
       "    </tr>\n",
       "    <tr>\n",
       "      <th rowspan=\"35\" valign=\"top\">True</th>\n",
       "      <th rowspan=\"35\" valign=\"top\">1</th>\n",
       "      <th rowspan=\"5\" valign=\"top\">0.1</th>\n",
       "      <th>0.10</th>\n",
       "      <td>507.0</td>\n",
       "      <td>0.794085</td>\n",
       "      <td>1.477187</td>\n",
       "      <td>-4.477159</td>\n",
       "      <td>-0.235702</td>\n",
       "      <td>0.707107</td>\n",
       "      <td>1.649916</td>\n",
       "      <td>5.605258</td>\n",
       "    </tr>\n",
       "    <tr>\n",
       "      <th>0.25</th>\n",
       "      <td>510.0</td>\n",
       "      <td>0.174547</td>\n",
       "      <td>1.231675</td>\n",
       "      <td>-3.265986</td>\n",
       "      <td>-0.653197</td>\n",
       "      <td>0.163299</td>\n",
       "      <td>0.979796</td>\n",
       "      <td>8.491564</td>\n",
       "    </tr>\n",
       "    <tr>\n",
       "      <th>0.50</th>\n",
       "      <td>504.0</td>\n",
       "      <td>0.785959</td>\n",
       "      <td>1.331575</td>\n",
       "      <td>-3.676955</td>\n",
       "      <td>0.000000</td>\n",
       "      <td>0.848528</td>\n",
       "      <td>1.555635</td>\n",
       "      <td>10.465180</td>\n",
       "    </tr>\n",
       "    <tr>\n",
       "      <th>0.75</th>\n",
       "      <td>506.0</td>\n",
       "      <td>0.769141</td>\n",
       "      <td>1.216546</td>\n",
       "      <td>-6.858571</td>\n",
       "      <td>0.163299</td>\n",
       "      <td>0.816497</td>\n",
       "      <td>1.632993</td>\n",
       "      <td>4.409082</td>\n",
       "    </tr>\n",
       "    <tr>\n",
       "      <th>0.90</th>\n",
       "      <td>505.0</td>\n",
       "      <td>0.426764</td>\n",
       "      <td>1.078141</td>\n",
       "      <td>-3.064129</td>\n",
       "      <td>-0.235702</td>\n",
       "      <td>0.471405</td>\n",
       "      <td>1.178511</td>\n",
       "      <td>3.771236</td>\n",
       "    </tr>\n",
       "    <tr>\n",
       "      <th rowspan=\"5\" valign=\"top\">0.5</th>\n",
       "      <th>0.10</th>\n",
       "      <td>502.0</td>\n",
       "      <td>2.190078</td>\n",
       "      <td>1.583207</td>\n",
       "      <td>-2.357023</td>\n",
       "      <td>1.178511</td>\n",
       "      <td>2.121320</td>\n",
       "      <td>3.299832</td>\n",
       "      <td>7.071068</td>\n",
       "    </tr>\n",
       "    <tr>\n",
       "      <th>0.25</th>\n",
       "      <td>503.0</td>\n",
       "      <td>2.067980</td>\n",
       "      <td>1.321680</td>\n",
       "      <td>-1.796292</td>\n",
       "      <td>1.143095</td>\n",
       "      <td>2.122891</td>\n",
       "      <td>2.939388</td>\n",
       "      <td>7.185170</td>\n",
       "    </tr>\n",
       "    <tr>\n",
       "      <th>0.50</th>\n",
       "      <td>503.0</td>\n",
       "      <td>2.769410</td>\n",
       "      <td>1.401529</td>\n",
       "      <td>-12.020815</td>\n",
       "      <td>2.121320</td>\n",
       "      <td>2.828427</td>\n",
       "      <td>3.535534</td>\n",
       "      <td>6.788225</td>\n",
       "    </tr>\n",
       "    <tr>\n",
       "      <th>0.75</th>\n",
       "      <td>504.0</td>\n",
       "      <td>2.258562</td>\n",
       "      <td>1.120684</td>\n",
       "      <td>-3.265986</td>\n",
       "      <td>1.469694</td>\n",
       "      <td>2.286190</td>\n",
       "      <td>3.102687</td>\n",
       "      <td>5.552177</td>\n",
       "    </tr>\n",
       "    <tr>\n",
       "      <th>0.90</th>\n",
       "      <td>515.0</td>\n",
       "      <td>1.352280</td>\n",
       "      <td>1.087089</td>\n",
       "      <td>-4.949747</td>\n",
       "      <td>0.707107</td>\n",
       "      <td>1.414214</td>\n",
       "      <td>2.121320</td>\n",
       "      <td>3.535534</td>\n",
       "    </tr>\n",
       "    <tr>\n",
       "      <th rowspan=\"5\" valign=\"top\">1.0</th>\n",
       "      <th>0.10</th>\n",
       "      <td>506.0</td>\n",
       "      <td>4.505423</td>\n",
       "      <td>1.912686</td>\n",
       "      <td>-3.535534</td>\n",
       "      <td>3.299832</td>\n",
       "      <td>4.478343</td>\n",
       "      <td>5.656854</td>\n",
       "      <td>11.394250</td>\n",
       "    </tr>\n",
       "    <tr>\n",
       "      <th>0.25</th>\n",
       "      <td>506.0</td>\n",
       "      <td>4.788918</td>\n",
       "      <td>1.523620</td>\n",
       "      <td>-0.653197</td>\n",
       "      <td>3.919184</td>\n",
       "      <td>4.898979</td>\n",
       "      <td>5.715476</td>\n",
       "      <td>8.981462</td>\n",
       "    </tr>\n",
       "    <tr>\n",
       "      <th>0.50</th>\n",
       "      <td>506.0</td>\n",
       "      <td>4.899046</td>\n",
       "      <td>1.496086</td>\n",
       "      <td>-1.272792</td>\n",
       "      <td>4.101219</td>\n",
       "      <td>5.091169</td>\n",
       "      <td>5.939697</td>\n",
       "      <td>11.313708</td>\n",
       "    </tr>\n",
       "    <tr>\n",
       "      <th>0.75</th>\n",
       "      <td>504.0</td>\n",
       "      <td>3.794776</td>\n",
       "      <td>1.005397</td>\n",
       "      <td>-0.326599</td>\n",
       "      <td>3.265986</td>\n",
       "      <td>3.919184</td>\n",
       "      <td>4.427768</td>\n",
       "      <td>6.042075</td>\n",
       "    </tr>\n",
       "    <tr>\n",
       "      <th>0.90</th>\n",
       "      <td>501.0</td>\n",
       "      <td>2.187248</td>\n",
       "      <td>0.995490</td>\n",
       "      <td>-3.771236</td>\n",
       "      <td>1.649916</td>\n",
       "      <td>2.357023</td>\n",
       "      <td>2.828427</td>\n",
       "      <td>4.714045</td>\n",
       "    </tr>\n",
       "    <tr>\n",
       "      <th rowspan=\"5\" valign=\"top\">2.0</th>\n",
       "      <th>0.10</th>\n",
       "      <td>507.0</td>\n",
       "      <td>11.266219</td>\n",
       "      <td>2.745536</td>\n",
       "      <td>1.649916</td>\n",
       "      <td>9.663793</td>\n",
       "      <td>11.078006</td>\n",
       "      <td>12.963624</td>\n",
       "      <td>26.870058</td>\n",
       "    </tr>\n",
       "    <tr>\n",
       "      <th>0.25</th>\n",
       "      <td>505.0</td>\n",
       "      <td>10.669313</td>\n",
       "      <td>2.263002</td>\n",
       "      <td>-1.143095</td>\n",
       "      <td>9.308061</td>\n",
       "      <td>10.614456</td>\n",
       "      <td>11.920850</td>\n",
       "      <td>24.331598</td>\n",
       "    </tr>\n",
       "    <tr>\n",
       "      <th>0.50</th>\n",
       "      <td>507.0</td>\n",
       "      <td>8.520831</td>\n",
       "      <td>1.498280</td>\n",
       "      <td>-1.131371</td>\n",
       "      <td>7.919596</td>\n",
       "      <td>8.768124</td>\n",
       "      <td>9.333810</td>\n",
       "      <td>12.727922</td>\n",
       "    </tr>\n",
       "    <tr>\n",
       "      <th>0.75</th>\n",
       "      <td>505.0</td>\n",
       "      <td>5.494584</td>\n",
       "      <td>1.076413</td>\n",
       "      <td>-1.469694</td>\n",
       "      <td>5.062279</td>\n",
       "      <td>5.552177</td>\n",
       "      <td>6.205374</td>\n",
       "      <td>8.164966</td>\n",
       "    </tr>\n",
       "    <tr>\n",
       "      <th>0.90</th>\n",
       "      <td>505.0</td>\n",
       "      <td>3.283954</td>\n",
       "      <td>0.826203</td>\n",
       "      <td>-2.357023</td>\n",
       "      <td>2.828427</td>\n",
       "      <td>3.299832</td>\n",
       "      <td>3.771236</td>\n",
       "      <td>4.714045</td>\n",
       "    </tr>\n",
       "    <tr>\n",
       "      <th rowspan=\"5\" valign=\"top\">5.0</th>\n",
       "      <th>0.10</th>\n",
       "      <td>501.0</td>\n",
       "      <td>33.031715</td>\n",
       "      <td>4.074784</td>\n",
       "      <td>20.270394</td>\n",
       "      <td>30.405592</td>\n",
       "      <td>32.762614</td>\n",
       "      <td>35.119637</td>\n",
       "      <td>42.426407</td>\n",
       "    </tr>\n",
       "    <tr>\n",
       "      <th>0.25</th>\n",
       "      <td>503.0</td>\n",
       "      <td>21.247814</td>\n",
       "      <td>1.998682</td>\n",
       "      <td>4.536092</td>\n",
       "      <td>20.085816</td>\n",
       "      <td>21.392210</td>\n",
       "      <td>22.535306</td>\n",
       "      <td>24.494897</td>\n",
       "    </tr>\n",
       "    <tr>\n",
       "      <th>0.50</th>\n",
       "      <td>504.0</td>\n",
       "      <td>12.566653</td>\n",
       "      <td>1.241437</td>\n",
       "      <td>2.828427</td>\n",
       "      <td>12.162237</td>\n",
       "      <td>12.866145</td>\n",
       "      <td>13.293607</td>\n",
       "      <td>14.142136</td>\n",
       "    </tr>\n",
       "    <tr>\n",
       "      <th>0.75</th>\n",
       "      <td>502.0</td>\n",
       "      <td>7.432600</td>\n",
       "      <td>0.752119</td>\n",
       "      <td>0.163299</td>\n",
       "      <td>7.185170</td>\n",
       "      <td>7.513393</td>\n",
       "      <td>7.838367</td>\n",
       "      <td>8.164966</td>\n",
       "    </tr>\n",
       "    <tr>\n",
       "      <th>0.90</th>\n",
       "      <td>501.0</td>\n",
       "      <td>4.275912</td>\n",
       "      <td>0.514057</td>\n",
       "      <td>-0.235702</td>\n",
       "      <td>4.006938</td>\n",
       "      <td>4.478343</td>\n",
       "      <td>4.714045</td>\n",
       "      <td>4.714045</td>\n",
       "    </tr>\n",
       "    <tr>\n",
       "      <th rowspan=\"5\" valign=\"top\">10.0</th>\n",
       "      <th>0.10</th>\n",
       "      <td>490.0</td>\n",
       "      <td>41.556418</td>\n",
       "      <td>1.800056</td>\n",
       "      <td>19.327585</td>\n",
       "      <td>41.480045</td>\n",
       "      <td>41.956175</td>\n",
       "      <td>42.426407</td>\n",
       "      <td>42.426407</td>\n",
       "    </tr>\n",
       "    <tr>\n",
       "      <th>0.25</th>\n",
       "      <td>499.0</td>\n",
       "      <td>24.166544</td>\n",
       "      <td>0.884251</td>\n",
       "      <td>7.838367</td>\n",
       "      <td>24.007437</td>\n",
       "      <td>24.331598</td>\n",
       "      <td>24.494897</td>\n",
       "      <td>24.494897</td>\n",
       "    </tr>\n",
       "    <tr>\n",
       "      <th>0.50</th>\n",
       "      <td>507.0</td>\n",
       "      <td>13.973804</td>\n",
       "      <td>0.251381</td>\n",
       "      <td>12.162237</td>\n",
       "      <td>13.859293</td>\n",
       "      <td>14.071247</td>\n",
       "      <td>14.142136</td>\n",
       "      <td>14.142136</td>\n",
       "    </tr>\n",
       "    <tr>\n",
       "      <th>0.75</th>\n",
       "      <td>504.0</td>\n",
       "      <td>8.079043</td>\n",
       "      <td>0.183141</td>\n",
       "      <td>6.531973</td>\n",
       "      <td>8.001666</td>\n",
       "      <td>8.164966</td>\n",
       "      <td>8.164966</td>\n",
       "      <td>8.164966</td>\n",
       "    </tr>\n",
       "    <tr>\n",
       "      <th>0.90</th>\n",
       "      <td>504.0</td>\n",
       "      <td>4.641317</td>\n",
       "      <td>0.165916</td>\n",
       "      <td>3.535534</td>\n",
       "      <td>4.714045</td>\n",
       "      <td>4.714045</td>\n",
       "      <td>4.714045</td>\n",
       "      <td>4.714045</td>\n",
       "    </tr>\n",
       "    <tr>\n",
       "      <th rowspan=\"5\" valign=\"top\">50.0</th>\n",
       "      <th>0.10</th>\n",
       "      <td>492.0</td>\n",
       "      <td>41.949981</td>\n",
       "      <td>2.079875</td>\n",
       "      <td>11.549411</td>\n",
       "      <td>42.426407</td>\n",
       "      <td>42.426407</td>\n",
       "      <td>42.426407</td>\n",
       "      <td>42.426407</td>\n",
       "    </tr>\n",
       "    <tr>\n",
       "      <th>0.25</th>\n",
       "      <td>501.0</td>\n",
       "      <td>24.342487</td>\n",
       "      <td>0.520410</td>\n",
       "      <td>18.094221</td>\n",
       "      <td>24.494897</td>\n",
       "      <td>24.494897</td>\n",
       "      <td>24.494897</td>\n",
       "      <td>24.494897</td>\n",
       "    </tr>\n",
       "    <tr>\n",
       "      <th>0.50</th>\n",
       "      <td>505.0</td>\n",
       "      <td>14.069388</td>\n",
       "      <td>0.188683</td>\n",
       "      <td>12.162237</td>\n",
       "      <td>14.142136</td>\n",
       "      <td>14.142136</td>\n",
       "      <td>14.142136</td>\n",
       "      <td>14.142136</td>\n",
       "    </tr>\n",
       "    <tr>\n",
       "      <th>0.75</th>\n",
       "      <td>506.0</td>\n",
       "      <td>8.137593</td>\n",
       "      <td>0.113673</td>\n",
       "      <td>7.033188</td>\n",
       "      <td>8.164966</td>\n",
       "      <td>8.164966</td>\n",
       "      <td>8.164966</td>\n",
       "      <td>8.164966</td>\n",
       "    </tr>\n",
       "    <tr>\n",
       "      <th>0.90</th>\n",
       "      <td>509.0</td>\n",
       "      <td>4.709180</td>\n",
       "      <td>0.035999</td>\n",
       "      <td>4.244986</td>\n",
       "      <td>4.714045</td>\n",
       "      <td>4.714045</td>\n",
       "      <td>4.714045</td>\n",
       "      <td>4.714045</td>\n",
       "    </tr>\n",
       "  </tbody>\n",
       "</table>\n",
       "</div>"
      ],
      "text/plain": [
       "                                    count       mean       std        min  \\\n",
       "use_sampling num_beams delta gamma                                          \n",
       "False        1         0.1   0.50   497.0   0.775204  2.517472  -6.788225   \n",
       "                       0.5   0.50   496.0   2.905542  2.515852  -5.798276   \n",
       "                       1.0   0.50   497.0   5.407189  2.606488  -3.394113   \n",
       "                       2.0   0.50   495.0   8.785251  2.422845  -1.555635   \n",
       "                       5.0   0.50   495.0  12.431525  1.582604   0.848528   \n",
       "                       10.0  0.50   491.0  13.988974  0.397100  10.748023   \n",
       "                       50.0  0.50   488.0  14.076854  0.333189  10.748023   \n",
       "             4         0.1   0.50   500.0   1.225231  1.931048  -5.091169   \n",
       "                       0.5   0.50   504.0   4.121540  1.785928  -2.545584   \n",
       "                       1.0   0.50   506.0   7.248399  1.827018   1.838478   \n",
       "                       2.0   0.50   504.0  11.145401  1.429662   3.252691   \n",
       "                       5.0   0.50   507.0  13.921719  0.441143   8.909545   \n",
       "                       10.0  0.50   505.0  14.112293  0.129659  12.586501   \n",
       "                       50.0  0.50   508.0  14.117756  0.123950  12.586501   \n",
       "             8         0.1   0.50   501.0   1.194271  1.867354  -5.232590   \n",
       "                       0.5   0.50   503.0   4.403488  1.913617  -2.687006   \n",
       "                       1.0   0.50   501.0   7.862284  1.909225   1.414214   \n",
       "                       2.0   0.50   502.0  11.743655  1.245523   3.959798   \n",
       "                       5.0   0.50   498.0  14.048135  0.184397  12.162237   \n",
       "                       10.0  0.50   500.0  14.118455  0.145913  11.879394   \n",
       "                       50.0  0.50   502.0  14.120095  0.144250  11.879394   \n",
       "True         1         0.1   0.10   507.0   0.794085  1.477187  -4.477159   \n",
       "                             0.25   510.0   0.174547  1.231675  -3.265986   \n",
       "                             0.50   504.0   0.785959  1.331575  -3.676955   \n",
       "                             0.75   506.0   0.769141  1.216546  -6.858571   \n",
       "                             0.90   505.0   0.426764  1.078141  -3.064129   \n",
       "                       0.5   0.10   502.0   2.190078  1.583207  -2.357023   \n",
       "                             0.25   503.0   2.067980  1.321680  -1.796292   \n",
       "                             0.50   503.0   2.769410  1.401529 -12.020815   \n",
       "                             0.75   504.0   2.258562  1.120684  -3.265986   \n",
       "                             0.90   515.0   1.352280  1.087089  -4.949747   \n",
       "                       1.0   0.10   506.0   4.505423  1.912686  -3.535534   \n",
       "                             0.25   506.0   4.788918  1.523620  -0.653197   \n",
       "                             0.50   506.0   4.899046  1.496086  -1.272792   \n",
       "                             0.75   504.0   3.794776  1.005397  -0.326599   \n",
       "                             0.90   501.0   2.187248  0.995490  -3.771236   \n",
       "                       2.0   0.10   507.0  11.266219  2.745536   1.649916   \n",
       "                             0.25   505.0  10.669313  2.263002  -1.143095   \n",
       "                             0.50   507.0   8.520831  1.498280  -1.131371   \n",
       "                             0.75   505.0   5.494584  1.076413  -1.469694   \n",
       "                             0.90   505.0   3.283954  0.826203  -2.357023   \n",
       "                       5.0   0.10   501.0  33.031715  4.074784  20.270394   \n",
       "                             0.25   503.0  21.247814  1.998682   4.536092   \n",
       "                             0.50   504.0  12.566653  1.241437   2.828427   \n",
       "                             0.75   502.0   7.432600  0.752119   0.163299   \n",
       "                             0.90   501.0   4.275912  0.514057  -0.235702   \n",
       "                       10.0  0.10   490.0  41.556418  1.800056  19.327585   \n",
       "                             0.25   499.0  24.166544  0.884251   7.838367   \n",
       "                             0.50   507.0  13.973804  0.251381  12.162237   \n",
       "                             0.75   504.0   8.079043  0.183141   6.531973   \n",
       "                             0.90   504.0   4.641317  0.165916   3.535534   \n",
       "                       50.0  0.10   492.0  41.949981  2.079875  11.549411   \n",
       "                             0.25   501.0  24.342487  0.520410  18.094221   \n",
       "                             0.50   505.0  14.069388  0.188683  12.162237   \n",
       "                             0.75   506.0   8.137593  0.113673   7.033188   \n",
       "                             0.90   509.0   4.709180  0.035999   4.244986   \n",
       "\n",
       "                                          25%        50%        75%        max  \n",
       "use_sampling num_beams delta gamma                                              \n",
       "False        1         0.1   0.50   -0.707107   0.707107   2.262742  13.859293  \n",
       "                       0.5   0.50    1.320812   2.969848   4.384062  13.859293  \n",
       "                       1.0   0.50    3.676955   5.515433   7.071068  14.142136  \n",
       "                       2.0   0.50    7.636753   8.909545  10.182338  14.142136  \n",
       "                       5.0   0.50   11.879394  12.727922  13.435029  14.142136  \n",
       "                       10.0  0.50   14.000714  14.142136  14.142136  14.142136  \n",
       "                       50.0  0.50   14.142136  14.142136  14.142136  14.142136  \n",
       "             4         0.1   0.50    0.000000   1.272792   2.545584   8.202439  \n",
       "                       0.5   0.50    2.969848   4.101219   5.232590   9.616652  \n",
       "                       1.0   0.50    6.146552   7.212489   8.485281  12.586501  \n",
       "                       2.0   0.50   10.465180  11.455130  12.020815  13.859293  \n",
       "                       5.0   0.50   13.859293  14.000714  14.142136  14.142136  \n",
       "                       10.0  0.50   14.142136  14.142136  14.142136  14.142136  \n",
       "                       50.0  0.50   14.142136  14.142136  14.142136  14.142136  \n",
       "             8         0.1   0.50    0.141421   1.272792   2.404163   6.646804  \n",
       "                       0.5   0.50    3.252691   4.477159   5.656854  10.889444  \n",
       "                       1.0   0.50    6.788225   7.919596   9.192388  12.586501  \n",
       "                       2.0   0.50   11.172287  11.879394  12.586501  14.000714  \n",
       "                       5.0   0.50   14.000714  14.142136  14.142136  14.142136  \n",
       "                       10.0  0.50   14.142136  14.142136  14.142136  14.142136  \n",
       "                       50.0  0.50   14.142136  14.142136  14.142136  14.142136  \n",
       "True         1         0.1   0.10   -0.235702   0.707107   1.649916   5.605258  \n",
       "                             0.25   -0.653197   0.163299   0.979796   8.491564  \n",
       "                             0.50    0.000000   0.848528   1.555635  10.465180  \n",
       "                             0.75    0.163299   0.816497   1.632993   4.409082  \n",
       "                             0.90   -0.235702   0.471405   1.178511   3.771236  \n",
       "                       0.5   0.10    1.178511   2.121320   3.299832   7.071068  \n",
       "                             0.25    1.143095   2.122891   2.939388   7.185170  \n",
       "                             0.50    2.121320   2.828427   3.535534   6.788225  \n",
       "                             0.75    1.469694   2.286190   3.102687   5.552177  \n",
       "                             0.90    0.707107   1.414214   2.121320   3.535534  \n",
       "                       1.0   0.10    3.299832   4.478343   5.656854  11.394250  \n",
       "                             0.25    3.919184   4.898979   5.715476   8.981462  \n",
       "                             0.50    4.101219   5.091169   5.939697  11.313708  \n",
       "                             0.75    3.265986   3.919184   4.427768   6.042075  \n",
       "                             0.90    1.649916   2.357023   2.828427   4.714045  \n",
       "                       2.0   0.10    9.663793  11.078006  12.963624  26.870058  \n",
       "                             0.25    9.308061  10.614456  11.920850  24.331598  \n",
       "                             0.50    7.919596   8.768124   9.333810  12.727922  \n",
       "                             0.75    5.062279   5.552177   6.205374   8.164966  \n",
       "                             0.90    2.828427   3.299832   3.771236   4.714045  \n",
       "                       5.0   0.10   30.405592  32.762614  35.119637  42.426407  \n",
       "                             0.25   20.085816  21.392210  22.535306  24.494897  \n",
       "                             0.50   12.162237  12.866145  13.293607  14.142136  \n",
       "                             0.75    7.185170   7.513393   7.838367   8.164966  \n",
       "                             0.90    4.006938   4.478343   4.714045   4.714045  \n",
       "                       10.0  0.10   41.480045  41.956175  42.426407  42.426407  \n",
       "                             0.25   24.007437  24.331598  24.494897  24.494897  \n",
       "                             0.50   13.859293  14.071247  14.142136  14.142136  \n",
       "                             0.75    8.001666   8.164966   8.164966   8.164966  \n",
       "                             0.90    4.714045   4.714045   4.714045   4.714045  \n",
       "                       50.0  0.10   42.426407  42.426407  42.426407  42.426407  \n",
       "                             0.25   24.494897  24.494897  24.494897  24.494897  \n",
       "                             0.50   14.142136  14.142136  14.142136  14.142136  \n",
       "                             0.75    8.164966   8.164966   8.164966   8.164966  \n",
       "                             0.90    4.714045   4.714045   4.714045   4.714045  "
      ]
     },
     "execution_count": 15,
     "metadata": {},
     "output_type": "execute_result"
    }
   ],
   "source": [
    "grouped_df[\"w_bl_z_score\"].describe()"
   ]
  },
  {
   "attachments": {},
   "cell_type": "markdown",
   "metadata": {},
   "source": [
    "### new metrics"
   ]
  },
  {
   "cell_type": "code",
   "execution_count": 16,
   "metadata": {},
   "outputs": [
    {
     "name": "stdout",
     "output_type": "stream",
     "text": [
      "507 507\n"
     ]
    },
    {
     "name": "stderr",
     "output_type": "stream",
     "text": [
      "100%|██████████| 8/8 [00:25<00:00,  3.23s/it]\n",
      "100%|██████████| 8/8 [00:01<00:00,  4.92it/s]\n"
     ]
    },
    {
     "name": "stdout",
     "output_type": "stream",
     "text": [
      "507 507\n"
     ]
    },
    {
     "name": "stderr",
     "output_type": "stream",
     "text": [
      "100%|██████████| 8/8 [00:01<00:00,  4.55it/s]\n",
      "100%|██████████| 8/8 [00:01<00:00,  4.91it/s]\n"
     ]
    },
    {
     "name": "stdout",
     "output_type": "stream",
     "text": [
      "507 507\n"
     ]
    },
    {
     "name": "stderr",
     "output_type": "stream",
     "text": [
      "100%|██████████| 8/8 [00:01<00:00,  4.55it/s]\n",
      "100%|██████████| 8/8 [00:01<00:00,  4.88it/s]\n"
     ]
    },
    {
     "name": "stdout",
     "output_type": "stream",
     "text": [
      "cohenrence score: baseline 0.6112307937892937, w/ bl 0.6077465531388684, no bl 0.6196773611817369\n"
     ]
    }
   ],
   "source": [
    "# coherence \n",
    "import sys\n",
    "sys.path.insert(0, \"..\")\n",
    "from metrics.coherence import get_coherence_score\n",
    "\n",
    "group = (True, 1, 2.0, 0.5)\n",
    "# group = (False, 1, 2.0, 0.5\n",
    "group_df = grouped_df.get_group(group)\n",
    "\n",
    "prefix_text = group_df[\"truncated_input\"].values.tolist()\n",
    "\n",
    "baseline_completion = group_df[\"baseline_completion\"].values.tolist()\n",
    "w_bl_output = group_df[\"w_bl_output\"].values.tolist()\n",
    "no_bl_output = group_df[\"no_bl_output\"].values.tolist()\n",
    "\n",
    "coherence_ref = get_coherence_score(prefix_text, baseline_completion)\n",
    "coherence_w_bl = get_coherence_score(prefix_text, w_bl_output)\n",
    "coherence_no_bl = get_coherence_score(prefix_text, no_bl_output)\n",
    "\n",
    "print(f\"cohenrence score: baseline {coherence_ref}, w/ bl {coherence_w_bl}, no bl {coherence_no_bl}\")\n"
   ]
  },
  {
   "cell_type": "code",
   "execution_count": 17,
   "metadata": {},
   "outputs": [
    {
     "name": "stderr",
     "output_type": "stream",
     "text": [
      "03/31/2023 14:25:23 - INFO - faiss.loader -   Loading faiss with AVX2 support.\n",
      "03/31/2023 14:25:23 - INFO - faiss.loader -   Successfully loaded faiss with AVX2 support.\n"
     ]
    },
    {
     "name": "stdout",
     "output_type": "stream",
     "text": [
      "initial p_text: 507, q_text: 507\n",
      "remaining p_text: 507, q_text: 507\n"
     ]
    },
    {
     "name": "stderr",
     "output_type": "stream",
     "text": [
      "Featurizing p: 100%|██████████| 507/507 [00:04<00:00, 118.70it/s]\n",
      "Featurizing q: 100%|██████████| 507/507 [00:04<00:00, 119.58it/s]\n",
      "WARNING clustering 1014 points to 51 centroids: please provide at least 1989 training points\n"
     ]
    },
    {
     "name": "stdout",
     "output_type": "stream",
     "text": [
      "initial p_text: 507, q_text: 507\n",
      "remaining p_text: 507, q_text: 507\n"
     ]
    },
    {
     "name": "stderr",
     "output_type": "stream",
     "text": [
      "Featurizing p: 100%|██████████| 507/507 [00:04<00:00, 124.46it/s]\n",
      "Featurizing q: 100%|██████████| 507/507 [00:04<00:00, 124.32it/s]\n",
      "WARNING clustering 1014 points to 51 centroids: please provide at least 1989 training points\n"
     ]
    },
    {
     "name": "stdout",
     "output_type": "stream",
     "text": [
      "0.9199462059182815 0.8585088981213014\n"
     ]
    }
   ],
   "source": [
    "# MAUVE (https://github.com/XiangLi1999/ContrastiveDecoding)\n",
    "import sys\n",
    "sys.path.insert(0, \"..\")\n",
    "from metrics.mauve import get_mauve_score\n",
    "\n",
    "group = (True, 1, 2.0, 0.5)\n",
    "# group = (False, 1, 2.0, 0.5\n",
    "group_df = grouped_df.get_group(group)\n",
    "\n",
    "## first measure betwee baseline and output w/ watermark\n",
    "p_text = group_df[\"baseline_completion\"].values.tolist()\n",
    "q_text_w_bl = group_df[\"w_bl_output\"].values.tolist()\n",
    "q_text_no_bl = group_df[\"no_bl_output\"].values.tolist()\n",
    "\n",
    "mauve_w_bl = get_mauve_score(p_text, q_text_w_bl, max_len=128)\n",
    "mauve_no_bl = get_mauve_score(p_text, q_text_no_bl, max_len=128)\n",
    "\n",
    "print(mauve_w_bl, mauve_no_bl)\n",
    "\n"
   ]
  },
  {
   "cell_type": "code",
   "execution_count": 20,
   "metadata": {},
   "outputs": [
    {
     "name": "stdout",
     "output_type": "stream",
     "text": [
      "initial p_text: 505, q_text: 505\n",
      "remaining p_text: 505, q_text: 505\n"
     ]
    },
    {
     "name": "stderr",
     "output_type": "stream",
     "text": [
      "Featurizing p: 100%|██████████| 505/505 [00:04<00:00, 123.99it/s]\n",
      "Featurizing q: 100%|██████████| 505/505 [00:04<00:00, 123.65it/s]\n",
      "WARNING clustering 1010 points to 50 centroids: please provide at least 1950 training points\n"
     ]
    },
    {
     "name": "stdout",
     "output_type": "stream",
     "text": [
      "initial p_text: 505, q_text: 505\n",
      "remaining p_text: 505, q_text: 505\n"
     ]
    },
    {
     "name": "stderr",
     "output_type": "stream",
     "text": [
      "Featurizing p: 100%|██████████| 505/505 [00:04<00:00, 123.81it/s]\n",
      "Featurizing q: 100%|██████████| 505/505 [00:04<00:00, 123.38it/s]\n",
      "WARNING clustering 1010 points to 50 centroids: please provide at least 1950 training points\n"
     ]
    },
    {
     "name": "stdout",
     "output_type": "stream",
     "text": [
      "initial p_text: 505, q_text: 505\n",
      "remaining p_text: 505, q_text: 505\n"
     ]
    },
    {
     "name": "stderr",
     "output_type": "stream",
     "text": [
      "Featurizing p: 100%|██████████| 505/505 [00:04<00:00, 124.57it/s]\n",
      "Featurizing q: 100%|██████████| 505/505 [00:04<00:00, 122.60it/s]\n",
      "WARNING clustering 1010 points to 50 centroids: please provide at least 1950 training points\n"
     ]
    },
    {
     "name": "stdout",
     "output_type": "stream",
     "text": [
      "initial p_text: 505, q_text: 505\n",
      "remaining p_text: 505, q_text: 505\n"
     ]
    },
    {
     "name": "stderr",
     "output_type": "stream",
     "text": [
      "Featurizing p: 100%|██████████| 505/505 [00:04<00:00, 124.35it/s]\n",
      "Featurizing q: 100%|██████████| 505/505 [00:04<00:00, 121.59it/s]\n",
      "WARNING clustering 1010 points to 50 centroids: please provide at least 1950 training points\n"
     ]
    },
    {
     "name": "stdout",
     "output_type": "stream",
     "text": [
      "initial p_text: 507, q_text: 507\n",
      "remaining p_text: 507, q_text: 507\n"
     ]
    },
    {
     "name": "stderr",
     "output_type": "stream",
     "text": [
      "Featurizing p: 100%|██████████| 507/507 [00:04<00:00, 123.93it/s]\n",
      "Featurizing q: 100%|██████████| 507/507 [00:04<00:00, 121.60it/s]\n",
      "WARNING clustering 1014 points to 51 centroids: please provide at least 1989 training points\n"
     ]
    },
    {
     "name": "stdout",
     "output_type": "stream",
     "text": [
      "initial p_text: 507, q_text: 507\n",
      "remaining p_text: 507, q_text: 507\n"
     ]
    },
    {
     "name": "stderr",
     "output_type": "stream",
     "text": [
      "Featurizing p: 100%|██████████| 507/507 [00:04<00:00, 122.45it/s]\n",
      "Featurizing q: 100%|██████████| 507/507 [00:04<00:00, 122.27it/s]\n",
      "WARNING clustering 1014 points to 51 centroids: please provide at least 1989 training points\n"
     ]
    },
    {
     "name": "stdout",
     "output_type": "stream",
     "text": [
      "initial p_text: 505, q_text: 505\n",
      "remaining p_text: 505, q_text: 505\n"
     ]
    },
    {
     "name": "stderr",
     "output_type": "stream",
     "text": [
      "Featurizing p: 100%|██████████| 505/505 [00:04<00:00, 124.71it/s]\n",
      "Featurizing q: 100%|██████████| 505/505 [00:04<00:00, 124.41it/s]\n",
      "WARNING clustering 1010 points to 50 centroids: please provide at least 1950 training points\n"
     ]
    },
    {
     "name": "stdout",
     "output_type": "stream",
     "text": [
      "initial p_text: 505, q_text: 505\n",
      "remaining p_text: 505, q_text: 505\n"
     ]
    },
    {
     "name": "stderr",
     "output_type": "stream",
     "text": [
      "Featurizing p: 100%|██████████| 505/505 [00:04<00:00, 123.52it/s]\n",
      "Featurizing q: 100%|██████████| 505/505 [00:04<00:00, 123.34it/s]\n",
      "WARNING clustering 1010 points to 50 centroids: please provide at least 1950 training points\n"
     ]
    },
    {
     "name": "stdout",
     "output_type": "stream",
     "text": [
      "initial p_text: 507, q_text: 507\n",
      "remaining p_text: 507, q_text: 507\n"
     ]
    },
    {
     "name": "stderr",
     "output_type": "stream",
     "text": [
      "Featurizing p: 100%|██████████| 507/507 [00:04<00:00, 124.28it/s]\n",
      "Featurizing q: 100%|██████████| 507/507 [00:04<00:00, 124.39it/s]\n",
      "WARNING clustering 1014 points to 51 centroids: please provide at least 1989 training points\n"
     ]
    },
    {
     "name": "stdout",
     "output_type": "stream",
     "text": [
      "initial p_text: 507, q_text: 507\n",
      "remaining p_text: 507, q_text: 507\n"
     ]
    },
    {
     "name": "stderr",
     "output_type": "stream",
     "text": [
      "Featurizing p: 100%|██████████| 507/507 [00:04<00:00, 124.29it/s]\n",
      "Featurizing q: 100%|██████████| 507/507 [00:04<00:00, 122.24it/s]\n",
      "WARNING clustering 1014 points to 51 centroids: please provide at least 1989 training points\n"
     ]
    },
    {
     "name": "stdout",
     "output_type": "stream",
     "text": [
      "initial p_text: 504, q_text: 504\n",
      "remaining p_text: 504, q_text: 504\n"
     ]
    },
    {
     "name": "stderr",
     "output_type": "stream",
     "text": [
      "Featurizing p: 100%|██████████| 504/504 [00:04<00:00, 123.63it/s]\n",
      "Featurizing q: 100%|██████████| 504/504 [00:04<00:00, 122.39it/s]\n",
      "WARNING clustering 1008 points to 50 centroids: please provide at least 1950 training points\n"
     ]
    },
    {
     "name": "stdout",
     "output_type": "stream",
     "text": [
      "initial p_text: 504, q_text: 504\n",
      "remaining p_text: 504, q_text: 504\n"
     ]
    },
    {
     "name": "stderr",
     "output_type": "stream",
     "text": [
      "Featurizing p: 100%|██████████| 504/504 [00:04<00:00, 123.02it/s]\n",
      "Featurizing q: 100%|██████████| 504/504 [00:04<00:00, 121.99it/s]\n",
      "WARNING clustering 1008 points to 50 centroids: please provide at least 1950 training points\n"
     ]
    },
    {
     "name": "stdout",
     "output_type": "stream",
     "text": [
      "initial p_text: 503, q_text: 503\n",
      "remaining p_text: 503, q_text: 503\n"
     ]
    },
    {
     "name": "stderr",
     "output_type": "stream",
     "text": [
      "Featurizing p: 100%|██████████| 503/503 [00:04<00:00, 123.10it/s]\n",
      "Featurizing q: 100%|██████████| 503/503 [00:04<00:00, 123.80it/s]\n",
      "WARNING clustering 1006 points to 50 centroids: please provide at least 1950 training points\n"
     ]
    },
    {
     "name": "stdout",
     "output_type": "stream",
     "text": [
      "initial p_text: 503, q_text: 503\n",
      "remaining p_text: 503, q_text: 503\n"
     ]
    },
    {
     "name": "stderr",
     "output_type": "stream",
     "text": [
      "Featurizing p: 100%|██████████| 503/503 [00:04<00:00, 123.55it/s]\n",
      "Featurizing q: 100%|██████████| 503/503 [00:04<00:00, 124.51it/s]\n",
      "WARNING clustering 1006 points to 50 centroids: please provide at least 1950 training points\n"
     ]
    },
    {
     "name": "stdout",
     "output_type": "stream",
     "text": [
      "initial p_text: 506, q_text: 506\n",
      "remaining p_text: 506, q_text: 506\n"
     ]
    },
    {
     "name": "stderr",
     "output_type": "stream",
     "text": [
      "Featurizing p: 100%|██████████| 506/506 [00:04<00:00, 124.57it/s]\n",
      "Featurizing q: 100%|██████████| 506/506 [00:04<00:00, 124.17it/s]\n",
      "WARNING clustering 1012 points to 51 centroids: please provide at least 1989 training points\n"
     ]
    },
    {
     "name": "stdout",
     "output_type": "stream",
     "text": [
      "initial p_text: 506, q_text: 506\n",
      "remaining p_text: 506, q_text: 506\n"
     ]
    },
    {
     "name": "stderr",
     "output_type": "stream",
     "text": [
      "Featurizing p: 100%|██████████| 506/506 [00:04<00:00, 123.87it/s]\n",
      "Featurizing q: 100%|██████████| 506/506 [00:04<00:00, 124.50it/s]\n",
      "WARNING clustering 1012 points to 51 centroids: please provide at least 1989 training points\n"
     ]
    },
    {
     "name": "stdout",
     "output_type": "stream",
     "text": [
      "initial p_text: 507, q_text: 507\n",
      "remaining p_text: 507, q_text: 507\n"
     ]
    },
    {
     "name": "stderr",
     "output_type": "stream",
     "text": [
      "Featurizing p: 100%|██████████| 507/507 [00:04<00:00, 124.54it/s]\n",
      "Featurizing q: 100%|██████████| 507/507 [00:04<00:00, 124.73it/s]\n",
      "WARNING clustering 1014 points to 51 centroids: please provide at least 1989 training points\n"
     ]
    },
    {
     "name": "stdout",
     "output_type": "stream",
     "text": [
      "initial p_text: 507, q_text: 507\n",
      "remaining p_text: 507, q_text: 507\n"
     ]
    },
    {
     "name": "stderr",
     "output_type": "stream",
     "text": [
      "Featurizing p: 100%|██████████| 507/507 [00:04<00:00, 124.78it/s]\n",
      "Featurizing q: 100%|██████████| 507/507 [00:04<00:00, 124.63it/s]\n",
      "WARNING clustering 1014 points to 51 centroids: please provide at least 1989 training points\n"
     ]
    },
    {
     "name": "stdout",
     "output_type": "stream",
     "text": [
      "initial p_text: 504, q_text: 504\n",
      "remaining p_text: 504, q_text: 504\n"
     ]
    },
    {
     "name": "stderr",
     "output_type": "stream",
     "text": [
      "Featurizing p: 100%|██████████| 504/504 [00:04<00:00, 123.93it/s]\n",
      "Featurizing q: 100%|██████████| 504/504 [00:04<00:00, 123.36it/s]\n",
      "WARNING clustering 1008 points to 50 centroids: please provide at least 1950 training points\n"
     ]
    },
    {
     "name": "stdout",
     "output_type": "stream",
     "text": [
      "initial p_text: 504, q_text: 504\n",
      "remaining p_text: 504, q_text: 504\n"
     ]
    },
    {
     "name": "stderr",
     "output_type": "stream",
     "text": [
      "Featurizing p: 100%|██████████| 504/504 [00:04<00:00, 124.76it/s]\n",
      "Featurizing q: 100%|██████████| 504/504 [00:04<00:00, 124.51it/s]\n",
      "WARNING clustering 1008 points to 50 centroids: please provide at least 1950 training points\n"
     ]
    },
    {
     "data": {
      "text/html": [
       "<div>\n",
       "<style scoped>\n",
       "    .dataframe tbody tr th:only-of-type {\n",
       "        vertical-align: middle;\n",
       "    }\n",
       "\n",
       "    .dataframe tbody tr th {\n",
       "        vertical-align: top;\n",
       "    }\n",
       "\n",
       "    .dataframe thead th {\n",
       "        text-align: right;\n",
       "    }\n",
       "</style>\n",
       "<table border=\"1\" class=\"dataframe\">\n",
       "  <thead>\n",
       "    <tr style=\"text-align: right;\">\n",
       "      <th></th>\n",
       "      <th>sampling</th>\n",
       "      <th>beams</th>\n",
       "      <th>gammas</th>\n",
       "      <th>deltas</th>\n",
       "      <th>no_watermark_mauve</th>\n",
       "      <th>watermark_mauve</th>\n",
       "    </tr>\n",
       "  </thead>\n",
       "  <tbody>\n",
       "    <tr>\n",
       "      <th>0</th>\n",
       "      <td>True</td>\n",
       "      <td>1</td>\n",
       "      <td>0.90</td>\n",
       "      <td>2.0</td>\n",
       "      <td>0.923169</td>\n",
       "      <td>0.959667</td>\n",
       "    </tr>\n",
       "    <tr>\n",
       "      <th>1</th>\n",
       "      <td>True</td>\n",
       "      <td>1</td>\n",
       "      <td>0.75</td>\n",
       "      <td>2.0</td>\n",
       "      <td>0.939498</td>\n",
       "      <td>0.941566</td>\n",
       "    </tr>\n",
       "    <tr>\n",
       "      <th>2</th>\n",
       "      <td>True</td>\n",
       "      <td>1</td>\n",
       "      <td>0.50</td>\n",
       "      <td>2.0</td>\n",
       "      <td>0.858509</td>\n",
       "      <td>0.919946</td>\n",
       "    </tr>\n",
       "    <tr>\n",
       "      <th>3</th>\n",
       "      <td>True</td>\n",
       "      <td>1</td>\n",
       "      <td>0.25</td>\n",
       "      <td>2.0</td>\n",
       "      <td>0.947006</td>\n",
       "      <td>0.888785</td>\n",
       "    </tr>\n",
       "    <tr>\n",
       "      <th>4</th>\n",
       "      <td>True</td>\n",
       "      <td>1</td>\n",
       "      <td>0.10</td>\n",
       "      <td>2.0</td>\n",
       "      <td>0.937360</td>\n",
       "      <td>0.869803</td>\n",
       "    </tr>\n",
       "    <tr>\n",
       "      <th>5</th>\n",
       "      <td>True</td>\n",
       "      <td>1</td>\n",
       "      <td>0.50</td>\n",
       "      <td>0.1</td>\n",
       "      <td>0.911261</td>\n",
       "      <td>0.952374</td>\n",
       "    </tr>\n",
       "    <tr>\n",
       "      <th>6</th>\n",
       "      <td>True</td>\n",
       "      <td>1</td>\n",
       "      <td>0.50</td>\n",
       "      <td>0.5</td>\n",
       "      <td>0.916015</td>\n",
       "      <td>0.912770</td>\n",
       "    </tr>\n",
       "    <tr>\n",
       "      <th>7</th>\n",
       "      <td>True</td>\n",
       "      <td>1</td>\n",
       "      <td>0.50</td>\n",
       "      <td>1.0</td>\n",
       "      <td>0.912959</td>\n",
       "      <td>0.935294</td>\n",
       "    </tr>\n",
       "    <tr>\n",
       "      <th>8</th>\n",
       "      <td>True</td>\n",
       "      <td>1</td>\n",
       "      <td>0.50</td>\n",
       "      <td>2.0</td>\n",
       "      <td>0.858509</td>\n",
       "      <td>0.919946</td>\n",
       "    </tr>\n",
       "    <tr>\n",
       "      <th>9</th>\n",
       "      <td>True</td>\n",
       "      <td>1</td>\n",
       "      <td>0.50</td>\n",
       "      <td>5.0</td>\n",
       "      <td>0.964470</td>\n",
       "      <td>0.929753</td>\n",
       "    </tr>\n",
       "  </tbody>\n",
       "</table>\n",
       "</div>"
      ],
      "text/plain": [
       "   sampling  beams  gammas  deltas  no_watermark_mauve  watermark_mauve\n",
       "0      True      1    0.90     2.0            0.923169         0.959667\n",
       "1      True      1    0.75     2.0            0.939498         0.941566\n",
       "2      True      1    0.50     2.0            0.858509         0.919946\n",
       "3      True      1    0.25     2.0            0.947006         0.888785\n",
       "4      True      1    0.10     2.0            0.937360         0.869803\n",
       "5      True      1    0.50     0.1            0.911261         0.952374\n",
       "6      True      1    0.50     0.5            0.916015         0.912770\n",
       "7      True      1    0.50     1.0            0.912959         0.935294\n",
       "8      True      1    0.50     2.0            0.858509         0.919946\n",
       "9      True      1    0.50     5.0            0.964470         0.929753"
      ]
     },
     "execution_count": 20,
     "metadata": {},
     "output_type": "execute_result"
    }
   ],
   "source": [
    "# make MAUVE plot\n",
    "# Sampling\n",
    "group_list =(\n",
    "    (True, 1, 2.0, 0.9),\n",
    "    (True, 1, 2.0, 0.75),\n",
    "    (True, 1, 2.0, 0.5),\n",
    "    (True, 1, 2.0, 0.25),\n",
    "    (True, 1, 2.0, 0.1),\n",
    "\n",
    "    (True, 1, 0.1, 0.5),\n",
    "    (True, 1, 0.5, 0.5),\n",
    "    (True, 1, 1.0, 0.5),\n",
    "    (True, 1, 2.0, 0.5),\n",
    "    (True, 1, 5.0, 0.5),\n",
    ")\n",
    "\n",
    "sampling, beams, gammas, deltas = [], [], [], []\n",
    "# baseline_mauve = []\n",
    "no_watermark_mauve = []\n",
    "watermark_mauve = []\n",
    "\n",
    "for idx, group in enumerate(group_list):\n",
    "    group_df = grouped_df.get_group(group)\n",
    "\n",
    "    sampling.append(group[0])\n",
    "    beams.append(group[1])\n",
    "    deltas.append(group[2])\n",
    "    gammas.append(group[3])\n",
    "    ## get mauve scores\n",
    "    p_text = group_df[\"baseline_completion\"].values.tolist()\n",
    "    q_text_w_bl = group_df[\"w_bl_output\"].values.tolist()\n",
    "    q_text_no_bl = group_df[\"no_bl_output\"].values.tolist()\n",
    "\n",
    "    watermark_mauve.append(get_mauve_score(p_text, q_text_w_bl, max_len=128))\n",
    "    no_watermark_mauve.append(get_mauve_score(p_text, q_text_no_bl, max_len=128))\n",
    "\n",
    "viz_df = pd.DataFrame()\n",
    "\n",
    "\n",
    "viz_df[\"sampling\"] = sampling\n",
    "viz_df[\"beams\"] = beams\n",
    "viz_df[\"gammas\"] = gammas\n",
    "viz_df[\"deltas\"] = deltas\n",
    "\n",
    "viz_df['no_watermark_mauve'] = no_watermark_mauve\n",
    "viz_df['watermark_mauve'] = watermark_mauve\n",
    "\n",
    "viz_df"
   ]
  },
  {
   "cell_type": "code",
   "execution_count": 21,
   "metadata": {},
   "outputs": [
    {
     "name": "stderr",
     "output_type": "stream",
     "text": [
      "03/31/2023 14:35:03 - INFO - matplotlib.texmanager -   No LaTeX-compatible font found for the serif fontfamily in rcParams. Using default.\n",
      "03/31/2023 14:35:03 - INFO - matplotlib.texmanager -   No LaTeX-compatible font found for the serif fontfamily in rcParams. Using default.\n",
      "03/31/2023 14:35:03 - INFO - matplotlib.texmanager -   No LaTeX-compatible font found for the serif fontfamily in rcParams. Using default.\n",
      "03/31/2023 14:35:04 - INFO - matplotlib.texmanager -   No LaTeX-compatible font found for the serif fontfamily in rcParams. Using default.\n",
      "03/31/2023 14:35:04 - INFO - matplotlib.texmanager -   No LaTeX-compatible font found for the serif fontfamily in rcParams. Using default.\n",
      "03/31/2023 14:35:04 - INFO - matplotlib.texmanager -   No LaTeX-compatible font found for the serif fontfamily in rcParams. Using default.\n",
      "03/31/2023 14:35:04 - INFO - matplotlib.texmanager -   No LaTeX-compatible font found for the serif fontfamily in rcParams. Using default.\n",
      "03/31/2023 14:35:04 - INFO - matplotlib.texmanager -   No LaTeX-compatible font found for the serif fontfamily in rcParams. Using default.\n",
      "03/31/2023 14:35:04 - INFO - matplotlib.texmanager -   No LaTeX-compatible font found for the serif fontfamily in rcParams. Using default.\n",
      "03/31/2023 14:35:04 - INFO - matplotlib.texmanager -   No LaTeX-compatible font found for the serif fontfamily in rcParams. Using default.\n",
      "03/31/2023 14:35:04 - INFO - matplotlib.texmanager -   No LaTeX-compatible font found for the serif fontfamily in rcParams. Using default.\n",
      "03/31/2023 14:35:04 - INFO - matplotlib.texmanager -   No LaTeX-compatible font found for the serif fontfamily in rcParams. Using default.\n",
      "03/31/2023 14:35:04 - INFO - matplotlib.texmanager -   No LaTeX-compatible font found for the serif fontfamily in rcParams. Using default.\n",
      "03/31/2023 14:35:04 - INFO - matplotlib.texmanager -   No LaTeX-compatible font found for the serif fontfamily in rcParams. Using default.\n",
      "03/31/2023 14:35:04 - INFO - matplotlib.texmanager -   No LaTeX-compatible font found for the serif fontfamily in rcParams. Using default.\n",
      "03/31/2023 14:35:04 - INFO - matplotlib.texmanager -   No LaTeX-compatible font found for the serif fontfamily in rcParams. Using default.\n",
      "03/31/2023 14:35:04 - INFO - matplotlib.texmanager -   No LaTeX-compatible font found for the serif fontfamily in rcParams. Using default.\n",
      "03/31/2023 14:35:04 - INFO - matplotlib.texmanager -   No LaTeX-compatible font found for the serif fontfamily in rcParams. Using default.\n",
      "03/31/2023 14:35:04 - INFO - matplotlib.texmanager -   No LaTeX-compatible font found for the serif fontfamily in rcParams. Using default.\n",
      "03/31/2023 14:35:04 - INFO - matplotlib.texmanager -   No LaTeX-compatible font found for the serif fontfamily in rcParams. Using default.\n",
      "03/31/2023 14:35:04 - INFO - matplotlib.texmanager -   No LaTeX-compatible font found for the serif fontfamily in rcParams. Using default.\n",
      "03/31/2023 14:35:05 - INFO - matplotlib.texmanager -   No LaTeX-compatible font found for the serif fontfamily in rcParams. Using default.\n",
      "03/31/2023 14:35:05 - INFO - matplotlib.texmanager -   No LaTeX-compatible font found for the serif fontfamily in rcParams. Using default.\n",
      "03/31/2023 14:35:05 - INFO - matplotlib.texmanager -   No LaTeX-compatible font found for the serif fontfamily in rcParams. Using default.\n",
      "03/31/2023 14:35:05 - INFO - matplotlib.texmanager -   No LaTeX-compatible font found for the serif fontfamily in rcParams. Using default.\n",
      "03/31/2023 14:35:05 - INFO - matplotlib.texmanager -   No LaTeX-compatible font found for the serif fontfamily in rcParams. Using default.\n",
      "03/31/2023 14:35:05 - INFO - matplotlib.texmanager -   No LaTeX-compatible font found for the serif fontfamily in rcParams. Using default.\n",
      "03/31/2023 14:35:05 - INFO - matplotlib.texmanager -   No LaTeX-compatible font found for the serif fontfamily in rcParams. Using default.\n",
      "03/31/2023 14:35:05 - INFO - matplotlib.texmanager -   No LaTeX-compatible font found for the serif fontfamily in rcParams. Using default.\n",
      "03/31/2023 14:35:05 - INFO - matplotlib.texmanager -   No LaTeX-compatible font found for the serif fontfamily in rcParams. Using default.\n",
      "03/31/2023 14:35:05 - INFO - matplotlib.texmanager -   No LaTeX-compatible font found for the serif fontfamily in rcParams. Using default.\n",
      "03/31/2023 14:35:05 - INFO - matplotlib.texmanager -   No LaTeX-compatible font found for the serif fontfamily in rcParams. Using default.\n",
      "03/31/2023 14:35:05 - INFO - matplotlib.texmanager -   No LaTeX-compatible font found for the serif fontfamily in rcParams. Using default.\n",
      "03/31/2023 14:35:05 - INFO - matplotlib.texmanager -   No LaTeX-compatible font found for the serif fontfamily in rcParams. Using default.\n",
      "03/31/2023 14:35:05 - INFO - matplotlib.texmanager -   No LaTeX-compatible font found for the serif fontfamily in rcParams. Using default.\n",
      "03/31/2023 14:35:05 - INFO - matplotlib.texmanager -   No LaTeX-compatible font found for the serif fontfamily in rcParams. Using default.\n",
      "03/31/2023 14:35:05 - INFO - matplotlib.texmanager -   No LaTeX-compatible font found for the serif fontfamily in rcParams. Using default.\n",
      "03/31/2023 14:35:05 - INFO - matplotlib.texmanager -   No LaTeX-compatible font found for the serif fontfamily in rcParams. Using default.\n",
      "03/31/2023 14:35:05 - INFO - matplotlib.texmanager -   No LaTeX-compatible font found for the serif fontfamily in rcParams. Using default.\n",
      "03/31/2023 14:35:05 - INFO - matplotlib.texmanager -   No LaTeX-compatible font found for the serif fontfamily in rcParams. Using default.\n",
      "03/31/2023 14:35:05 - INFO - matplotlib.texmanager -   No LaTeX-compatible font found for the serif fontfamily in rcParams. Using default.\n",
      "03/31/2023 14:35:05 - INFO - matplotlib.texmanager -   No LaTeX-compatible font found for the serif fontfamily in rcParams. Using default.\n",
      "03/31/2023 14:35:05 - INFO - matplotlib.texmanager -   No LaTeX-compatible font found for the serif fontfamily in rcParams. Using default.\n",
      "03/31/2023 14:35:05 - INFO - matplotlib.texmanager -   No LaTeX-compatible font found for the serif fontfamily in rcParams. Using default.\n",
      "03/31/2023 14:35:05 - INFO - matplotlib.texmanager -   No LaTeX-compatible font found for the serif fontfamily in rcParams. Using default.\n",
      "03/31/2023 14:35:05 - INFO - matplotlib.texmanager -   No LaTeX-compatible font found for the serif fontfamily in rcParams. Using default.\n",
      "03/31/2023 14:35:05 - INFO - matplotlib.texmanager -   No LaTeX-compatible font found for the serif fontfamily in rcParams. Using default.\n",
      "03/31/2023 14:35:05 - INFO - matplotlib.texmanager -   No LaTeX-compatible font found for the serif fontfamily in rcParams. Using default.\n",
      "03/31/2023 14:35:06 - INFO - matplotlib.texmanager -   No LaTeX-compatible font found for the serif fontfamily in rcParams. Using default.\n",
      "03/31/2023 14:35:06 - INFO - matplotlib.texmanager -   No LaTeX-compatible font found for the serif fontfamily in rcParams. Using default.\n",
      "03/31/2023 14:35:06 - INFO - matplotlib.texmanager -   No LaTeX-compatible font found for the serif fontfamily in rcParams. Using default.\n",
      "03/31/2023 14:35:06 - INFO - matplotlib.texmanager -   No LaTeX-compatible font found for the serif fontfamily in rcParams. Using default.\n",
      "03/31/2023 14:35:06 - INFO - matplotlib.texmanager -   No LaTeX-compatible font found for the serif fontfamily in rcParams. Using default.\n",
      "03/31/2023 14:35:06 - INFO - matplotlib.texmanager -   No LaTeX-compatible font found for the serif fontfamily in rcParams. Using default.\n",
      "03/31/2023 14:35:06 - INFO - matplotlib.texmanager -   No LaTeX-compatible font found for the serif fontfamily in rcParams. Using default.\n",
      "03/31/2023 14:35:06 - INFO - matplotlib.texmanager -   No LaTeX-compatible font found for the serif fontfamily in rcParams. Using default.\n",
      "03/31/2023 14:35:06 - INFO - matplotlib.texmanager -   No LaTeX-compatible font found for the serif fontfamily in rcParams. Using default.\n",
      "03/31/2023 14:35:06 - INFO - matplotlib.texmanager -   No LaTeX-compatible font found for the serif fontfamily in rcParams. Using default.\n",
      "03/31/2023 14:35:06 - INFO - matplotlib.texmanager -   No LaTeX-compatible font found for the serif fontfamily in rcParams. Using default.\n",
      "03/31/2023 14:35:06 - INFO - matplotlib.texmanager -   No LaTeX-compatible font found for the serif fontfamily in rcParams. Using default.\n",
      "03/31/2023 14:35:06 - INFO - matplotlib.texmanager -   No LaTeX-compatible font found for the serif fontfamily in rcParams. Using default.\n",
      "03/31/2023 14:35:06 - INFO - matplotlib.texmanager -   No LaTeX-compatible font found for the serif fontfamily in rcParams. Using default.\n",
      "03/31/2023 14:35:06 - INFO - matplotlib.texmanager -   No LaTeX-compatible font found for the serif fontfamily in rcParams. Using default.\n",
      "03/31/2023 14:35:06 - INFO - matplotlib.texmanager -   No LaTeX-compatible font found for the serif fontfamily in rcParams. Using default.\n",
      "03/31/2023 14:35:06 - INFO - matplotlib.texmanager -   No LaTeX-compatible font found for the serif fontfamily in rcParams. Using default.\n",
      "03/31/2023 14:35:06 - INFO - matplotlib.texmanager -   No LaTeX-compatible font found for the serif fontfamily in rcParams. Using default.\n",
      "03/31/2023 14:35:06 - INFO - matplotlib.texmanager -   No LaTeX-compatible font found for the serif fontfamily in rcParams. Using default.\n",
      "03/31/2023 14:35:06 - INFO - matplotlib.texmanager -   No LaTeX-compatible font found for the serif fontfamily in rcParams. Using default.\n",
      "03/31/2023 14:35:06 - INFO - matplotlib.texmanager -   No LaTeX-compatible font found for the serif fontfamily in rcParams. Using default.\n",
      "03/31/2023 14:35:06 - INFO - matplotlib.texmanager -   No LaTeX-compatible font found for the serif fontfamily in rcParams. Using default.\n",
      "03/31/2023 14:35:06 - INFO - matplotlib.texmanager -   No LaTeX-compatible font found for the serif fontfamily in rcParams. Using default.\n",
      "03/31/2023 14:35:06 - INFO - matplotlib.texmanager -   No LaTeX-compatible font found for the serif fontfamily in rcParams. Using default.\n",
      "03/31/2023 14:35:06 - INFO - matplotlib.texmanager -   No LaTeX-compatible font found for the serif fontfamily in rcParams. Using default.\n",
      "03/31/2023 14:35:06 - INFO - matplotlib.texmanager -   No LaTeX-compatible font found for the serif fontfamily in rcParams. Using default.\n",
      "03/31/2023 14:35:06 - INFO - matplotlib.texmanager -   No LaTeX-compatible font found for the serif fontfamily in rcParams. Using default.\n",
      "03/31/2023 14:35:06 - INFO - matplotlib.texmanager -   No LaTeX-compatible font found for the serif fontfamily in rcParams. Using default.\n",
      "03/31/2023 14:35:06 - INFO - matplotlib.texmanager -   No LaTeX-compatible font found for the serif fontfamily in rcParams. Using default.\n",
      "03/31/2023 14:35:06 - INFO - matplotlib.texmanager -   No LaTeX-compatible font found for the serif fontfamily in rcParams. Using default.\n",
      "03/31/2023 14:35:06 - INFO - matplotlib.texmanager -   No LaTeX-compatible font found for the serif fontfamily in rcParams. Using default.\n",
      "03/31/2023 14:35:06 - INFO - matplotlib.texmanager -   No LaTeX-compatible font found for the serif fontfamily in rcParams. Using default.\n",
      "03/31/2023 14:35:06 - INFO - matplotlib.texmanager -   No LaTeX-compatible font found for the serif fontfamily in rcParams. Using default.\n",
      "03/31/2023 14:35:06 - INFO - matplotlib.texmanager -   No LaTeX-compatible font found for the serif fontfamily in rcParams. Using default.\n",
      "03/31/2023 14:35:06 - INFO - matplotlib.texmanager -   No LaTeX-compatible font found for the serif fontfamily in rcParams. Using default.\n",
      "03/31/2023 14:35:06 - INFO - matplotlib.texmanager -   No LaTeX-compatible font found for the serif fontfamily in rcParams. Using default.\n",
      "03/31/2023 14:35:06 - INFO - matplotlib.texmanager -   No LaTeX-compatible font found for the serif fontfamily in rcParams. Using default.\n",
      "03/31/2023 14:35:06 - INFO - matplotlib.texmanager -   No LaTeX-compatible font found for the serif fontfamily in rcParams. Using default.\n",
      "03/31/2023 14:35:06 - INFO - matplotlib.texmanager -   No LaTeX-compatible font found for the serif fontfamily in rcParams. Using default.\n",
      "03/31/2023 14:35:06 - INFO - matplotlib.texmanager -   No LaTeX-compatible font found for the serif fontfamily in rcParams. Using default.\n",
      "03/31/2023 14:35:06 - INFO - matplotlib.texmanager -   No LaTeX-compatible font found for the serif fontfamily in rcParams. Using default.\n",
      "03/31/2023 14:35:06 - INFO - matplotlib.texmanager -   No LaTeX-compatible font found for the serif fontfamily in rcParams. Using default.\n",
      "03/31/2023 14:35:06 - INFO - matplotlib.texmanager -   No LaTeX-compatible font found for the serif fontfamily in rcParams. Using default.\n",
      "03/31/2023 14:35:06 - INFO - matplotlib.texmanager -   No LaTeX-compatible font found for the serif fontfamily in rcParams. Using default.\n",
      "03/31/2023 14:35:06 - INFO - matplotlib.texmanager -   No LaTeX-compatible font found for the serif fontfamily in rcParams. Using default.\n",
      "03/31/2023 14:35:06 - INFO - matplotlib.texmanager -   No LaTeX-compatible font found for the serif fontfamily in rcParams. Using default.\n",
      "03/31/2023 14:35:06 - INFO - matplotlib.texmanager -   No LaTeX-compatible font found for the serif fontfamily in rcParams. Using default.\n",
      "03/31/2023 14:35:06 - INFO - matplotlib.texmanager -   No LaTeX-compatible font found for the serif fontfamily in rcParams. Using default.\n",
      "03/31/2023 14:35:06 - INFO - matplotlib.texmanager -   No LaTeX-compatible font found for the serif fontfamily in rcParams. Using default.\n",
      "03/31/2023 14:35:06 - INFO - matplotlib.texmanager -   No LaTeX-compatible font found for the serif fontfamily in rcParams. Using default.\n",
      "03/31/2023 14:35:06 - INFO - matplotlib.texmanager -   No LaTeX-compatible font found for the serif fontfamily in rcParams. Using default.\n",
      "03/31/2023 14:35:06 - INFO - matplotlib.texmanager -   No LaTeX-compatible font found for the serif fontfamily in rcParams. Using default.\n",
      "03/31/2023 14:35:06 - INFO - matplotlib.texmanager -   No LaTeX-compatible font found for the serif fontfamily in rcParams. Using default.\n",
      "03/31/2023 14:35:06 - INFO - matplotlib.texmanager -   No LaTeX-compatible font found for the serif fontfamily in rcParams. Using default.\n",
      "03/31/2023 14:35:07 - INFO - matplotlib.texmanager -   No LaTeX-compatible font found for the serif fontfamily in rcParams. Using default.\n",
      "03/31/2023 14:35:07 - INFO - matplotlib.texmanager -   No LaTeX-compatible font found for the serif fontfamily in rcParams. Using default.\n",
      "03/31/2023 14:35:07 - INFO - matplotlib.texmanager -   No LaTeX-compatible font found for the serif fontfamily in rcParams. Using default.\n",
      "03/31/2023 14:35:07 - INFO - matplotlib.texmanager -   No LaTeX-compatible font found for the serif fontfamily in rcParams. Using default.\n",
      "03/31/2023 14:35:07 - INFO - matplotlib.texmanager -   No LaTeX-compatible font found for the serif fontfamily in rcParams. Using default.\n",
      "03/31/2023 14:35:07 - INFO - matplotlib.texmanager -   No LaTeX-compatible font found for the serif fontfamily in rcParams. Using default.\n",
      "03/31/2023 14:35:07 - INFO - matplotlib.texmanager -   No LaTeX-compatible font found for the serif fontfamily in rcParams. Using default.\n",
      "03/31/2023 14:35:07 - INFO - matplotlib.texmanager -   No LaTeX-compatible font found for the serif fontfamily in rcParams. Using default.\n",
      "03/31/2023 14:35:07 - INFO - matplotlib.texmanager -   No LaTeX-compatible font found for the serif fontfamily in rcParams. Using default.\n",
      "03/31/2023 14:35:07 - INFO - matplotlib.texmanager -   No LaTeX-compatible font found for the serif fontfamily in rcParams. Using default.\n",
      "03/31/2023 14:35:07 - INFO - matplotlib.texmanager -   No LaTeX-compatible font found for the serif fontfamily in rcParams. Using default.\n",
      "03/31/2023 14:35:07 - INFO - matplotlib.texmanager -   No LaTeX-compatible font found for the serif fontfamily in rcParams. Using default.\n",
      "03/31/2023 14:35:07 - INFO - matplotlib.texmanager -   No LaTeX-compatible font found for the serif fontfamily in rcParams. Using default.\n",
      "03/31/2023 14:35:07 - INFO - matplotlib.texmanager -   No LaTeX-compatible font found for the serif fontfamily in rcParams. Using default.\n",
      "03/31/2023 14:35:07 - INFO - matplotlib.texmanager -   No LaTeX-compatible font found for the serif fontfamily in rcParams. Using default.\n",
      "03/31/2023 14:35:07 - INFO - matplotlib.texmanager -   No LaTeX-compatible font found for the serif fontfamily in rcParams. Using default.\n",
      "03/31/2023 14:35:07 - INFO - matplotlib.texmanager -   No LaTeX-compatible font found for the serif fontfamily in rcParams. Using default.\n",
      "03/31/2023 14:35:07 - INFO - matplotlib.texmanager -   No LaTeX-compatible font found for the serif fontfamily in rcParams. Using default.\n",
      "03/31/2023 14:35:07 - INFO - matplotlib.texmanager -   No LaTeX-compatible font found for the serif fontfamily in rcParams. Using default.\n",
      "03/31/2023 14:35:07 - INFO - matplotlib.texmanager -   No LaTeX-compatible font found for the serif fontfamily in rcParams. Using default.\n",
      "03/31/2023 14:35:07 - INFO - matplotlib.texmanager -   No LaTeX-compatible font found for the serif fontfamily in rcParams. Using default.\n",
      "03/31/2023 14:35:07 - INFO - matplotlib.texmanager -   No LaTeX-compatible font found for the serif fontfamily in rcParams. Using default.\n",
      "03/31/2023 14:35:07 - INFO - matplotlib.texmanager -   No LaTeX-compatible font found for the serif fontfamily in rcParams. Using default.\n",
      "03/31/2023 14:35:07 - INFO - matplotlib.texmanager -   No LaTeX-compatible font found for the serif fontfamily in rcParams. Using default.\n",
      "03/31/2023 14:35:07 - INFO - matplotlib.texmanager -   No LaTeX-compatible font found for the serif fontfamily in rcParams. Using default.\n",
      "03/31/2023 14:35:07 - INFO - matplotlib.texmanager -   No LaTeX-compatible font found for the serif fontfamily in rcParams. Using default.\n",
      "03/31/2023 14:35:07 - INFO - matplotlib.texmanager -   No LaTeX-compatible font found for the serif fontfamily in rcParams. Using default.\n",
      "03/31/2023 14:35:07 - INFO - matplotlib.texmanager -   No LaTeX-compatible font found for the serif fontfamily in rcParams. Using default.\n",
      "03/31/2023 14:35:07 - INFO - matplotlib.texmanager -   No LaTeX-compatible font found for the serif fontfamily in rcParams. Using default.\n",
      "03/31/2023 14:35:07 - INFO - matplotlib.texmanager -   No LaTeX-compatible font found for the serif fontfamily in rcParams. Using default.\n",
      "03/31/2023 14:35:07 - INFO - matplotlib.texmanager -   No LaTeX-compatible font found for the serif fontfamily in rcParams. Using default.\n",
      "03/31/2023 14:35:07 - INFO - matplotlib.texmanager -   No LaTeX-compatible font found for the serif fontfamily in rcParams. Using default.\n",
      "03/31/2023 14:35:07 - INFO - matplotlib.texmanager -   No LaTeX-compatible font found for the serif fontfamily in rcParams. Using default.\n",
      "03/31/2023 14:35:07 - INFO - matplotlib.texmanager -   No LaTeX-compatible font found for the serif fontfamily in rcParams. Using default.\n",
      "03/31/2023 14:35:07 - INFO - matplotlib.texmanager -   No LaTeX-compatible font found for the serif fontfamily in rcParams. Using default.\n",
      "03/31/2023 14:35:07 - INFO - matplotlib.texmanager -   No LaTeX-compatible font found for the serif fontfamily in rcParams. Using default.\n",
      "03/31/2023 14:35:07 - INFO - matplotlib.texmanager -   No LaTeX-compatible font found for the serif fontfamily in rcParams. Using default.\n",
      "03/31/2023 14:35:07 - INFO - matplotlib.texmanager -   No LaTeX-compatible font found for the serif fontfamily in rcParams. Using default.\n",
      "03/31/2023 14:35:07 - INFO - matplotlib.texmanager -   No LaTeX-compatible font found for the serif fontfamily in rcParams. Using default.\n",
      "03/31/2023 14:35:07 - INFO - matplotlib.texmanager -   No LaTeX-compatible font found for the serif fontfamily in rcParams. Using default.\n",
      "03/31/2023 14:35:07 - INFO - matplotlib.texmanager -   No LaTeX-compatible font found for the serif fontfamily in rcParams. Using default.\n",
      "03/31/2023 14:35:07 - INFO - matplotlib.texmanager -   No LaTeX-compatible font found for the serif fontfamily in rcParams. Using default.\n",
      "03/31/2023 14:35:07 - INFO - matplotlib.texmanager -   No LaTeX-compatible font found for the serif fontfamily in rcParams. Using default.\n",
      "03/31/2023 14:35:07 - INFO - matplotlib.texmanager -   No LaTeX-compatible font found for the serif fontfamily in rcParams. Using default.\n",
      "03/31/2023 14:35:07 - INFO - matplotlib.texmanager -   No LaTeX-compatible font found for the serif fontfamily in rcParams. Using default.\n",
      "03/31/2023 14:35:07 - INFO - matplotlib.texmanager -   No LaTeX-compatible font found for the serif fontfamily in rcParams. Using default.\n",
      "03/31/2023 14:35:07 - INFO - matplotlib.texmanager -   No LaTeX-compatible font found for the serif fontfamily in rcParams. Using default.\n",
      "03/31/2023 14:35:07 - INFO - matplotlib.texmanager -   No LaTeX-compatible font found for the serif fontfamily in rcParams. Using default.\n",
      "03/31/2023 14:35:07 - INFO - matplotlib.texmanager -   No LaTeX-compatible font found for the serif fontfamily in rcParams. Using default.\n",
      "03/31/2023 14:35:07 - INFO - matplotlib.texmanager -   No LaTeX-compatible font found for the serif fontfamily in rcParams. Using default.\n",
      "03/31/2023 14:35:07 - INFO - matplotlib.texmanager -   No LaTeX-compatible font found for the serif fontfamily in rcParams. Using default.\n",
      "03/31/2023 14:35:07 - INFO - matplotlib.texmanager -   No LaTeX-compatible font found for the serif fontfamily in rcParams. Using default.\n",
      "03/31/2023 14:35:07 - INFO - matplotlib.texmanager -   No LaTeX-compatible font found for the serif fontfamily in rcParams. Using default.\n",
      "03/31/2023 14:35:07 - INFO - matplotlib.texmanager -   No LaTeX-compatible font found for the serif fontfamily in rcParams. Using default.\n",
      "03/31/2023 14:35:07 - INFO - matplotlib.texmanager -   No LaTeX-compatible font found for the serif fontfamily in rcParams. Using default.\n",
      "03/31/2023 14:35:07 - INFO - matplotlib.texmanager -   No LaTeX-compatible font found for the serif fontfamily in rcParams. Using default.\n",
      "03/31/2023 14:35:07 - INFO - matplotlib.texmanager -   No LaTeX-compatible font found for the serif fontfamily in rcParams. Using default.\n",
      "03/31/2023 14:35:07 - INFO - matplotlib.texmanager -   No LaTeX-compatible font found for the serif fontfamily in rcParams. Using default.\n",
      "03/31/2023 14:35:07 - INFO - matplotlib.texmanager -   No LaTeX-compatible font found for the serif fontfamily in rcParams. Using default.\n",
      "03/31/2023 14:35:07 - INFO - matplotlib.texmanager -   No LaTeX-compatible font found for the serif fontfamily in rcParams. Using default.\n",
      "03/31/2023 14:35:07 - INFO - matplotlib.texmanager -   No LaTeX-compatible font found for the serif fontfamily in rcParams. Using default.\n",
      "03/31/2023 14:35:07 - INFO - matplotlib.texmanager -   No LaTeX-compatible font found for the serif fontfamily in rcParams. Using default.\n",
      "03/31/2023 14:35:07 - INFO - matplotlib.texmanager -   No LaTeX-compatible font found for the serif fontfamily in rcParams. Using default.\n",
      "03/31/2023 14:35:07 - INFO - matplotlib.texmanager -   No LaTeX-compatible font found for the serif fontfamily in rcParams. Using default.\n",
      "03/31/2023 14:35:07 - INFO - matplotlib.texmanager -   No LaTeX-compatible font found for the serif fontfamily in rcParams. Using default.\n",
      "03/31/2023 14:35:07 - INFO - matplotlib.texmanager -   No LaTeX-compatible font found for the serif fontfamily in rcParams. Using default.\n",
      "03/31/2023 14:35:07 - INFO - matplotlib.texmanager -   No LaTeX-compatible font found for the serif fontfamily in rcParams. Using default.\n",
      "03/31/2023 14:35:07 - INFO - matplotlib.texmanager -   No LaTeX-compatible font found for the serif fontfamily in rcParams. Using default.\n",
      "03/31/2023 14:35:07 - INFO - matplotlib.texmanager -   No LaTeX-compatible font found for the serif fontfamily in rcParams. Using default.\n",
      "03/31/2023 14:35:07 - INFO - matplotlib.texmanager -   No LaTeX-compatible font found for the serif fontfamily in rcParams. Using default.\n",
      "03/31/2023 14:35:07 - INFO - matplotlib.texmanager -   No LaTeX-compatible font found for the serif fontfamily in rcParams. Using default.\n",
      "03/31/2023 14:35:07 - INFO - matplotlib.texmanager -   No LaTeX-compatible font found for the serif fontfamily in rcParams. Using default.\n",
      "03/31/2023 14:35:07 - INFO - matplotlib.texmanager -   No LaTeX-compatible font found for the serif fontfamily in rcParams. Using default.\n",
      "03/31/2023 14:35:07 - INFO - matplotlib.texmanager -   No LaTeX-compatible font found for the serif fontfamily in rcParams. Using default.\n",
      "03/31/2023 14:35:07 - INFO - matplotlib.texmanager -   No LaTeX-compatible font found for the serif fontfamily in rcParams. Using default.\n",
      "03/31/2023 14:35:07 - INFO - matplotlib.texmanager -   No LaTeX-compatible font found for the serif fontfamily in rcParams. Using default.\n",
      "03/31/2023 14:35:07 - INFO - matplotlib.texmanager -   No LaTeX-compatible font found for the serif fontfamily in rcParams. Using default.\n",
      "03/31/2023 14:35:07 - INFO - matplotlib.texmanager -   No LaTeX-compatible font found for the serif fontfamily in rcParams. Using default.\n",
      "03/31/2023 14:35:07 - INFO - matplotlib.texmanager -   No LaTeX-compatible font found for the serif fontfamily in rcParams. Using default.\n",
      "03/31/2023 14:35:07 - INFO - matplotlib.texmanager -   No LaTeX-compatible font found for the serif fontfamily in rcParams. Using default.\n",
      "03/31/2023 14:35:07 - INFO - matplotlib.texmanager -   No LaTeX-compatible font found for the serif fontfamily in rcParams. Using default.\n",
      "03/31/2023 14:35:07 - INFO - matplotlib.texmanager -   No LaTeX-compatible font found for the serif fontfamily in rcParams. Using default.\n",
      "03/31/2023 14:35:07 - INFO - matplotlib.texmanager -   No LaTeX-compatible font found for the serif fontfamily in rcParams. Using default.\n",
      "03/31/2023 14:35:07 - INFO - matplotlib.texmanager -   No LaTeX-compatible font found for the serif fontfamily in rcParams. Using default.\n",
      "03/31/2023 14:35:07 - INFO - matplotlib.texmanager -   No LaTeX-compatible font found for the serif fontfamily in rcParams. Using default.\n",
      "03/31/2023 14:35:07 - INFO - matplotlib.texmanager -   No LaTeX-compatible font found for the serif fontfamily in rcParams. Using default.\n",
      "03/31/2023 14:35:07 - INFO - matplotlib.texmanager -   No LaTeX-compatible font found for the serif fontfamily in rcParams. Using default.\n",
      "03/31/2023 14:35:07 - INFO - matplotlib.texmanager -   No LaTeX-compatible font found for the serif fontfamily in rcParams. Using default.\n",
      "03/31/2023 14:35:07 - INFO - matplotlib.texmanager -   No LaTeX-compatible font found for the serif fontfamily in rcParams. Using default.\n",
      "03/31/2023 14:35:07 - INFO - matplotlib.texmanager -   No LaTeX-compatible font found for the serif fontfamily in rcParams. Using default.\n",
      "03/31/2023 14:35:07 - INFO - matplotlib.texmanager -   No LaTeX-compatible font found for the serif fontfamily in rcParams. Using default.\n",
      "03/31/2023 14:35:07 - INFO - matplotlib.texmanager -   No LaTeX-compatible font found for the serif fontfamily in rcParams. Using default.\n",
      "03/31/2023 14:35:07 - INFO - matplotlib.texmanager -   No LaTeX-compatible font found for the serif fontfamily in rcParams. Using default.\n",
      "03/31/2023 14:35:07 - INFO - matplotlib.texmanager -   No LaTeX-compatible font found for the serif fontfamily in rcParams. Using default.\n",
      "03/31/2023 14:35:07 - INFO - matplotlib.texmanager -   No LaTeX-compatible font found for the serif fontfamily in rcParams. Using default.\n",
      "03/31/2023 14:35:07 - INFO - matplotlib.texmanager -   No LaTeX-compatible font found for the serif fontfamily in rcParams. Using default.\n",
      "03/31/2023 14:35:07 - INFO - matplotlib.texmanager -   No LaTeX-compatible font found for the serif fontfamily in rcParams. Using default.\n",
      "03/31/2023 14:35:07 - INFO - matplotlib.texmanager -   No LaTeX-compatible font found for the serif fontfamily in rcParams. Using default.\n",
      "03/31/2023 14:35:07 - INFO - matplotlib.texmanager -   No LaTeX-compatible font found for the serif fontfamily in rcParams. Using default.\n",
      "03/31/2023 14:35:07 - INFO - matplotlib.texmanager -   No LaTeX-compatible font found for the serif fontfamily in rcParams. Using default.\n",
      "03/31/2023 14:35:07 - INFO - matplotlib.texmanager -   No LaTeX-compatible font found for the serif fontfamily in rcParams. Using default.\n",
      "03/31/2023 14:35:07 - INFO - matplotlib.texmanager -   No LaTeX-compatible font found for the serif fontfamily in rcParams. Using default.\n",
      "03/31/2023 14:35:07 - INFO - matplotlib.texmanager -   No LaTeX-compatible font found for the serif fontfamily in rcParams. Using default.\n",
      "03/31/2023 14:35:07 - INFO - matplotlib.texmanager -   No LaTeX-compatible font found for the serif fontfamily in rcParams. Using default.\n",
      "03/31/2023 14:35:07 - INFO - matplotlib.texmanager -   No LaTeX-compatible font found for the serif fontfamily in rcParams. Using default.\n",
      "03/31/2023 14:35:07 - INFO - matplotlib.texmanager -   No LaTeX-compatible font found for the serif fontfamily in rcParams. Using default.\n",
      "03/31/2023 14:35:07 - INFO - matplotlib.texmanager -   No LaTeX-compatible font found for the serif fontfamily in rcParams. Using default.\n",
      "03/31/2023 14:35:07 - INFO - matplotlib.texmanager -   No LaTeX-compatible font found for the serif fontfamily in rcParams. Using default.\n",
      "03/31/2023 14:35:07 - INFO - matplotlib.texmanager -   No LaTeX-compatible font found for the serif fontfamily in rcParams. Using default.\n",
      "03/31/2023 14:35:07 - INFO - matplotlib.texmanager -   No LaTeX-compatible font found for the serif fontfamily in rcParams. Using default.\n",
      "03/31/2023 14:35:07 - INFO - matplotlib.texmanager -   No LaTeX-compatible font found for the serif fontfamily in rcParams. Using default.\n",
      "03/31/2023 14:35:07 - INFO - matplotlib.texmanager -   No LaTeX-compatible font found for the serif fontfamily in rcParams. Using default.\n",
      "03/31/2023 14:35:07 - INFO - matplotlib.texmanager -   No LaTeX-compatible font found for the serif fontfamily in rcParams. Using default.\n",
      "03/31/2023 14:35:07 - INFO - matplotlib.texmanager -   No LaTeX-compatible font found for the serif fontfamily in rcParams. Using default.\n",
      "03/31/2023 14:35:07 - INFO - matplotlib.texmanager -   No LaTeX-compatible font found for the serif fontfamily in rcParams. Using default.\n",
      "03/31/2023 14:35:07 - INFO - matplotlib.texmanager -   No LaTeX-compatible font found for the serif fontfamily in rcParams. Using default.\n",
      "03/31/2023 14:35:07 - INFO - matplotlib.texmanager -   No LaTeX-compatible font found for the serif fontfamily in rcParams. Using default.\n",
      "03/31/2023 14:35:07 - INFO - matplotlib.texmanager -   No LaTeX-compatible font found for the serif fontfamily in rcParams. Using default.\n",
      "03/31/2023 14:35:07 - INFO - matplotlib.texmanager -   No LaTeX-compatible font found for the serif fontfamily in rcParams. Using default.\n",
      "03/31/2023 14:35:07 - INFO - matplotlib.texmanager -   No LaTeX-compatible font found for the serif fontfamily in rcParams. Using default.\n",
      "03/31/2023 14:35:07 - INFO - matplotlib.texmanager -   No LaTeX-compatible font found for the serif fontfamily in rcParams. Using default.\n",
      "03/31/2023 14:35:07 - INFO - matplotlib.texmanager -   No LaTeX-compatible font found for the serif fontfamily in rcParams. Using default.\n",
      "03/31/2023 14:35:07 - INFO - matplotlib.texmanager -   No LaTeX-compatible font found for the serif fontfamily in rcParams. Using default.\n",
      "03/31/2023 14:35:07 - INFO - matplotlib.texmanager -   No LaTeX-compatible font found for the serif fontfamily in rcParams. Using default.\n",
      "03/31/2023 14:35:07 - INFO - matplotlib.texmanager -   No LaTeX-compatible font found for the serif fontfamily in rcParams. Using default.\n",
      "03/31/2023 14:35:07 - INFO - matplotlib.texmanager -   No LaTeX-compatible font found for the serif fontfamily in rcParams. Using default.\n",
      "03/31/2023 14:35:07 - INFO - matplotlib.texmanager -   No LaTeX-compatible font found for the serif fontfamily in rcParams. Using default.\n",
      "03/31/2023 14:35:07 - INFO - matplotlib.texmanager -   No LaTeX-compatible font found for the serif fontfamily in rcParams. Using default.\n",
      "03/31/2023 14:35:07 - INFO - matplotlib.texmanager -   No LaTeX-compatible font found for the serif fontfamily in rcParams. Using default.\n",
      "03/31/2023 14:35:07 - INFO - matplotlib.texmanager -   No LaTeX-compatible font found for the serif fontfamily in rcParams. Using default.\n",
      "03/31/2023 14:35:07 - INFO - matplotlib.texmanager -   No LaTeX-compatible font found for the serif fontfamily in rcParams. Using default.\n",
      "03/31/2023 14:35:07 - INFO - matplotlib.texmanager -   No LaTeX-compatible font found for the serif fontfamily in rcParams. Using default.\n",
      "03/31/2023 14:35:07 - INFO - matplotlib.texmanager -   No LaTeX-compatible font found for the serif fontfamily in rcParams. Using default.\n",
      "03/31/2023 14:35:07 - INFO - matplotlib.texmanager -   No LaTeX-compatible font found for the serif fontfamily in rcParams. Using default.\n",
      "03/31/2023 14:35:07 - INFO - matplotlib.texmanager -   No LaTeX-compatible font found for the serif fontfamily in rcParams. Using default.\n",
      "03/31/2023 14:35:07 - INFO - matplotlib.texmanager -   No LaTeX-compatible font found for the serif fontfamily in rcParams. Using default.\n",
      "03/31/2023 14:35:07 - INFO - matplotlib.texmanager -   No LaTeX-compatible font found for the serif fontfamily in rcParams. Using default.\n",
      "03/31/2023 14:35:07 - INFO - matplotlib.texmanager -   No LaTeX-compatible font found for the serif fontfamily in rcParams. Using default.\n",
      "03/31/2023 14:35:07 - INFO - matplotlib.texmanager -   No LaTeX-compatible font found for the serif fontfamily in rcParams. Using default.\n",
      "03/31/2023 14:35:07 - INFO - matplotlib.texmanager -   No LaTeX-compatible font found for the serif fontfamily in rcParams. Using default.\n",
      "03/31/2023 14:35:07 - INFO - matplotlib.texmanager -   No LaTeX-compatible font found for the serif fontfamily in rcParams. Using default.\n",
      "03/31/2023 14:35:07 - INFO - matplotlib.texmanager -   No LaTeX-compatible font found for the serif fontfamily in rcParams. Using default.\n",
      "03/31/2023 14:35:07 - INFO - matplotlib.texmanager -   No LaTeX-compatible font found for the serif fontfamily in rcParams. Using default.\n",
      "03/31/2023 14:35:07 - INFO - matplotlib.texmanager -   No LaTeX-compatible font found for the serif fontfamily in rcParams. Using default.\n",
      "03/31/2023 14:35:07 - INFO - matplotlib.texmanager -   No LaTeX-compatible font found for the serif fontfamily in rcParams. Using default.\n",
      "03/31/2023 14:35:07 - INFO - matplotlib.texmanager -   No LaTeX-compatible font found for the serif fontfamily in rcParams. Using default.\n",
      "03/31/2023 14:35:07 - INFO - matplotlib.texmanager -   No LaTeX-compatible font found for the serif fontfamily in rcParams. Using default.\n",
      "03/31/2023 14:35:07 - INFO - matplotlib.texmanager -   No LaTeX-compatible font found for the serif fontfamily in rcParams. Using default.\n",
      "03/31/2023 14:35:07 - INFO - matplotlib.texmanager -   No LaTeX-compatible font found for the serif fontfamily in rcParams. Using default.\n",
      "03/31/2023 14:35:07 - INFO - matplotlib.texmanager -   No LaTeX-compatible font found for the serif fontfamily in rcParams. Using default.\n",
      "03/31/2023 14:35:07 - INFO - matplotlib.texmanager -   No LaTeX-compatible font found for the serif fontfamily in rcParams. Using default.\n",
      "03/31/2023 14:35:07 - INFO - matplotlib.texmanager -   No LaTeX-compatible font found for the serif fontfamily in rcParams. Using default.\n",
      "03/31/2023 14:35:07 - INFO - matplotlib.texmanager -   No LaTeX-compatible font found for the serif fontfamily in rcParams. Using default.\n",
      "03/31/2023 14:35:07 - INFO - matplotlib.texmanager -   No LaTeX-compatible font found for the serif fontfamily in rcParams. Using default.\n",
      "03/31/2023 14:35:07 - INFO - matplotlib.texmanager -   No LaTeX-compatible font found for the serif fontfamily in rcParams. Using default.\n",
      "03/31/2023 14:35:07 - INFO - matplotlib.texmanager -   No LaTeX-compatible font found for the serif fontfamily in rcParams. Using default.\n",
      "03/31/2023 14:35:07 - INFO - matplotlib.texmanager -   No LaTeX-compatible font found for the serif fontfamily in rcParams. Using default.\n",
      "03/31/2023 14:35:07 - INFO - matplotlib.texmanager -   No LaTeX-compatible font found for the serif fontfamily in rcParams. Using default.\n",
      "03/31/2023 14:35:07 - INFO - matplotlib.texmanager -   No LaTeX-compatible font found for the serif fontfamily in rcParams. Using default.\n",
      "03/31/2023 14:35:07 - INFO - matplotlib.texmanager -   No LaTeX-compatible font found for the serif fontfamily in rcParams. Using default.\n",
      "03/31/2023 14:35:07 - INFO - matplotlib.texmanager -   No LaTeX-compatible font found for the serif fontfamily in rcParams. Using default.\n",
      "03/31/2023 14:35:07 - INFO - matplotlib.texmanager -   No LaTeX-compatible font found for the serif fontfamily in rcParams. Using default.\n",
      "03/31/2023 14:35:07 - INFO - matplotlib.texmanager -   No LaTeX-compatible font found for the serif fontfamily in rcParams. Using default.\n",
      "03/31/2023 14:35:07 - INFO - matplotlib.texmanager -   No LaTeX-compatible font found for the serif fontfamily in rcParams. Using default.\n",
      "03/31/2023 14:35:07 - INFO - matplotlib.texmanager -   No LaTeX-compatible font found for the serif fontfamily in rcParams. Using default.\n",
      "03/31/2023 14:35:07 - INFO - matplotlib.texmanager -   No LaTeX-compatible font found for the serif fontfamily in rcParams. Using default.\n",
      "03/31/2023 14:35:07 - INFO - matplotlib.texmanager -   No LaTeX-compatible font found for the serif fontfamily in rcParams. Using default.\n",
      "03/31/2023 14:35:07 - INFO - matplotlib.texmanager -   No LaTeX-compatible font found for the serif fontfamily in rcParams. Using default.\n",
      "03/31/2023 14:35:07 - INFO - matplotlib.texmanager -   No LaTeX-compatible font found for the serif fontfamily in rcParams. Using default.\n",
      "03/31/2023 14:35:07 - INFO - matplotlib.texmanager -   No LaTeX-compatible font found for the serif fontfamily in rcParams. Using default.\n",
      "03/31/2023 14:35:07 - INFO - matplotlib.texmanager -   No LaTeX-compatible font found for the serif fontfamily in rcParams. Using default.\n",
      "03/31/2023 14:35:07 - INFO - matplotlib.texmanager -   No LaTeX-compatible font found for the serif fontfamily in rcParams. Using default.\n",
      "03/31/2023 14:35:07 - INFO - matplotlib.texmanager -   No LaTeX-compatible font found for the serif fontfamily in rcParams. Using default.\n",
      "03/31/2023 14:35:07 - INFO - matplotlib.texmanager -   No LaTeX-compatible font found for the serif fontfamily in rcParams. Using default.\n",
      "03/31/2023 14:35:07 - INFO - matplotlib.texmanager -   No LaTeX-compatible font found for the serif fontfamily in rcParams. Using default.\n",
      "03/31/2023 14:35:07 - INFO - matplotlib.texmanager -   No LaTeX-compatible font found for the serif fontfamily in rcParams. Using default.\n",
      "03/31/2023 14:35:07 - INFO - matplotlib.texmanager -   No LaTeX-compatible font found for the serif fontfamily in rcParams. Using default.\n",
      "03/31/2023 14:35:07 - INFO - matplotlib.texmanager -   No LaTeX-compatible font found for the serif fontfamily in rcParams. Using default.\n",
      "03/31/2023 14:35:07 - INFO - matplotlib.texmanager -   No LaTeX-compatible font found for the serif fontfamily in rcParams. Using default.\n",
      "03/31/2023 14:35:07 - INFO - matplotlib.texmanager -   No LaTeX-compatible font found for the serif fontfamily in rcParams. Using default.\n",
      "03/31/2023 14:35:07 - INFO - matplotlib.texmanager -   No LaTeX-compatible font found for the serif fontfamily in rcParams. Using default.\n",
      "03/31/2023 14:35:07 - INFO - matplotlib.texmanager -   No LaTeX-compatible font found for the serif fontfamily in rcParams. Using default.\n",
      "03/31/2023 14:35:07 - INFO - matplotlib.texmanager -   No LaTeX-compatible font found for the serif fontfamily in rcParams. Using default.\n",
      "03/31/2023 14:35:07 - INFO - matplotlib.texmanager -   No LaTeX-compatible font found for the serif fontfamily in rcParams. Using default.\n",
      "03/31/2023 14:35:07 - INFO - matplotlib.texmanager -   No LaTeX-compatible font found for the serif fontfamily in rcParams. Using default.\n",
      "03/31/2023 14:35:07 - INFO - matplotlib.texmanager -   No LaTeX-compatible font found for the serif fontfamily in rcParams. Using default.\n",
      "03/31/2023 14:35:07 - INFO - matplotlib.texmanager -   No LaTeX-compatible font found for the serif fontfamily in rcParams. Using default.\n",
      "03/31/2023 14:35:07 - INFO - matplotlib.texmanager -   No LaTeX-compatible font found for the serif fontfamily in rcParams. Using default.\n",
      "03/31/2023 14:35:07 - INFO - matplotlib.texmanager -   No LaTeX-compatible font found for the serif fontfamily in rcParams. Using default.\n",
      "03/31/2023 14:35:07 - INFO - matplotlib.texmanager -   No LaTeX-compatible font found for the serif fontfamily in rcParams. Using default.\n",
      "03/31/2023 14:35:07 - INFO - matplotlib.texmanager -   No LaTeX-compatible font found for the serif fontfamily in rcParams. Using default.\n",
      "03/31/2023 14:35:07 - INFO - matplotlib.texmanager -   No LaTeX-compatible font found for the serif fontfamily in rcParams. Using default.\n",
      "03/31/2023 14:35:07 - INFO - matplotlib.texmanager -   No LaTeX-compatible font found for the serif fontfamily in rcParams. Using default.\n",
      "03/31/2023 14:35:07 - INFO - matplotlib.texmanager -   No LaTeX-compatible font found for the serif fontfamily in rcParams. Using default.\n",
      "03/31/2023 14:35:07 - INFO - matplotlib.texmanager -   No LaTeX-compatible font found for the serif fontfamily in rcParams. Using default.\n",
      "03/31/2023 14:35:07 - INFO - matplotlib.texmanager -   No LaTeX-compatible font found for the serif fontfamily in rcParams. Using default.\n",
      "03/31/2023 14:35:07 - INFO - matplotlib.texmanager -   No LaTeX-compatible font found for the serif fontfamily in rcParams. Using default.\n",
      "03/31/2023 14:35:07 - INFO - matplotlib.texmanager -   No LaTeX-compatible font found for the serif fontfamily in rcParams. Using default.\n",
      "03/31/2023 14:35:07 - INFO - matplotlib.texmanager -   No LaTeX-compatible font found for the serif fontfamily in rcParams. Using default.\n",
      "03/31/2023 14:35:07 - INFO - matplotlib.texmanager -   No LaTeX-compatible font found for the serif fontfamily in rcParams. Using default.\n",
      "03/31/2023 14:35:07 - INFO - matplotlib.texmanager -   No LaTeX-compatible font found for the serif fontfamily in rcParams. Using default.\n",
      "03/31/2023 14:35:07 - INFO - matplotlib.texmanager -   No LaTeX-compatible font found for the serif fontfamily in rcParams. Using default.\n"
     ]
    },
    {
     "data": {
      "image/png": "[encoded data removed]",
      "text/plain": [
       "<Figure size 800x300 with 2 Axes>"
      ]
     },
     "metadata": {},
     "output_type": "display_data"
    }
   ],
   "source": [
    "gammas = viz_df[\"gammas\"].values.tolist()\n",
    "deltas = viz_df[\"deltas\"].values.tolist()\n",
    "\n",
    "no_watermark_mauve = viz_df[\"no_watermark_mauve\"].values.tolist()\n",
    "watermark_mauve = viz_df[\"watermark_mauve\"].values.tolist()\n",
    "\n",
    "fig, axs = plt.subplots(ncols=2, nrows=1, figsize=(8,3), sharey=True)\n",
    "slice_idx = len(no_watermark_mauve)//2\n",
    "\n",
    "plt.subplot(1, 2, 1)\n",
    "plt.subplot(1, 2, 1)\n",
    "plt.plot(gammas[:slice_idx], no_watermark_mauve[:slice_idx], label=\"no watermark\")\n",
    "plt.plot(gammas[:slice_idx], watermark_mauve[:slice_idx], label=\"watermark\")\n",
    "plt.xticks(gammas[:slice_idx])\n",
    "plt.xlim(0, 1)\n",
    "# reverse x axis\n",
    "axs[0].invert_xaxis()\n",
    "plt.xlabel(\"gamma\")\n",
    "plt.ylabel(\"mauve score\")\n",
    "\n",
    "plt.subplot(1, 2, 2)\n",
    "plt.plot(deltas[slice_idx:], no_watermark_mauve[slice_idx:], label=\"no watermark\")\n",
    "plt.plot(deltas[slice_idx:], watermark_mauve[slice_idx:], label=\"watermark\")\n",
    "plt.xticks(deltas[slice_idx:])\n",
    "plt.xlim(0, 5.1)\n",
    "plt.xlabel(\"delta\")\n",
    "plt.ylabel(\"mauve score\")\n",
    "\n",
    "\n",
    "# legend to right of both charts\n",
    "plt.legend(bbox_to_anchor=(1.05, 1), loc='upper left', borderaxespad=0.)\n",
    "plt.tight_layout()\n",
    "plt.savefig(f\"{OUTPUT_DIR}/sampling_mauve_score.png\")\n",
    "\n",
    "plt.show()"
   ]
  },
  {
   "cell_type": "code",
   "execution_count": 24,
   "metadata": {},
   "outputs": [
    {
     "name": "stdout",
     "output_type": "stream",
     "text": [
      "initial p_text: 497, q_text: 497\n",
      "remaining p_text: 497, q_text: 497\n"
     ]
    },
    {
     "name": "stderr",
     "output_type": "stream",
     "text": [
      "Featurizing p: 100%|██████████| 497/497 [00:04<00:00, 124.06it/s]\n",
      "Featurizing q: 100%|██████████| 497/497 [00:03<00:00, 124.56it/s]\n",
      "WARNING clustering 994 points to 50 centroids: please provide at least 1950 training points\n"
     ]
    },
    {
     "name": "stdout",
     "output_type": "stream",
     "text": [
      "initial p_text: 497, q_text: 497\n",
      "remaining p_text: 497, q_text: 497\n"
     ]
    },
    {
     "name": "stderr",
     "output_type": "stream",
     "text": [
      "Featurizing p: 100%|██████████| 497/497 [00:03<00:00, 124.61it/s]\n",
      "Featurizing q: 100%|██████████| 497/497 [00:03<00:00, 124.76it/s]\n",
      "WARNING clustering 994 points to 50 centroids: please provide at least 1950 training points\n"
     ]
    },
    {
     "name": "stdout",
     "output_type": "stream",
     "text": [
      "initial p_text: 496, q_text: 496\n",
      "remaining p_text: 496, q_text: 496\n"
     ]
    },
    {
     "name": "stderr",
     "output_type": "stream",
     "text": [
      "Featurizing p: 100%|██████████| 496/496 [00:03<00:00, 124.34it/s]\n",
      "Featurizing q: 100%|██████████| 496/496 [00:03<00:00, 124.16it/s]\n",
      "WARNING clustering 992 points to 50 centroids: please provide at least 1950 training points\n"
     ]
    },
    {
     "name": "stdout",
     "output_type": "stream",
     "text": [
      "initial p_text: 496, q_text: 496\n",
      "remaining p_text: 496, q_text: 496\n"
     ]
    },
    {
     "name": "stderr",
     "output_type": "stream",
     "text": [
      "Featurizing p: 100%|██████████| 496/496 [00:04<00:00, 123.93it/s]\n",
      "Featurizing q: 100%|██████████| 496/496 [00:03<00:00, 124.36it/s]\n",
      "WARNING clustering 992 points to 50 centroids: please provide at least 1950 training points\n"
     ]
    },
    {
     "name": "stdout",
     "output_type": "stream",
     "text": [
      "initial p_text: 497, q_text: 497\n",
      "remaining p_text: 497, q_text: 497\n"
     ]
    },
    {
     "name": "stderr",
     "output_type": "stream",
     "text": [
      "Featurizing p: 100%|██████████| 497/497 [00:04<00:00, 123.78it/s]\n",
      "Featurizing q: 100%|██████████| 497/497 [00:04<00:00, 124.25it/s]\n",
      "WARNING clustering 994 points to 50 centroids: please provide at least 1950 training points\n"
     ]
    },
    {
     "name": "stdout",
     "output_type": "stream",
     "text": [
      "initial p_text: 497, q_text: 497\n",
      "remaining p_text: 497, q_text: 497\n"
     ]
    },
    {
     "name": "stderr",
     "output_type": "stream",
     "text": [
      "Featurizing p: 100%|██████████| 497/497 [00:03<00:00, 124.37it/s]\n",
      "Featurizing q: 100%|██████████| 497/497 [00:04<00:00, 124.03it/s]\n",
      "WARNING clustering 994 points to 50 centroids: please provide at least 1950 training points\n"
     ]
    },
    {
     "name": "stdout",
     "output_type": "stream",
     "text": [
      "initial p_text: 495, q_text: 495\n",
      "remaining p_text: 495, q_text: 495\n"
     ]
    },
    {
     "name": "stderr",
     "output_type": "stream",
     "text": [
      "Featurizing p: 100%|██████████| 495/495 [00:04<00:00, 123.09it/s]\n",
      "Featurizing q: 100%|██████████| 495/495 [00:04<00:00, 123.24it/s]\n",
      "WARNING clustering 990 points to 50 centroids: please provide at least 1950 training points\n"
     ]
    },
    {
     "name": "stdout",
     "output_type": "stream",
     "text": [
      "initial p_text: 495, q_text: 495\n",
      "remaining p_text: 495, q_text: 495\n"
     ]
    },
    {
     "name": "stderr",
     "output_type": "stream",
     "text": [
      "Featurizing p: 100%|██████████| 495/495 [00:03<00:00, 124.45it/s]\n",
      "Featurizing q: 100%|██████████| 495/495 [00:03<00:00, 124.41it/s]\n",
      "WARNING clustering 990 points to 50 centroids: please provide at least 1950 training points\n"
     ]
    },
    {
     "name": "stdout",
     "output_type": "stream",
     "text": [
      "initial p_text: 495, q_text: 495\n",
      "remaining p_text: 495, q_text: 495\n"
     ]
    },
    {
     "name": "stderr",
     "output_type": "stream",
     "text": [
      "Featurizing p: 100%|██████████| 495/495 [00:03<00:00, 123.82it/s]\n",
      "Featurizing q: 100%|██████████| 495/495 [00:03<00:00, 124.22it/s]\n",
      "WARNING clustering 990 points to 50 centroids: please provide at least 1950 training points\n"
     ]
    },
    {
     "name": "stdout",
     "output_type": "stream",
     "text": [
      "initial p_text: 495, q_text: 495\n",
      "remaining p_text: 495, q_text: 495\n"
     ]
    },
    {
     "name": "stderr",
     "output_type": "stream",
     "text": [
      "Featurizing p: 100%|██████████| 495/495 [00:03<00:00, 124.36it/s]\n",
      "Featurizing q: 100%|██████████| 495/495 [00:03<00:00, 124.40it/s]\n",
      "WARNING clustering 990 points to 50 centroids: please provide at least 1950 training points\n"
     ]
    },
    {
     "name": "stdout",
     "output_type": "stream",
     "text": [
      "initial p_text: 500, q_text: 500\n",
      "remaining p_text: 500, q_text: 500\n"
     ]
    },
    {
     "name": "stderr",
     "output_type": "stream",
     "text": [
      "Featurizing p: 100%|██████████| 500/500 [00:04<00:00, 124.63it/s]\n",
      "Featurizing q: 100%|██████████| 500/500 [00:04<00:00, 124.10it/s]\n",
      "WARNING clustering 1000 points to 50 centroids: please provide at least 1950 training points\n"
     ]
    },
    {
     "name": "stdout",
     "output_type": "stream",
     "text": [
      "initial p_text: 500, q_text: 500\n",
      "remaining p_text: 500, q_text: 500\n"
     ]
    },
    {
     "name": "stderr",
     "output_type": "stream",
     "text": [
      "Featurizing p: 100%|██████████| 500/500 [00:04<00:00, 123.75it/s]\n",
      "Featurizing q: 100%|██████████| 500/500 [00:04<00:00, 124.05it/s]\n",
      "WARNING clustering 1000 points to 50 centroids: please provide at least 1950 training points\n"
     ]
    },
    {
     "name": "stdout",
     "output_type": "stream",
     "text": [
      "initial p_text: 504, q_text: 504\n",
      "remaining p_text: 504, q_text: 504\n"
     ]
    },
    {
     "name": "stderr",
     "output_type": "stream",
     "text": [
      "Featurizing p: 100%|██████████| 504/504 [00:04<00:00, 124.25it/s]\n",
      "Featurizing q: 100%|██████████| 504/504 [00:04<00:00, 123.97it/s]\n",
      "WARNING clustering 1008 points to 50 centroids: please provide at least 1950 training points\n"
     ]
    },
    {
     "name": "stdout",
     "output_type": "stream",
     "text": [
      "initial p_text: 504, q_text: 504\n",
      "remaining p_text: 504, q_text: 504\n"
     ]
    },
    {
     "name": "stderr",
     "output_type": "stream",
     "text": [
      "Featurizing p: 100%|██████████| 504/504 [00:04<00:00, 124.47it/s]\n",
      "Featurizing q: 100%|██████████| 504/504 [00:04<00:00, 124.27it/s]\n",
      "WARNING clustering 1008 points to 50 centroids: please provide at least 1950 training points\n"
     ]
    },
    {
     "name": "stdout",
     "output_type": "stream",
     "text": [
      "initial p_text: 506, q_text: 506\n",
      "remaining p_text: 506, q_text: 506\n"
     ]
    },
    {
     "name": "stderr",
     "output_type": "stream",
     "text": [
      "Featurizing p: 100%|██████████| 506/506 [00:04<00:00, 123.98it/s]\n",
      "Featurizing q: 100%|██████████| 506/506 [00:04<00:00, 124.32it/s]\n",
      "WARNING clustering 1012 points to 51 centroids: please provide at least 1989 training points\n"
     ]
    },
    {
     "name": "stdout",
     "output_type": "stream",
     "text": [
      "initial p_text: 506, q_text: 506\n",
      "remaining p_text: 506, q_text: 506\n"
     ]
    },
    {
     "name": "stderr",
     "output_type": "stream",
     "text": [
      "Featurizing p: 100%|██████████| 506/506 [00:04<00:00, 123.78it/s]\n",
      "Featurizing q: 100%|██████████| 506/506 [00:04<00:00, 123.82it/s]\n",
      "WARNING clustering 1012 points to 51 centroids: please provide at least 1989 training points\n"
     ]
    },
    {
     "name": "stdout",
     "output_type": "stream",
     "text": [
      "initial p_text: 504, q_text: 504\n",
      "remaining p_text: 504, q_text: 504\n"
     ]
    },
    {
     "name": "stderr",
     "output_type": "stream",
     "text": [
      "Featurizing p: 100%|██████████| 504/504 [00:04<00:00, 124.06it/s]\n",
      "Featurizing q: 100%|██████████| 504/504 [00:04<00:00, 124.06it/s]\n",
      "WARNING clustering 1008 points to 50 centroids: please provide at least 1950 training points\n"
     ]
    },
    {
     "name": "stdout",
     "output_type": "stream",
     "text": [
      "initial p_text: 504, q_text: 504\n",
      "remaining p_text: 504, q_text: 504\n"
     ]
    },
    {
     "name": "stderr",
     "output_type": "stream",
     "text": [
      "Featurizing p: 100%|██████████| 504/504 [00:04<00:00, 124.24it/s]\n",
      "Featurizing q: 100%|██████████| 504/504 [00:04<00:00, 124.33it/s]\n",
      "WARNING clustering 1008 points to 50 centroids: please provide at least 1950 training points\n"
     ]
    },
    {
     "name": "stdout",
     "output_type": "stream",
     "text": [
      "initial p_text: 507, q_text: 507\n",
      "remaining p_text: 507, q_text: 507\n"
     ]
    },
    {
     "name": "stderr",
     "output_type": "stream",
     "text": [
      "Featurizing p: 100%|██████████| 507/507 [00:04<00:00, 124.04it/s]\n",
      "Featurizing q: 100%|██████████| 507/507 [00:04<00:00, 124.27it/s]\n",
      "WARNING clustering 1014 points to 51 centroids: please provide at least 1989 training points\n"
     ]
    },
    {
     "name": "stdout",
     "output_type": "stream",
     "text": [
      "initial p_text: 507, q_text: 507\n",
      "remaining p_text: 507, q_text: 507\n"
     ]
    },
    {
     "name": "stderr",
     "output_type": "stream",
     "text": [
      "Featurizing p: 100%|██████████| 507/507 [00:04<00:00, 123.80it/s]\n",
      "Featurizing q: 100%|██████████| 507/507 [00:04<00:00, 123.28it/s]\n",
      "WARNING clustering 1014 points to 51 centroids: please provide at least 1989 training points\n"
     ]
    },
    {
     "name": "stdout",
     "output_type": "stream",
     "text": [
      "initial p_text: 501, q_text: 501\n",
      "remaining p_text: 501, q_text: 501\n"
     ]
    },
    {
     "name": "stderr",
     "output_type": "stream",
     "text": [
      "Featurizing p: 100%|██████████| 501/501 [00:04<00:00, 123.28it/s]\n",
      "Featurizing q: 100%|██████████| 501/501 [00:04<00:00, 122.96it/s]\n",
      "WARNING clustering 1002 points to 50 centroids: please provide at least 1950 training points\n"
     ]
    },
    {
     "name": "stdout",
     "output_type": "stream",
     "text": [
      "initial p_text: 501, q_text: 501\n",
      "remaining p_text: 501, q_text: 501\n"
     ]
    },
    {
     "name": "stderr",
     "output_type": "stream",
     "text": [
      "Featurizing p: 100%|██████████| 501/501 [00:04<00:00, 123.86it/s]\n",
      "Featurizing q: 100%|██████████| 501/501 [00:04<00:00, 124.21it/s]\n",
      "WARNING clustering 1002 points to 50 centroids: please provide at least 1950 training points\n"
     ]
    },
    {
     "name": "stdout",
     "output_type": "stream",
     "text": [
      "initial p_text: 503, q_text: 503\n",
      "remaining p_text: 503, q_text: 503\n"
     ]
    },
    {
     "name": "stderr",
     "output_type": "stream",
     "text": [
      "Featurizing p: 100%|██████████| 503/503 [00:04<00:00, 123.74it/s]\n",
      "Featurizing q: 100%|██████████| 503/503 [00:04<00:00, 123.94it/s]\n",
      "WARNING clustering 1006 points to 50 centroids: please provide at least 1950 training points\n"
     ]
    },
    {
     "name": "stdout",
     "output_type": "stream",
     "text": [
      "initial p_text: 503, q_text: 503\n",
      "remaining p_text: 503, q_text: 503\n"
     ]
    },
    {
     "name": "stderr",
     "output_type": "stream",
     "text": [
      "Featurizing p: 100%|██████████| 503/503 [00:04<00:00, 124.28it/s]\n",
      "Featurizing q: 100%|██████████| 503/503 [00:04<00:00, 124.22it/s]\n",
      "WARNING clustering 1006 points to 50 centroids: please provide at least 1950 training points\n"
     ]
    },
    {
     "name": "stdout",
     "output_type": "stream",
     "text": [
      "initial p_text: 501, q_text: 501\n",
      "remaining p_text: 501, q_text: 501\n"
     ]
    },
    {
     "name": "stderr",
     "output_type": "stream",
     "text": [
      "Featurizing p: 100%|██████████| 501/501 [00:04<00:00, 123.25it/s]\n",
      "Featurizing q: 100%|██████████| 501/501 [00:04<00:00, 122.84it/s]\n",
      "WARNING clustering 1002 points to 50 centroids: please provide at least 1950 training points\n"
     ]
    },
    {
     "name": "stdout",
     "output_type": "stream",
     "text": [
      "initial p_text: 501, q_text: 501\n",
      "remaining p_text: 501, q_text: 501\n"
     ]
    },
    {
     "name": "stderr",
     "output_type": "stream",
     "text": [
      "Featurizing p: 100%|██████████| 501/501 [00:04<00:00, 124.09it/s]\n",
      "Featurizing q: 100%|██████████| 501/501 [00:04<00:00, 123.56it/s]\n",
      "WARNING clustering 1002 points to 50 centroids: please provide at least 1950 training points\n"
     ]
    },
    {
     "name": "stdout",
     "output_type": "stream",
     "text": [
      "initial p_text: 502, q_text: 502\n",
      "remaining p_text: 502, q_text: 502\n"
     ]
    },
    {
     "name": "stderr",
     "output_type": "stream",
     "text": [
      "Featurizing p: 100%|██████████| 502/502 [00:04<00:00, 124.18it/s]\n",
      "Featurizing q: 100%|██████████| 502/502 [00:04<00:00, 124.30it/s]\n",
      "WARNING clustering 1004 points to 50 centroids: please provide at least 1950 training points\n"
     ]
    },
    {
     "name": "stdout",
     "output_type": "stream",
     "text": [
      "initial p_text: 502, q_text: 502\n",
      "remaining p_text: 502, q_text: 502\n"
     ]
    },
    {
     "name": "stderr",
     "output_type": "stream",
     "text": [
      "Featurizing p: 100%|██████████| 502/502 [00:04<00:00, 123.92it/s]\n",
      "Featurizing q: 100%|██████████| 502/502 [00:04<00:00, 123.62it/s]\n",
      "WARNING clustering 1004 points to 50 centroids: please provide at least 1950 training points\n"
     ]
    },
    {
     "name": "stdout",
     "output_type": "stream",
     "text": [
      "initial p_text: 498, q_text: 498\n",
      "remaining p_text: 498, q_text: 498\n"
     ]
    },
    {
     "name": "stderr",
     "output_type": "stream",
     "text": [
      "Featurizing p: 100%|██████████| 498/498 [00:04<00:00, 124.12it/s]\n",
      "Featurizing q: 100%|██████████| 498/498 [00:04<00:00, 124.05it/s]\n",
      "WARNING clustering 996 points to 50 centroids: please provide at least 1950 training points\n"
     ]
    },
    {
     "name": "stdout",
     "output_type": "stream",
     "text": [
      "initial p_text: 498, q_text: 498\n",
      "remaining p_text: 498, q_text: 498\n"
     ]
    },
    {
     "name": "stderr",
     "output_type": "stream",
     "text": [
      "Featurizing p: 100%|██████████| 498/498 [00:04<00:00, 123.96it/s]\n",
      "Featurizing q: 100%|██████████| 498/498 [00:04<00:00, 124.00it/s]\n",
      "WARNING clustering 996 points to 50 centroids: please provide at least 1950 training points\n"
     ]
    },
    {
     "data": {
      "text/html": [
       "<div>\n",
       "<style scoped>\n",
       "    .dataframe tbody tr th:only-of-type {\n",
       "        vertical-align: middle;\n",
       "    }\n",
       "\n",
       "    .dataframe tbody tr th {\n",
       "        vertical-align: top;\n",
       "    }\n",
       "\n",
       "    .dataframe thead th {\n",
       "        text-align: right;\n",
       "    }\n",
       "</style>\n",
       "<table border=\"1\" class=\"dataframe\">\n",
       "  <thead>\n",
       "    <tr style=\"text-align: right;\">\n",
       "      <th></th>\n",
       "      <th>sampling</th>\n",
       "      <th>beams</th>\n",
       "      <th>gammas</th>\n",
       "      <th>deltas</th>\n",
       "      <th>no_watermark_mauve</th>\n",
       "      <th>watermark_mauve</th>\n",
       "    </tr>\n",
       "  </thead>\n",
       "  <tbody>\n",
       "    <tr>\n",
       "      <th>0</th>\n",
       "      <td>False</td>\n",
       "      <td>1</td>\n",
       "      <td>0.5</td>\n",
       "      <td>0.1</td>\n",
       "      <td>0.225939</td>\n",
       "      <td>0.232342</td>\n",
       "    </tr>\n",
       "    <tr>\n",
       "      <th>1</th>\n",
       "      <td>False</td>\n",
       "      <td>1</td>\n",
       "      <td>0.5</td>\n",
       "      <td>0.5</td>\n",
       "      <td>0.239336</td>\n",
       "      <td>0.221264</td>\n",
       "    </tr>\n",
       "    <tr>\n",
       "      <th>2</th>\n",
       "      <td>False</td>\n",
       "      <td>1</td>\n",
       "      <td>0.5</td>\n",
       "      <td>1.0</td>\n",
       "      <td>0.227232</td>\n",
       "      <td>0.260508</td>\n",
       "    </tr>\n",
       "    <tr>\n",
       "      <th>3</th>\n",
       "      <td>False</td>\n",
       "      <td>1</td>\n",
       "      <td>0.5</td>\n",
       "      <td>2.0</td>\n",
       "      <td>0.247442</td>\n",
       "      <td>0.263664</td>\n",
       "    </tr>\n",
       "    <tr>\n",
       "      <th>4</th>\n",
       "      <td>False</td>\n",
       "      <td>1</td>\n",
       "      <td>0.5</td>\n",
       "      <td>5.0</td>\n",
       "      <td>0.238256</td>\n",
       "      <td>0.188275</td>\n",
       "    </tr>\n",
       "    <tr>\n",
       "      <th>5</th>\n",
       "      <td>False</td>\n",
       "      <td>4</td>\n",
       "      <td>0.5</td>\n",
       "      <td>0.1</td>\n",
       "      <td>0.736922</td>\n",
       "      <td>0.798888</td>\n",
       "    </tr>\n",
       "    <tr>\n",
       "      <th>6</th>\n",
       "      <td>False</td>\n",
       "      <td>4</td>\n",
       "      <td>0.5</td>\n",
       "      <td>0.5</td>\n",
       "      <td>0.719751</td>\n",
       "      <td>0.675957</td>\n",
       "    </tr>\n",
       "    <tr>\n",
       "      <th>7</th>\n",
       "      <td>False</td>\n",
       "      <td>4</td>\n",
       "      <td>0.5</td>\n",
       "      <td>1.0</td>\n",
       "      <td>0.727009</td>\n",
       "      <td>0.652992</td>\n",
       "    </tr>\n",
       "    <tr>\n",
       "      <th>8</th>\n",
       "      <td>False</td>\n",
       "      <td>4</td>\n",
       "      <td>0.5</td>\n",
       "      <td>2.0</td>\n",
       "      <td>0.678345</td>\n",
       "      <td>0.674693</td>\n",
       "    </tr>\n",
       "    <tr>\n",
       "      <th>9</th>\n",
       "      <td>False</td>\n",
       "      <td>4</td>\n",
       "      <td>0.5</td>\n",
       "      <td>5.0</td>\n",
       "      <td>0.680771</td>\n",
       "      <td>0.675959</td>\n",
       "    </tr>\n",
       "    <tr>\n",
       "      <th>10</th>\n",
       "      <td>False</td>\n",
       "      <td>8</td>\n",
       "      <td>0.5</td>\n",
       "      <td>0.1</td>\n",
       "      <td>0.709712</td>\n",
       "      <td>0.679087</td>\n",
       "    </tr>\n",
       "    <tr>\n",
       "      <th>11</th>\n",
       "      <td>False</td>\n",
       "      <td>8</td>\n",
       "      <td>0.5</td>\n",
       "      <td>0.5</td>\n",
       "      <td>0.736322</td>\n",
       "      <td>0.712470</td>\n",
       "    </tr>\n",
       "    <tr>\n",
       "      <th>12</th>\n",
       "      <td>False</td>\n",
       "      <td>8</td>\n",
       "      <td>0.5</td>\n",
       "      <td>1.0</td>\n",
       "      <td>0.660935</td>\n",
       "      <td>0.606752</td>\n",
       "    </tr>\n",
       "    <tr>\n",
       "      <th>13</th>\n",
       "      <td>False</td>\n",
       "      <td>8</td>\n",
       "      <td>0.5</td>\n",
       "      <td>2.0</td>\n",
       "      <td>0.696546</td>\n",
       "      <td>0.585997</td>\n",
       "    </tr>\n",
       "    <tr>\n",
       "      <th>14</th>\n",
       "      <td>False</td>\n",
       "      <td>8</td>\n",
       "      <td>0.5</td>\n",
       "      <td>5.0</td>\n",
       "      <td>0.687781</td>\n",
       "      <td>0.596150</td>\n",
       "    </tr>\n",
       "  </tbody>\n",
       "</table>\n",
       "</div>"
      ],
      "text/plain": [
       "    sampling  beams  gammas  deltas  no_watermark_mauve  watermark_mauve\n",
       "0      False      1     0.5     0.1            0.225939         0.232342\n",
       "1      False      1     0.5     0.5            0.239336         0.221264\n",
       "2      False      1     0.5     1.0            0.227232         0.260508\n",
       "3      False      1     0.5     2.0            0.247442         0.263664\n",
       "4      False      1     0.5     5.0            0.238256         0.188275\n",
       "5      False      4     0.5     0.1            0.736922         0.798888\n",
       "6      False      4     0.5     0.5            0.719751         0.675957\n",
       "7      False      4     0.5     1.0            0.727009         0.652992\n",
       "8      False      4     0.5     2.0            0.678345         0.674693\n",
       "9      False      4     0.5     5.0            0.680771         0.675959\n",
       "10     False      8     0.5     0.1            0.709712         0.679087\n",
       "11     False      8     0.5     0.5            0.736322         0.712470\n",
       "12     False      8     0.5     1.0            0.660935         0.606752\n",
       "13     False      8     0.5     2.0            0.696546         0.585997\n",
       "14     False      8     0.5     5.0            0.687781         0.596150"
      ]
     },
     "execution_count": 24,
     "metadata": {},
     "output_type": "execute_result"
    }
   ],
   "source": [
    "# Greedy\n",
    "group_list =(\n",
    "    (False, 1, 0.1, 0.5),\n",
    "    (False, 1, 0.5, 0.5),\n",
    "    (False, 1, 1.0, 0.5),\n",
    "    (False, 1, 2.0, 0.5),\n",
    "    (False, 1, 5.0, 0.5),\n",
    "\n",
    "    (False, 4, 0.1, 0.5),\n",
    "    (False, 4, 0.5, 0.5),\n",
    "    (False, 4, 1.0, 0.5),\n",
    "    (False, 4, 2.0, 0.5),\n",
    "    (False, 4, 5.0, 0.5),\n",
    "\n",
    "    (False, 8, 0.1, 0.5),\n",
    "    (False, 8, 0.5, 0.5),\n",
    "    (False, 8, 1.0, 0.5),\n",
    "    (False, 8, 2.0, 0.5),\n",
    "    (False, 8, 5.0, 0.5),\n",
    ")\n",
    "\n",
    "sampling, beams, gammas, deltas = [], [], [], []\n",
    "# baseline_mauve = []\n",
    "no_watermark_mauve = []\n",
    "watermark_mauve = []\n",
    "\n",
    "for idx, group in enumerate(group_list):\n",
    "    group_df = grouped_df.get_group(group)\n",
    "\n",
    "    sampling.append(group[0])\n",
    "    beams.append(group[1])\n",
    "    deltas.append(group[2])\n",
    "    gammas.append(group[3])\n",
    "    ## get mauve scores\n",
    "    p_text = group_df[\"baseline_completion\"].values.tolist()\n",
    "    q_text_w_bl = group_df[\"w_bl_output\"].values.tolist()\n",
    "    q_text_no_bl = group_df[\"no_bl_output\"].values.tolist()\n",
    "\n",
    "    watermark_mauve.append(get_mauve_score(p_text, q_text_w_bl, max_len=128))\n",
    "    no_watermark_mauve.append(get_mauve_score(p_text, q_text_no_bl, max_len=128))\n",
    "\n",
    "viz_df_greedy = pd.DataFrame()\n",
    "\n",
    "\n",
    "viz_df_greedy[\"sampling\"] = sampling\n",
    "viz_df_greedy[\"beams\"] = beams\n",
    "viz_df_greedy[\"gammas\"] = gammas\n",
    "viz_df_greedy[\"deltas\"] = deltas\n",
    "\n",
    "viz_df_greedy['no_watermark_mauve'] = no_watermark_mauve\n",
    "viz_df_greedy['watermark_mauve'] = watermark_mauve\n",
    "\n",
    "viz_df_greedy\n"
   ]
  },
  {
   "cell_type": "code",
   "execution_count": 26,
   "metadata": {},
   "outputs": [
    {
     "name": "stderr",
     "output_type": "stream",
     "text": [
      "03/31/2023 14:48:45 - INFO - matplotlib.texmanager -   No LaTeX-compatible font found for the serif fontfamily in rcParams. Using default.\n",
      "03/31/2023 14:48:45 - INFO - matplotlib.texmanager -   No LaTeX-compatible font found for the serif fontfamily in rcParams. Using default.\n",
      "03/31/2023 14:48:45 - INFO - matplotlib.texmanager -   No LaTeX-compatible font found for the serif fontfamily in rcParams. Using default.\n",
      "03/31/2023 14:48:45 - INFO - matplotlib.texmanager -   No LaTeX-compatible font found for the serif fontfamily in rcParams. Using default.\n",
      "03/31/2023 14:48:45 - INFO - matplotlib.texmanager -   No LaTeX-compatible font found for the serif fontfamily in rcParams. Using default.\n",
      "03/31/2023 14:48:45 - INFO - matplotlib.texmanager -   No LaTeX-compatible font found for the serif fontfamily in rcParams. Using default.\n",
      "03/31/2023 14:48:45 - INFO - matplotlib.texmanager -   No LaTeX-compatible font found for the serif fontfamily in rcParams. Using default.\n",
      "03/31/2023 14:48:45 - INFO - matplotlib.texmanager -   No LaTeX-compatible font found for the serif fontfamily in rcParams. Using default.\n",
      "03/31/2023 14:48:45 - INFO - matplotlib.texmanager -   No LaTeX-compatible font found for the serif fontfamily in rcParams. Using default.\n",
      "03/31/2023 14:48:45 - INFO - matplotlib.texmanager -   No LaTeX-compatible font found for the serif fontfamily in rcParams. Using default.\n",
      "03/31/2023 14:48:45 - INFO - matplotlib.texmanager -   No LaTeX-compatible font found for the serif fontfamily in rcParams. Using default.\n",
      "03/31/2023 14:48:45 - INFO - matplotlib.texmanager -   No LaTeX-compatible font found for the serif fontfamily in rcParams. Using default.\n",
      "03/31/2023 14:48:45 - INFO - matplotlib.texmanager -   No LaTeX-compatible font found for the serif fontfamily in rcParams. Using default.\n",
      "03/31/2023 14:48:45 - INFO - matplotlib.texmanager -   No LaTeX-compatible font found for the serif fontfamily in rcParams. Using default.\n",
      "03/31/2023 14:48:45 - INFO - matplotlib.texmanager -   No LaTeX-compatible font found for the serif fontfamily in rcParams. Using default.\n",
      "03/31/2023 14:48:45 - INFO - matplotlib.texmanager -   No LaTeX-compatible font found for the serif fontfamily in rcParams. Using default.\n",
      "03/31/2023 14:48:45 - INFO - matplotlib.texmanager -   No LaTeX-compatible font found for the serif fontfamily in rcParams. Using default.\n",
      "03/31/2023 14:48:45 - INFO - matplotlib.texmanager -   No LaTeX-compatible font found for the serif fontfamily in rcParams. Using default.\n",
      "03/31/2023 14:48:45 - INFO - matplotlib.texmanager -   No LaTeX-compatible font found for the serif fontfamily in rcParams. Using default.\n",
      "03/31/2023 14:48:45 - INFO - matplotlib.texmanager -   No LaTeX-compatible font found for the serif fontfamily in rcParams. Using default.\n",
      "03/31/2023 14:48:45 - INFO - matplotlib.texmanager -   No LaTeX-compatible font found for the serif fontfamily in rcParams. Using default.\n",
      "03/31/2023 14:48:45 - INFO - matplotlib.texmanager -   No LaTeX-compatible font found for the serif fontfamily in rcParams. Using default.\n",
      "03/31/2023 14:48:45 - INFO - matplotlib.texmanager -   No LaTeX-compatible font found for the serif fontfamily in rcParams. Using default.\n",
      "03/31/2023 14:48:45 - INFO - matplotlib.texmanager -   No LaTeX-compatible font found for the serif fontfamily in rcParams. Using default.\n",
      "03/31/2023 14:48:45 - INFO - matplotlib.texmanager -   No LaTeX-compatible font found for the serif fontfamily in rcParams. Using default.\n",
      "03/31/2023 14:48:45 - INFO - matplotlib.texmanager -   No LaTeX-compatible font found for the serif fontfamily in rcParams. Using default.\n",
      "03/31/2023 14:48:45 - INFO - matplotlib.texmanager -   No LaTeX-compatible font found for the serif fontfamily in rcParams. Using default.\n",
      "03/31/2023 14:48:45 - INFO - matplotlib.texmanager -   No LaTeX-compatible font found for the serif fontfamily in rcParams. Using default.\n",
      "03/31/2023 14:48:45 - INFO - matplotlib.texmanager -   No LaTeX-compatible font found for the serif fontfamily in rcParams. Using default.\n",
      "03/31/2023 14:48:45 - INFO - matplotlib.texmanager -   No LaTeX-compatible font found for the serif fontfamily in rcParams. Using default.\n",
      "03/31/2023 14:48:45 - INFO - matplotlib.texmanager -   No LaTeX-compatible font found for the serif fontfamily in rcParams. Using default.\n",
      "03/31/2023 14:48:45 - INFO - matplotlib.texmanager -   No LaTeX-compatible font found for the serif fontfamily in rcParams. Using default.\n",
      "03/31/2023 14:48:45 - INFO - matplotlib.texmanager -   No LaTeX-compatible font found for the serif fontfamily in rcParams. Using default.\n",
      "03/31/2023 14:48:45 - INFO - matplotlib.texmanager -   No LaTeX-compatible font found for the serif fontfamily in rcParams. Using default.\n",
      "03/31/2023 14:48:45 - INFO - matplotlib.texmanager -   No LaTeX-compatible font found for the serif fontfamily in rcParams. Using default.\n",
      "03/31/2023 14:48:45 - INFO - matplotlib.texmanager -   No LaTeX-compatible font found for the serif fontfamily in rcParams. Using default.\n",
      "03/31/2023 14:48:45 - INFO - matplotlib.texmanager -   No LaTeX-compatible font found for the serif fontfamily in rcParams. Using default.\n",
      "03/31/2023 14:48:45 - INFO - matplotlib.texmanager -   No LaTeX-compatible font found for the serif fontfamily in rcParams. Using default.\n",
      "03/31/2023 14:48:45 - INFO - matplotlib.texmanager -   No LaTeX-compatible font found for the serif fontfamily in rcParams. Using default.\n",
      "03/31/2023 14:48:45 - INFO - matplotlib.texmanager -   No LaTeX-compatible font found for the serif fontfamily in rcParams. Using default.\n",
      "03/31/2023 14:48:45 - INFO - matplotlib.texmanager -   No LaTeX-compatible font found for the serif fontfamily in rcParams. Using default.\n",
      "03/31/2023 14:48:45 - INFO - matplotlib.texmanager -   No LaTeX-compatible font found for the serif fontfamily in rcParams. Using default.\n",
      "03/31/2023 14:48:45 - INFO - matplotlib.texmanager -   No LaTeX-compatible font found for the serif fontfamily in rcParams. Using default.\n",
      "03/31/2023 14:48:45 - INFO - matplotlib.texmanager -   No LaTeX-compatible font found for the serif fontfamily in rcParams. Using default.\n",
      "03/31/2023 14:48:45 - INFO - matplotlib.texmanager -   No LaTeX-compatible font found for the serif fontfamily in rcParams. Using default.\n",
      "03/31/2023 14:48:45 - INFO - matplotlib.texmanager -   No LaTeX-compatible font found for the serif fontfamily in rcParams. Using default.\n",
      "03/31/2023 14:48:45 - INFO - matplotlib.texmanager -   No LaTeX-compatible font found for the serif fontfamily in rcParams. Using default.\n",
      "03/31/2023 14:48:45 - INFO - matplotlib.texmanager -   No LaTeX-compatible font found for the serif fontfamily in rcParams. Using default.\n",
      "03/31/2023 14:48:45 - INFO - matplotlib.texmanager -   No LaTeX-compatible font found for the serif fontfamily in rcParams. Using default.\n",
      "03/31/2023 14:48:45 - INFO - matplotlib.texmanager -   No LaTeX-compatible font found for the serif fontfamily in rcParams. Using default.\n",
      "03/31/2023 14:48:46 - INFO - matplotlib.texmanager -   No LaTeX-compatible font found for the serif fontfamily in rcParams. Using default.\n",
      "03/31/2023 14:48:46 - INFO - matplotlib.texmanager -   No LaTeX-compatible font found for the serif fontfamily in rcParams. Using default.\n",
      "03/31/2023 14:48:46 - INFO - matplotlib.texmanager -   No LaTeX-compatible font found for the serif fontfamily in rcParams. Using default.\n",
      "03/31/2023 14:48:46 - INFO - matplotlib.texmanager -   No LaTeX-compatible font found for the serif fontfamily in rcParams. Using default.\n",
      "03/31/2023 14:48:46 - INFO - matplotlib.texmanager -   No LaTeX-compatible font found for the serif fontfamily in rcParams. Using default.\n",
      "03/31/2023 14:48:46 - INFO - matplotlib.texmanager -   No LaTeX-compatible font found for the serif fontfamily in rcParams. Using default.\n",
      "03/31/2023 14:48:46 - INFO - matplotlib.texmanager -   No LaTeX-compatible font found for the serif fontfamily in rcParams. Using default.\n",
      "03/31/2023 14:48:46 - INFO - matplotlib.texmanager -   No LaTeX-compatible font found for the serif fontfamily in rcParams. Using default.\n",
      "03/31/2023 14:48:46 - INFO - matplotlib.texmanager -   No LaTeX-compatible font found for the serif fontfamily in rcParams. Using default.\n",
      "03/31/2023 14:48:46 - INFO - matplotlib.texmanager -   No LaTeX-compatible font found for the serif fontfamily in rcParams. Using default.\n",
      "03/31/2023 14:48:46 - INFO - matplotlib.texmanager -   No LaTeX-compatible font found for the serif fontfamily in rcParams. Using default.\n",
      "03/31/2023 14:48:46 - INFO - matplotlib.texmanager -   No LaTeX-compatible font found for the serif fontfamily in rcParams. Using default.\n",
      "03/31/2023 14:48:46 - INFO - matplotlib.texmanager -   No LaTeX-compatible font found for the serif fontfamily in rcParams. Using default.\n",
      "03/31/2023 14:48:46 - INFO - matplotlib.texmanager -   No LaTeX-compatible font found for the serif fontfamily in rcParams. Using default.\n",
      "03/31/2023 14:48:46 - INFO - matplotlib.texmanager -   No LaTeX-compatible font found for the serif fontfamily in rcParams. Using default.\n",
      "03/31/2023 14:48:46 - INFO - matplotlib.texmanager -   No LaTeX-compatible font found for the serif fontfamily in rcParams. Using default.\n",
      "03/31/2023 14:48:46 - INFO - matplotlib.texmanager -   No LaTeX-compatible font found for the serif fontfamily in rcParams. Using default.\n",
      "03/31/2023 14:48:46 - INFO - matplotlib.texmanager -   No LaTeX-compatible font found for the serif fontfamily in rcParams. Using default.\n",
      "03/31/2023 14:48:46 - INFO - matplotlib.texmanager -   No LaTeX-compatible font found for the serif fontfamily in rcParams. Using default.\n",
      "03/31/2023 14:48:46 - INFO - matplotlib.texmanager -   No LaTeX-compatible font found for the serif fontfamily in rcParams. Using default.\n",
      "03/31/2023 14:48:46 - INFO - matplotlib.texmanager -   No LaTeX-compatible font found for the serif fontfamily in rcParams. Using default.\n",
      "03/31/2023 14:48:46 - INFO - matplotlib.texmanager -   No LaTeX-compatible font found for the serif fontfamily in rcParams. Using default.\n",
      "03/31/2023 14:48:46 - INFO - matplotlib.texmanager -   No LaTeX-compatible font found for the serif fontfamily in rcParams. Using default.\n",
      "03/31/2023 14:48:46 - INFO - matplotlib.texmanager -   No LaTeX-compatible font found for the serif fontfamily in rcParams. Using default.\n",
      "03/31/2023 14:48:46 - INFO - matplotlib.texmanager -   No LaTeX-compatible font found for the serif fontfamily in rcParams. Using default.\n",
      "03/31/2023 14:48:46 - INFO - matplotlib.texmanager -   No LaTeX-compatible font found for the serif fontfamily in rcParams. Using default.\n",
      "03/31/2023 14:48:46 - INFO - matplotlib.texmanager -   No LaTeX-compatible font found for the serif fontfamily in rcParams. Using default.\n",
      "03/31/2023 14:48:46 - INFO - matplotlib.texmanager -   No LaTeX-compatible font found for the serif fontfamily in rcParams. Using default.\n",
      "03/31/2023 14:48:46 - INFO - matplotlib.texmanager -   No LaTeX-compatible font found for the serif fontfamily in rcParams. Using default.\n",
      "03/31/2023 14:48:46 - INFO - matplotlib.texmanager -   No LaTeX-compatible font found for the serif fontfamily in rcParams. Using default.\n",
      "03/31/2023 14:48:46 - INFO - matplotlib.texmanager -   No LaTeX-compatible font found for the serif fontfamily in rcParams. Using default.\n",
      "03/31/2023 14:48:46 - INFO - matplotlib.texmanager -   No LaTeX-compatible font found for the serif fontfamily in rcParams. Using default.\n",
      "03/31/2023 14:48:46 - INFO - matplotlib.texmanager -   No LaTeX-compatible font found for the serif fontfamily in rcParams. Using default.\n",
      "03/31/2023 14:48:46 - INFO - matplotlib.texmanager -   No LaTeX-compatible font found for the serif fontfamily in rcParams. Using default.\n",
      "03/31/2023 14:48:46 - INFO - matplotlib.texmanager -   No LaTeX-compatible font found for the serif fontfamily in rcParams. Using default.\n",
      "03/31/2023 14:48:46 - INFO - matplotlib.texmanager -   No LaTeX-compatible font found for the serif fontfamily in rcParams. Using default.\n",
      "03/31/2023 14:48:46 - INFO - matplotlib.texmanager -   No LaTeX-compatible font found for the serif fontfamily in rcParams. Using default.\n",
      "03/31/2023 14:48:46 - INFO - matplotlib.texmanager -   No LaTeX-compatible font found for the serif fontfamily in rcParams. Using default.\n",
      "03/31/2023 14:48:46 - INFO - matplotlib.texmanager -   No LaTeX-compatible font found for the serif fontfamily in rcParams. Using default.\n",
      "03/31/2023 14:48:46 - INFO - matplotlib.texmanager -   No LaTeX-compatible font found for the serif fontfamily in rcParams. Using default.\n",
      "03/31/2023 14:48:46 - INFO - matplotlib.texmanager -   No LaTeX-compatible font found for the serif fontfamily in rcParams. Using default.\n",
      "03/31/2023 14:48:46 - INFO - matplotlib.texmanager -   No LaTeX-compatible font found for the serif fontfamily in rcParams. Using default.\n",
      "03/31/2023 14:48:46 - INFO - matplotlib.texmanager -   No LaTeX-compatible font found for the serif fontfamily in rcParams. Using default.\n",
      "03/31/2023 14:48:46 - INFO - matplotlib.texmanager -   No LaTeX-compatible font found for the serif fontfamily in rcParams. Using default.\n",
      "03/31/2023 14:48:46 - INFO - matplotlib.texmanager -   No LaTeX-compatible font found for the serif fontfamily in rcParams. Using default.\n",
      "03/31/2023 14:48:46 - INFO - matplotlib.texmanager -   No LaTeX-compatible font found for the serif fontfamily in rcParams. Using default.\n",
      "03/31/2023 14:48:46 - INFO - matplotlib.texmanager -   No LaTeX-compatible font found for the serif fontfamily in rcParams. Using default.\n",
      "03/31/2023 14:48:46 - INFO - matplotlib.texmanager -   No LaTeX-compatible font found for the serif fontfamily in rcParams. Using default.\n",
      "03/31/2023 14:48:46 - INFO - matplotlib.texmanager -   No LaTeX-compatible font found for the serif fontfamily in rcParams. Using default.\n",
      "03/31/2023 14:48:46 - INFO - matplotlib.texmanager -   No LaTeX-compatible font found for the serif fontfamily in rcParams. Using default.\n",
      "03/31/2023 14:48:46 - INFO - matplotlib.texmanager -   No LaTeX-compatible font found for the serif fontfamily in rcParams. Using default.\n",
      "03/31/2023 14:48:46 - INFO - matplotlib.texmanager -   No LaTeX-compatible font found for the serif fontfamily in rcParams. Using default.\n",
      "03/31/2023 14:48:46 - INFO - matplotlib.texmanager -   No LaTeX-compatible font found for the serif fontfamily in rcParams. Using default.\n",
      "03/31/2023 14:48:46 - INFO - matplotlib.texmanager -   No LaTeX-compatible font found for the serif fontfamily in rcParams. Using default.\n",
      "03/31/2023 14:48:46 - INFO - matplotlib.texmanager -   No LaTeX-compatible font found for the serif fontfamily in rcParams. Using default.\n",
      "03/31/2023 14:48:46 - INFO - matplotlib.texmanager -   No LaTeX-compatible font found for the serif fontfamily in rcParams. Using default.\n",
      "03/31/2023 14:48:46 - INFO - matplotlib.texmanager -   No LaTeX-compatible font found for the serif fontfamily in rcParams. Using default.\n",
      "03/31/2023 14:48:46 - INFO - matplotlib.texmanager -   No LaTeX-compatible font found for the serif fontfamily in rcParams. Using default.\n",
      "03/31/2023 14:48:46 - INFO - matplotlib.texmanager -   No LaTeX-compatible font found for the serif fontfamily in rcParams. Using default.\n",
      "03/31/2023 14:48:46 - INFO - matplotlib.texmanager -   No LaTeX-compatible font found for the serif fontfamily in rcParams. Using default.\n",
      "03/31/2023 14:48:46 - INFO - matplotlib.texmanager -   No LaTeX-compatible font found for the serif fontfamily in rcParams. Using default.\n",
      "03/31/2023 14:48:46 - INFO - matplotlib.texmanager -   No LaTeX-compatible font found for the serif fontfamily in rcParams. Using default.\n",
      "03/31/2023 14:48:46 - INFO - matplotlib.texmanager -   No LaTeX-compatible font found for the serif fontfamily in rcParams. Using default.\n",
      "03/31/2023 14:48:46 - INFO - matplotlib.texmanager -   No LaTeX-compatible font found for the serif fontfamily in rcParams. Using default.\n",
      "03/31/2023 14:48:46 - INFO - matplotlib.texmanager -   No LaTeX-compatible font found for the serif fontfamily in rcParams. Using default.\n",
      "03/31/2023 14:48:46 - INFO - matplotlib.texmanager -   No LaTeX-compatible font found for the serif fontfamily in rcParams. Using default.\n",
      "03/31/2023 14:48:46 - INFO - matplotlib.texmanager -   No LaTeX-compatible font found for the serif fontfamily in rcParams. Using default.\n",
      "03/31/2023 14:48:46 - INFO - matplotlib.texmanager -   No LaTeX-compatible font found for the serif fontfamily in rcParams. Using default.\n",
      "03/31/2023 14:48:46 - INFO - matplotlib.texmanager -   No LaTeX-compatible font found for the serif fontfamily in rcParams. Using default.\n",
      "03/31/2023 14:48:46 - INFO - matplotlib.texmanager -   No LaTeX-compatible font found for the serif fontfamily in rcParams. Using default.\n",
      "03/31/2023 14:48:46 - INFO - matplotlib.texmanager -   No LaTeX-compatible font found for the serif fontfamily in rcParams. Using default.\n",
      "03/31/2023 14:48:46 - INFO - matplotlib.texmanager -   No LaTeX-compatible font found for the serif fontfamily in rcParams. Using default.\n",
      "03/31/2023 14:48:46 - INFO - matplotlib.texmanager -   No LaTeX-compatible font found for the serif fontfamily in rcParams. Using default.\n",
      "03/31/2023 14:48:46 - INFO - matplotlib.texmanager -   No LaTeX-compatible font found for the serif fontfamily in rcParams. Using default.\n",
      "03/31/2023 14:48:46 - INFO - matplotlib.texmanager -   No LaTeX-compatible font found for the serif fontfamily in rcParams. Using default.\n",
      "03/31/2023 14:48:46 - INFO - matplotlib.texmanager -   No LaTeX-compatible font found for the serif fontfamily in rcParams. Using default.\n",
      "03/31/2023 14:48:46 - INFO - matplotlib.texmanager -   No LaTeX-compatible font found for the serif fontfamily in rcParams. Using default.\n",
      "03/31/2023 14:48:46 - INFO - matplotlib.texmanager -   No LaTeX-compatible font found for the serif fontfamily in rcParams. Using default.\n",
      "03/31/2023 14:48:46 - INFO - matplotlib.texmanager -   No LaTeX-compatible font found for the serif fontfamily in rcParams. Using default.\n",
      "03/31/2023 14:48:46 - INFO - matplotlib.texmanager -   No LaTeX-compatible font found for the serif fontfamily in rcParams. Using default.\n",
      "03/31/2023 14:48:46 - INFO - matplotlib.texmanager -   No LaTeX-compatible font found for the serif fontfamily in rcParams. Using default.\n",
      "03/31/2023 14:48:46 - INFO - matplotlib.texmanager -   No LaTeX-compatible font found for the serif fontfamily in rcParams. Using default.\n",
      "03/31/2023 14:48:46 - INFO - matplotlib.texmanager -   No LaTeX-compatible font found for the serif fontfamily in rcParams. Using default.\n",
      "03/31/2023 14:48:46 - INFO - matplotlib.texmanager -   No LaTeX-compatible font found for the serif fontfamily in rcParams. Using default.\n",
      "03/31/2023 14:48:46 - INFO - matplotlib.texmanager -   No LaTeX-compatible font found for the serif fontfamily in rcParams. Using default.\n",
      "03/31/2023 14:48:46 - INFO - matplotlib.texmanager -   No LaTeX-compatible font found for the serif fontfamily in rcParams. Using default.\n",
      "03/31/2023 14:48:46 - INFO - matplotlib.texmanager -   No LaTeX-compatible font found for the serif fontfamily in rcParams. Using default.\n",
      "03/31/2023 14:48:46 - INFO - matplotlib.texmanager -   No LaTeX-compatible font found for the serif fontfamily in rcParams. Using default.\n",
      "03/31/2023 14:48:46 - INFO - matplotlib.texmanager -   No LaTeX-compatible font found for the serif fontfamily in rcParams. Using default.\n",
      "03/31/2023 14:48:46 - INFO - matplotlib.texmanager -   No LaTeX-compatible font found for the serif fontfamily in rcParams. Using default.\n",
      "03/31/2023 14:48:46 - INFO - matplotlib.texmanager -   No LaTeX-compatible font found for the serif fontfamily in rcParams. Using default.\n",
      "03/31/2023 14:48:46 - INFO - matplotlib.texmanager -   No LaTeX-compatible font found for the serif fontfamily in rcParams. Using default.\n",
      "03/31/2023 14:48:46 - INFO - matplotlib.texmanager -   No LaTeX-compatible font found for the serif fontfamily in rcParams. Using default.\n",
      "03/31/2023 14:48:46 - INFO - matplotlib.texmanager -   No LaTeX-compatible font found for the serif fontfamily in rcParams. Using default.\n",
      "03/31/2023 14:48:46 - INFO - matplotlib.texmanager -   No LaTeX-compatible font found for the serif fontfamily in rcParams. Using default.\n",
      "03/31/2023 14:48:46 - INFO - matplotlib.texmanager -   No LaTeX-compatible font found for the serif fontfamily in rcParams. Using default.\n",
      "03/31/2023 14:48:46 - INFO - matplotlib.texmanager -   No LaTeX-compatible font found for the serif fontfamily in rcParams. Using default.\n",
      "03/31/2023 14:48:46 - INFO - matplotlib.texmanager -   No LaTeX-compatible font found for the serif fontfamily in rcParams. Using default.\n",
      "03/31/2023 14:48:46 - INFO - matplotlib.texmanager -   No LaTeX-compatible font found for the serif fontfamily in rcParams. Using default.\n",
      "03/31/2023 14:48:46 - INFO - matplotlib.texmanager -   No LaTeX-compatible font found for the serif fontfamily in rcParams. Using default.\n",
      "03/31/2023 14:48:46 - INFO - matplotlib.texmanager -   No LaTeX-compatible font found for the serif fontfamily in rcParams. Using default.\n",
      "03/31/2023 14:48:46 - INFO - matplotlib.texmanager -   No LaTeX-compatible font found for the serif fontfamily in rcParams. Using default.\n",
      "03/31/2023 14:48:46 - INFO - matplotlib.texmanager -   No LaTeX-compatible font found for the serif fontfamily in rcParams. Using default.\n",
      "03/31/2023 14:48:46 - INFO - matplotlib.texmanager -   No LaTeX-compatible font found for the serif fontfamily in rcParams. Using default.\n",
      "03/31/2023 14:48:46 - INFO - matplotlib.texmanager -   No LaTeX-compatible font found for the serif fontfamily in rcParams. Using default.\n",
      "03/31/2023 14:48:46 - INFO - matplotlib.texmanager -   No LaTeX-compatible font found for the serif fontfamily in rcParams. Using default.\n",
      "03/31/2023 14:48:46 - INFO - matplotlib.texmanager -   No LaTeX-compatible font found for the serif fontfamily in rcParams. Using default.\n",
      "03/31/2023 14:48:46 - INFO - matplotlib.texmanager -   No LaTeX-compatible font found for the serif fontfamily in rcParams. Using default.\n",
      "03/31/2023 14:48:46 - INFO - matplotlib.texmanager -   No LaTeX-compatible font found for the serif fontfamily in rcParams. Using default.\n",
      "03/31/2023 14:48:46 - INFO - matplotlib.texmanager -   No LaTeX-compatible font found for the serif fontfamily in rcParams. Using default.\n",
      "03/31/2023 14:48:46 - INFO - matplotlib.texmanager -   No LaTeX-compatible font found for the serif fontfamily in rcParams. Using default.\n",
      "03/31/2023 14:48:46 - INFO - matplotlib.texmanager -   No LaTeX-compatible font found for the serif fontfamily in rcParams. Using default.\n",
      "03/31/2023 14:48:46 - INFO - matplotlib.texmanager -   No LaTeX-compatible font found for the serif fontfamily in rcParams. Using default.\n",
      "03/31/2023 14:48:46 - INFO - matplotlib.texmanager -   No LaTeX-compatible font found for the serif fontfamily in rcParams. Using default.\n",
      "03/31/2023 14:48:46 - INFO - matplotlib.texmanager -   No LaTeX-compatible font found for the serif fontfamily in rcParams. Using default.\n",
      "03/31/2023 14:48:46 - INFO - matplotlib.texmanager -   No LaTeX-compatible font found for the serif fontfamily in rcParams. Using default.\n",
      "03/31/2023 14:48:46 - INFO - matplotlib.texmanager -   No LaTeX-compatible font found for the serif fontfamily in rcParams. Using default.\n",
      "03/31/2023 14:48:46 - INFO - matplotlib.texmanager -   No LaTeX-compatible font found for the serif fontfamily in rcParams. Using default.\n",
      "03/31/2023 14:48:46 - INFO - matplotlib.texmanager -   No LaTeX-compatible font found for the serif fontfamily in rcParams. Using default.\n",
      "03/31/2023 14:48:46 - INFO - matplotlib.texmanager -   No LaTeX-compatible font found for the serif fontfamily in rcParams. Using default.\n",
      "03/31/2023 14:48:46 - INFO - matplotlib.texmanager -   No LaTeX-compatible font found for the serif fontfamily in rcParams. Using default.\n",
      "03/31/2023 14:48:46 - INFO - matplotlib.texmanager -   No LaTeX-compatible font found for the serif fontfamily in rcParams. Using default.\n",
      "03/31/2023 14:48:46 - INFO - matplotlib.texmanager -   No LaTeX-compatible font found for the serif fontfamily in rcParams. Using default.\n",
      "03/31/2023 14:48:46 - INFO - matplotlib.texmanager -   No LaTeX-compatible font found for the serif fontfamily in rcParams. Using default.\n",
      "03/31/2023 14:48:46 - INFO - matplotlib.texmanager -   No LaTeX-compatible font found for the serif fontfamily in rcParams. Using default.\n",
      "03/31/2023 14:48:46 - INFO - matplotlib.texmanager -   No LaTeX-compatible font found for the serif fontfamily in rcParams. Using default.\n",
      "03/31/2023 14:48:46 - INFO - matplotlib.texmanager -   No LaTeX-compatible font found for the serif fontfamily in rcParams. Using default.\n",
      "03/31/2023 14:48:46 - INFO - matplotlib.texmanager -   No LaTeX-compatible font found for the serif fontfamily in rcParams. Using default.\n",
      "03/31/2023 14:48:46 - INFO - matplotlib.texmanager -   No LaTeX-compatible font found for the serif fontfamily in rcParams. Using default.\n",
      "03/31/2023 14:48:46 - INFO - matplotlib.texmanager -   No LaTeX-compatible font found for the serif fontfamily in rcParams. Using default.\n",
      "03/31/2023 14:48:46 - INFO - matplotlib.texmanager -   No LaTeX-compatible font found for the serif fontfamily in rcParams. Using default.\n",
      "03/31/2023 14:48:46 - INFO - matplotlib.texmanager -   No LaTeX-compatible font found for the serif fontfamily in rcParams. Using default.\n",
      "03/31/2023 14:48:46 - INFO - matplotlib.texmanager -   No LaTeX-compatible font found for the serif fontfamily in rcParams. Using default.\n",
      "03/31/2023 14:48:46 - INFO - matplotlib.texmanager -   No LaTeX-compatible font found for the serif fontfamily in rcParams. Using default.\n",
      "03/31/2023 14:48:46 - INFO - matplotlib.texmanager -   No LaTeX-compatible font found for the serif fontfamily in rcParams. Using default.\n",
      "03/31/2023 14:48:46 - INFO - matplotlib.texmanager -   No LaTeX-compatible font found for the serif fontfamily in rcParams. Using default.\n",
      "03/31/2023 14:48:46 - INFO - matplotlib.texmanager -   No LaTeX-compatible font found for the serif fontfamily in rcParams. Using default.\n",
      "03/31/2023 14:48:46 - INFO - matplotlib.texmanager -   No LaTeX-compatible font found for the serif fontfamily in rcParams. Using default.\n",
      "03/31/2023 14:48:46 - INFO - matplotlib.texmanager -   No LaTeX-compatible font found for the serif fontfamily in rcParams. Using default.\n",
      "03/31/2023 14:48:46 - INFO - matplotlib.texmanager -   No LaTeX-compatible font found for the serif fontfamily in rcParams. Using default.\n",
      "03/31/2023 14:48:46 - INFO - matplotlib.texmanager -   No LaTeX-compatible font found for the serif fontfamily in rcParams. Using default.\n",
      "03/31/2023 14:48:46 - INFO - matplotlib.texmanager -   No LaTeX-compatible font found for the serif fontfamily in rcParams. Using default.\n",
      "03/31/2023 14:48:46 - INFO - matplotlib.texmanager -   No LaTeX-compatible font found for the serif fontfamily in rcParams. Using default.\n",
      "03/31/2023 14:48:46 - INFO - matplotlib.texmanager -   No LaTeX-compatible font found for the serif fontfamily in rcParams. Using default.\n",
      "03/31/2023 14:48:46 - INFO - matplotlib.texmanager -   No LaTeX-compatible font found for the serif fontfamily in rcParams. Using default.\n",
      "03/31/2023 14:48:46 - INFO - matplotlib.texmanager -   No LaTeX-compatible font found for the serif fontfamily in rcParams. Using default.\n",
      "03/31/2023 14:48:46 - INFO - matplotlib.texmanager -   No LaTeX-compatible font found for the serif fontfamily in rcParams. Using default.\n",
      "03/31/2023 14:48:46 - INFO - matplotlib.texmanager -   No LaTeX-compatible font found for the serif fontfamily in rcParams. Using default.\n",
      "03/31/2023 14:48:46 - INFO - matplotlib.texmanager -   No LaTeX-compatible font found for the serif fontfamily in rcParams. Using default.\n",
      "03/31/2023 14:48:46 - INFO - matplotlib.texmanager -   No LaTeX-compatible font found for the serif fontfamily in rcParams. Using default.\n",
      "03/31/2023 14:48:46 - INFO - matplotlib.texmanager -   No LaTeX-compatible font found for the serif fontfamily in rcParams. Using default.\n",
      "03/31/2023 14:48:46 - INFO - matplotlib.texmanager -   No LaTeX-compatible font found for the serif fontfamily in rcParams. Using default.\n",
      "03/31/2023 14:48:46 - INFO - matplotlib.texmanager -   No LaTeX-compatible font found for the serif fontfamily in rcParams. Using default.\n",
      "03/31/2023 14:48:46 - INFO - matplotlib.texmanager -   No LaTeX-compatible font found for the serif fontfamily in rcParams. Using default.\n",
      "03/31/2023 14:48:46 - INFO - matplotlib.texmanager -   No LaTeX-compatible font found for the serif fontfamily in rcParams. Using default.\n",
      "03/31/2023 14:48:46 - INFO - matplotlib.texmanager -   No LaTeX-compatible font found for the serif fontfamily in rcParams. Using default.\n",
      "03/31/2023 14:48:46 - INFO - matplotlib.texmanager -   No LaTeX-compatible font found for the serif fontfamily in rcParams. Using default.\n",
      "03/31/2023 14:48:46 - INFO - matplotlib.texmanager -   No LaTeX-compatible font found for the serif fontfamily in rcParams. Using default.\n",
      "03/31/2023 14:48:46 - INFO - matplotlib.texmanager -   No LaTeX-compatible font found for the serif fontfamily in rcParams. Using default.\n",
      "03/31/2023 14:48:46 - INFO - matplotlib.texmanager -   No LaTeX-compatible font found for the serif fontfamily in rcParams. Using default.\n",
      "03/31/2023 14:48:46 - INFO - matplotlib.texmanager -   No LaTeX-compatible font found for the serif fontfamily in rcParams. Using default.\n",
      "03/31/2023 14:48:46 - INFO - matplotlib.texmanager -   No LaTeX-compatible font found for the serif fontfamily in rcParams. Using default.\n",
      "03/31/2023 14:48:46 - INFO - matplotlib.texmanager -   No LaTeX-compatible font found for the serif fontfamily in rcParams. Using default.\n",
      "03/31/2023 14:48:46 - INFO - matplotlib.texmanager -   No LaTeX-compatible font found for the serif fontfamily in rcParams. Using default.\n",
      "03/31/2023 14:48:46 - INFO - matplotlib.texmanager -   No LaTeX-compatible font found for the serif fontfamily in rcParams. Using default.\n",
      "03/31/2023 14:48:46 - INFO - matplotlib.texmanager -   No LaTeX-compatible font found for the serif fontfamily in rcParams. Using default.\n",
      "03/31/2023 14:48:46 - INFO - matplotlib.texmanager -   No LaTeX-compatible font found for the serif fontfamily in rcParams. Using default.\n",
      "03/31/2023 14:48:46 - INFO - matplotlib.texmanager -   No LaTeX-compatible font found for the serif fontfamily in rcParams. Using default.\n",
      "03/31/2023 14:48:46 - INFO - matplotlib.texmanager -   No LaTeX-compatible font found for the serif fontfamily in rcParams. Using default.\n",
      "03/31/2023 14:48:46 - INFO - matplotlib.texmanager -   No LaTeX-compatible font found for the serif fontfamily in rcParams. Using default.\n",
      "03/31/2023 14:48:46 - INFO - matplotlib.texmanager -   No LaTeX-compatible font found for the serif fontfamily in rcParams. Using default.\n",
      "03/31/2023 14:48:46 - INFO - matplotlib.texmanager -   No LaTeX-compatible font found for the serif fontfamily in rcParams. Using default.\n",
      "03/31/2023 14:48:46 - INFO - matplotlib.texmanager -   No LaTeX-compatible font found for the serif fontfamily in rcParams. Using default.\n",
      "03/31/2023 14:48:46 - INFO - matplotlib.texmanager -   No LaTeX-compatible font found for the serif fontfamily in rcParams. Using default.\n",
      "03/31/2023 14:48:46 - INFO - matplotlib.texmanager -   No LaTeX-compatible font found for the serif fontfamily in rcParams. Using default.\n",
      "03/31/2023 14:48:46 - INFO - matplotlib.texmanager -   No LaTeX-compatible font found for the serif fontfamily in rcParams. Using default.\n",
      "03/31/2023 14:48:46 - INFO - matplotlib.texmanager -   No LaTeX-compatible font found for the serif fontfamily in rcParams. Using default.\n",
      "03/31/2023 14:48:46 - INFO - matplotlib.texmanager -   No LaTeX-compatible font found for the serif fontfamily in rcParams. Using default.\n",
      "03/31/2023 14:48:46 - INFO - matplotlib.texmanager -   No LaTeX-compatible font found for the serif fontfamily in rcParams. Using default.\n",
      "03/31/2023 14:48:46 - INFO - matplotlib.texmanager -   No LaTeX-compatible font found for the serif fontfamily in rcParams. Using default.\n",
      "03/31/2023 14:48:46 - INFO - matplotlib.texmanager -   No LaTeX-compatible font found for the serif fontfamily in rcParams. Using default.\n",
      "03/31/2023 14:48:46 - INFO - matplotlib.texmanager -   No LaTeX-compatible font found for the serif fontfamily in rcParams. Using default.\n",
      "03/31/2023 14:48:46 - INFO - matplotlib.texmanager -   No LaTeX-compatible font found for the serif fontfamily in rcParams. Using default.\n",
      "03/31/2023 14:48:46 - INFO - matplotlib.texmanager -   No LaTeX-compatible font found for the serif fontfamily in rcParams. Using default.\n",
      "03/31/2023 14:48:46 - INFO - matplotlib.texmanager -   No LaTeX-compatible font found for the serif fontfamily in rcParams. Using default.\n",
      "03/31/2023 14:48:46 - INFO - matplotlib.texmanager -   No LaTeX-compatible font found for the serif fontfamily in rcParams. Using default.\n",
      "03/31/2023 14:48:46 - INFO - matplotlib.texmanager -   No LaTeX-compatible font found for the serif fontfamily in rcParams. Using default.\n",
      "03/31/2023 14:48:46 - INFO - matplotlib.texmanager -   No LaTeX-compatible font found for the serif fontfamily in rcParams. Using default.\n",
      "03/31/2023 14:48:46 - INFO - matplotlib.texmanager -   No LaTeX-compatible font found for the serif fontfamily in rcParams. Using default.\n",
      "03/31/2023 14:48:46 - INFO - matplotlib.texmanager -   No LaTeX-compatible font found for the serif fontfamily in rcParams. Using default.\n",
      "03/31/2023 14:48:46 - INFO - matplotlib.texmanager -   No LaTeX-compatible font found for the serif fontfamily in rcParams. Using default.\n",
      "03/31/2023 14:48:46 - INFO - matplotlib.texmanager -   No LaTeX-compatible font found for the serif fontfamily in rcParams. Using default.\n",
      "03/31/2023 14:48:46 - INFO - matplotlib.texmanager -   No LaTeX-compatible font found for the serif fontfamily in rcParams. Using default.\n",
      "03/31/2023 14:48:46 - INFO - matplotlib.texmanager -   No LaTeX-compatible font found for the serif fontfamily in rcParams. Using default.\n",
      "03/31/2023 14:48:46 - INFO - matplotlib.texmanager -   No LaTeX-compatible font found for the serif fontfamily in rcParams. Using default.\n",
      "03/31/2023 14:48:46 - INFO - matplotlib.texmanager -   No LaTeX-compatible font found for the serif fontfamily in rcParams. Using default.\n",
      "03/31/2023 14:48:46 - INFO - matplotlib.texmanager -   No LaTeX-compatible font found for the serif fontfamily in rcParams. Using default.\n",
      "03/31/2023 14:48:46 - INFO - matplotlib.texmanager -   No LaTeX-compatible font found for the serif fontfamily in rcParams. Using default.\n",
      "03/31/2023 14:48:46 - INFO - matplotlib.texmanager -   No LaTeX-compatible font found for the serif fontfamily in rcParams. Using default.\n",
      "03/31/2023 14:48:46 - INFO - matplotlib.texmanager -   No LaTeX-compatible font found for the serif fontfamily in rcParams. Using default.\n",
      "03/31/2023 14:48:46 - INFO - matplotlib.texmanager -   No LaTeX-compatible font found for the serif fontfamily in rcParams. Using default.\n",
      "03/31/2023 14:48:46 - INFO - matplotlib.texmanager -   No LaTeX-compatible font found for the serif fontfamily in rcParams. Using default.\n",
      "03/31/2023 14:48:46 - INFO - matplotlib.texmanager -   No LaTeX-compatible font found for the serif fontfamily in rcParams. Using default.\n",
      "03/31/2023 14:48:46 - INFO - matplotlib.texmanager -   No LaTeX-compatible font found for the serif fontfamily in rcParams. Using default.\n",
      "03/31/2023 14:48:46 - INFO - matplotlib.texmanager -   No LaTeX-compatible font found for the serif fontfamily in rcParams. Using default.\n",
      "03/31/2023 14:48:46 - INFO - matplotlib.texmanager -   No LaTeX-compatible font found for the serif fontfamily in rcParams. Using default.\n",
      "03/31/2023 14:48:46 - INFO - matplotlib.texmanager -   No LaTeX-compatible font found for the serif fontfamily in rcParams. Using default.\n",
      "03/31/2023 14:48:46 - INFO - matplotlib.texmanager -   No LaTeX-compatible font found for the serif fontfamily in rcParams. Using default.\n",
      "03/31/2023 14:48:46 - INFO - matplotlib.texmanager -   No LaTeX-compatible font found for the serif fontfamily in rcParams. Using default.\n",
      "03/31/2023 14:48:46 - INFO - matplotlib.texmanager -   No LaTeX-compatible font found for the serif fontfamily in rcParams. Using default.\n",
      "03/31/2023 14:48:46 - INFO - matplotlib.texmanager -   No LaTeX-compatible font found for the serif fontfamily in rcParams. Using default.\n",
      "03/31/2023 14:48:46 - INFO - matplotlib.texmanager -   No LaTeX-compatible font found for the serif fontfamily in rcParams. Using default.\n",
      "03/31/2023 14:48:46 - INFO - matplotlib.texmanager -   No LaTeX-compatible font found for the serif fontfamily in rcParams. Using default.\n",
      "03/31/2023 14:48:46 - INFO - matplotlib.texmanager -   No LaTeX-compatible font found for the serif fontfamily in rcParams. Using default.\n",
      "03/31/2023 14:48:46 - INFO - matplotlib.texmanager -   No LaTeX-compatible font found for the serif fontfamily in rcParams. Using default.\n",
      "03/31/2023 14:48:46 - INFO - matplotlib.texmanager -   No LaTeX-compatible font found for the serif fontfamily in rcParams. Using default.\n",
      "03/31/2023 14:48:46 - INFO - matplotlib.texmanager -   No LaTeX-compatible font found for the serif fontfamily in rcParams. Using default.\n",
      "03/31/2023 14:48:46 - INFO - matplotlib.texmanager -   No LaTeX-compatible font found for the serif fontfamily in rcParams. Using default.\n",
      "03/31/2023 14:48:46 - INFO - matplotlib.texmanager -   No LaTeX-compatible font found for the serif fontfamily in rcParams. Using default.\n",
      "03/31/2023 14:48:46 - INFO - matplotlib.texmanager -   No LaTeX-compatible font found for the serif fontfamily in rcParams. Using default.\n",
      "03/31/2023 14:48:46 - INFO - matplotlib.texmanager -   No LaTeX-compatible font found for the serif fontfamily in rcParams. Using default.\n",
      "03/31/2023 14:48:46 - INFO - matplotlib.texmanager -   No LaTeX-compatible font found for the serif fontfamily in rcParams. Using default.\n",
      "03/31/2023 14:48:46 - INFO - matplotlib.texmanager -   No LaTeX-compatible font found for the serif fontfamily in rcParams. Using default.\n",
      "03/31/2023 14:48:46 - INFO - matplotlib.texmanager -   No LaTeX-compatible font found for the serif fontfamily in rcParams. Using default.\n",
      "03/31/2023 14:48:46 - INFO - matplotlib.texmanager -   No LaTeX-compatible font found for the serif fontfamily in rcParams. Using default.\n",
      "03/31/2023 14:48:46 - INFO - matplotlib.texmanager -   No LaTeX-compatible font found for the serif fontfamily in rcParams. Using default.\n",
      "03/31/2023 14:48:46 - INFO - matplotlib.texmanager -   No LaTeX-compatible font found for the serif fontfamily in rcParams. Using default.\n",
      "03/31/2023 14:48:46 - INFO - matplotlib.texmanager -   No LaTeX-compatible font found for the serif fontfamily in rcParams. Using default.\n",
      "03/31/2023 14:48:46 - INFO - matplotlib.texmanager -   No LaTeX-compatible font found for the serif fontfamily in rcParams. Using default.\n",
      "03/31/2023 14:48:46 - INFO - matplotlib.texmanager -   No LaTeX-compatible font found for the serif fontfamily in rcParams. Using default.\n",
      "03/31/2023 14:48:46 - INFO - matplotlib.texmanager -   No LaTeX-compatible font found for the serif fontfamily in rcParams. Using default.\n",
      "03/31/2023 14:48:46 - INFO - matplotlib.texmanager -   No LaTeX-compatible font found for the serif fontfamily in rcParams. Using default.\n",
      "03/31/2023 14:48:46 - INFO - matplotlib.texmanager -   No LaTeX-compatible font found for the serif fontfamily in rcParams. Using default.\n",
      "03/31/2023 14:48:46 - INFO - matplotlib.texmanager -   No LaTeX-compatible font found for the serif fontfamily in rcParams. Using default.\n",
      "03/31/2023 14:48:46 - INFO - matplotlib.texmanager -   No LaTeX-compatible font found for the serif fontfamily in rcParams. Using default.\n",
      "03/31/2023 14:48:46 - INFO - matplotlib.texmanager -   No LaTeX-compatible font found for the serif fontfamily in rcParams. Using default.\n",
      "03/31/2023 14:48:46 - INFO - matplotlib.texmanager -   No LaTeX-compatible font found for the serif fontfamily in rcParams. Using default.\n",
      "03/31/2023 14:48:46 - INFO - matplotlib.texmanager -   No LaTeX-compatible font found for the serif fontfamily in rcParams. Using default.\n",
      "03/31/2023 14:48:46 - INFO - matplotlib.texmanager -   No LaTeX-compatible font found for the serif fontfamily in rcParams. Using default.\n",
      "03/31/2023 14:48:46 - INFO - matplotlib.texmanager -   No LaTeX-compatible font found for the serif fontfamily in rcParams. Using default.\n",
      "03/31/2023 14:48:46 - INFO - matplotlib.texmanager -   No LaTeX-compatible font found for the serif fontfamily in rcParams. Using default.\n",
      "03/31/2023 14:48:46 - INFO - matplotlib.texmanager -   No LaTeX-compatible font found for the serif fontfamily in rcParams. Using default.\n",
      "03/31/2023 14:48:46 - INFO - matplotlib.texmanager -   No LaTeX-compatible font found for the serif fontfamily in rcParams. Using default.\n",
      "03/31/2023 14:48:46 - INFO - matplotlib.texmanager -   No LaTeX-compatible font found for the serif fontfamily in rcParams. Using default.\n",
      "03/31/2023 14:48:46 - INFO - matplotlib.texmanager -   No LaTeX-compatible font found for the serif fontfamily in rcParams. Using default.\n",
      "03/31/2023 14:48:46 - INFO - matplotlib.texmanager -   No LaTeX-compatible font found for the serif fontfamily in rcParams. Using default.\n",
      "03/31/2023 14:48:46 - INFO - matplotlib.texmanager -   No LaTeX-compatible font found for the serif fontfamily in rcParams. Using default.\n",
      "03/31/2023 14:48:46 - INFO - matplotlib.texmanager -   No LaTeX-compatible font found for the serif fontfamily in rcParams. Using default.\n",
      "03/31/2023 14:48:46 - INFO - matplotlib.texmanager -   No LaTeX-compatible font found for the serif fontfamily in rcParams. Using default.\n",
      "03/31/2023 14:48:46 - INFO - matplotlib.texmanager -   No LaTeX-compatible font found for the serif fontfamily in rcParams. Using default.\n",
      "03/31/2023 14:48:46 - INFO - matplotlib.texmanager -   No LaTeX-compatible font found for the serif fontfamily in rcParams. Using default.\n",
      "03/31/2023 14:48:46 - INFO - matplotlib.texmanager -   No LaTeX-compatible font found for the serif fontfamily in rcParams. Using default.\n",
      "03/31/2023 14:48:46 - INFO - matplotlib.texmanager -   No LaTeX-compatible font found for the serif fontfamily in rcParams. Using default.\n",
      "03/31/2023 14:48:46 - INFO - matplotlib.texmanager -   No LaTeX-compatible font found for the serif fontfamily in rcParams. Using default.\n",
      "03/31/2023 14:48:46 - INFO - matplotlib.texmanager -   No LaTeX-compatible font found for the serif fontfamily in rcParams. Using default.\n",
      "03/31/2023 14:48:46 - INFO - matplotlib.texmanager -   No LaTeX-compatible font found for the serif fontfamily in rcParams. Using default.\n",
      "03/31/2023 14:48:46 - INFO - matplotlib.texmanager -   No LaTeX-compatible font found for the serif fontfamily in rcParams. Using default.\n",
      "03/31/2023 14:48:46 - INFO - matplotlib.texmanager -   No LaTeX-compatible font found for the serif fontfamily in rcParams. Using default.\n",
      "03/31/2023 14:48:46 - INFO - matplotlib.texmanager -   No LaTeX-compatible font found for the serif fontfamily in rcParams. Using default.\n",
      "03/31/2023 14:48:46 - INFO - matplotlib.texmanager -   No LaTeX-compatible font found for the serif fontfamily in rcParams. Using default.\n",
      "03/31/2023 14:48:46 - INFO - matplotlib.texmanager -   No LaTeX-compatible font found for the serif fontfamily in rcParams. Using default.\n",
      "03/31/2023 14:48:46 - INFO - matplotlib.texmanager -   No LaTeX-compatible font found for the serif fontfamily in rcParams. Using default.\n"
     ]
    },
    {
     "data": {
      "image/png": "[encoded data removed]",
      "text/plain": [
       "<Figure size 1200x300 with 3 Axes>"
      ]
     },
     "metadata": {},
     "output_type": "display_data"
    }
   ],
   "source": [
    "beams = viz_df_greedy[\"beams\"].values.tolist()\n",
    "deltas = viz_df_greedy[\"deltas\"].values.tolist()\n",
    "\n",
    "no_watermark_mauve = viz_df_greedy[\"no_watermark_mauve\"].values.tolist()\n",
    "watermark_mauve = viz_df_greedy[\"watermark_mauve\"].values.tolist() \n",
    "\n",
    "fig, axs = plt.subplots(ncols=3, nrows=1, figsize=(12,3), sharey=True)\n",
    "slice_idx = len(no_watermark_mauve)//3\n",
    "\n",
    "plt.subplot(1, 3, 1)\n",
    "plt.plot(deltas[:slice_idx], no_watermark_mauve[:slice_idx], label=\"no watermark\")\n",
    "plt.plot(deltas[:slice_idx], watermark_mauve[:slice_idx], label=\"watermark\")\n",
    "plt.xticks(deltas[:slice_idx])\n",
    "plt.xlim(0, 5.1)\n",
    "plt.title(\"Number of beams = 1\")\n",
    "plt.xlabel(\"deltas\")\n",
    "plt.ylabel(\"mauve score\")\n",
    "\n",
    "plt.subplot(1, 3, 2)\n",
    "plt.plot(deltas[slice_idx:slice_idx*2], no_watermark_mauve[slice_idx:slice_idx*2], label=\"no watermark\")\n",
    "plt.plot(deltas[slice_idx:slice_idx*2], watermark_mauve[slice_idx:slice_idx*2], label=\"watermark\")\n",
    "plt.xticks(deltas[slice_idx:slice_idx*2])\n",
    "plt.xlim(0, 5.1)\n",
    "plt.title(\"Number of beams = 4\")\n",
    "plt.xlabel(\"deltas\")\n",
    "plt.ylabel(\"mauve score\")\n",
    "\n",
    "plt.subplot(1, 3, 3)\n",
    "plt.plot(deltas[slice_idx*2:], no_watermark_mauve[slice_idx*2:], label=\"no watermark\")\n",
    "plt.plot(deltas[slice_idx*2:], watermark_mauve[slice_idx*2:], label=\"watermark\")\n",
    "plt.xticks(deltas[slice_idx*2:])\n",
    "plt.xlim(0, 5.1)\n",
    "plt.title(\"Number of beams = 8\")\n",
    "plt.xlabel(\"delta\")\n",
    "plt.ylabel(\"mauve score\")\n",
    "\n",
    "# legend to right of both charts\n",
    "plt.legend(bbox_to_anchor=(1.05, 1), loc='upper left', borderaxespad=0.)\n",
    "plt.tight_layout()\n",
    "plt.savefig(f\"{OUTPUT_DIR}/beams_mauve_score.png\")\n",
    "\n",
    "plt.show()"
   ]
  },
  {
   "cell_type": "code",
   "execution_count": 27,
   "metadata": {},
   "outputs": [
    {
     "name": "stdout",
     "output_type": "stream",
     "text": [
      "505 505\n"
     ]
    },
    {
     "name": "stderr",
     "output_type": "stream",
     "text": [
      "100%|██████████| 8/8 [00:01<00:00,  4.73it/s]\n",
      "100%|██████████| 8/8 [00:01<00:00,  5.05it/s]\n"
     ]
    },
    {
     "name": "stdout",
     "output_type": "stream",
     "text": [
      "505 505\n"
     ]
    },
    {
     "name": "stderr",
     "output_type": "stream",
     "text": [
      "100%|██████████| 8/8 [00:01<00:00,  4.65it/s]\n",
      "100%|██████████| 8/8 [00:01<00:00,  4.99it/s]\n"
     ]
    },
    {
     "name": "stdout",
     "output_type": "stream",
     "text": [
      "505 505\n"
     ]
    },
    {
     "name": "stderr",
     "output_type": "stream",
     "text": [
      "100%|██████████| 8/8 [00:01<00:00,  4.61it/s]\n",
      "100%|██████████| 8/8 [00:01<00:00,  4.95it/s]\n"
     ]
    },
    {
     "name": "stdout",
     "output_type": "stream",
     "text": [
      "505 505\n"
     ]
    },
    {
     "name": "stderr",
     "output_type": "stream",
     "text": [
      "100%|██████████| 8/8 [00:01<00:00,  4.61it/s]\n",
      "100%|██████████| 8/8 [00:01<00:00,  4.93it/s]\n"
     ]
    },
    {
     "name": "stdout",
     "output_type": "stream",
     "text": [
      "505 505\n"
     ]
    },
    {
     "name": "stderr",
     "output_type": "stream",
     "text": [
      "100%|██████████| 8/8 [00:01<00:00,  4.54it/s]\n",
      "100%|██████████| 8/8 [00:01<00:00,  4.97it/s]\n"
     ]
    },
    {
     "name": "stdout",
     "output_type": "stream",
     "text": [
      "505 505\n"
     ]
    },
    {
     "name": "stderr",
     "output_type": "stream",
     "text": [
      "100%|██████████| 8/8 [00:01<00:00,  4.55it/s]\n",
      "100%|██████████| 8/8 [00:01<00:00,  4.86it/s]\n"
     ]
    },
    {
     "name": "stdout",
     "output_type": "stream",
     "text": [
      "507 507\n"
     ]
    },
    {
     "name": "stderr",
     "output_type": "stream",
     "text": [
      "100%|██████████| 8/8 [00:01<00:00,  4.46it/s]\n",
      "100%|██████████| 8/8 [00:01<00:00,  4.86it/s]\n"
     ]
    },
    {
     "name": "stdout",
     "output_type": "stream",
     "text": [
      "507 507\n"
     ]
    },
    {
     "name": "stderr",
     "output_type": "stream",
     "text": [
      "100%|██████████| 8/8 [00:01<00:00,  4.49it/s]\n",
      "100%|██████████| 8/8 [00:01<00:00,  4.75it/s]\n"
     ]
    },
    {
     "name": "stdout",
     "output_type": "stream",
     "text": [
      "507 507\n"
     ]
    },
    {
     "name": "stderr",
     "output_type": "stream",
     "text": [
      "100%|██████████| 8/8 [00:01<00:00,  4.44it/s]\n",
      "100%|██████████| 8/8 [00:01<00:00,  4.77it/s]\n"
     ]
    },
    {
     "name": "stdout",
     "output_type": "stream",
     "text": [
      "505 505\n"
     ]
    },
    {
     "name": "stderr",
     "output_type": "stream",
     "text": [
      "100%|██████████| 8/8 [00:01<00:00,  4.33it/s]\n",
      "100%|██████████| 8/8 [00:01<00:00,  4.76it/s]\n"
     ]
    },
    {
     "name": "stdout",
     "output_type": "stream",
     "text": [
      "505 505\n"
     ]
    },
    {
     "name": "stderr",
     "output_type": "stream",
     "text": [
      "100%|██████████| 8/8 [00:01<00:00,  4.40it/s]\n",
      "100%|██████████| 8/8 [00:01<00:00,  4.77it/s]\n"
     ]
    },
    {
     "name": "stdout",
     "output_type": "stream",
     "text": [
      "505 505\n"
     ]
    },
    {
     "name": "stderr",
     "output_type": "stream",
     "text": [
      "100%|██████████| 8/8 [00:01<00:00,  4.43it/s]\n",
      "100%|██████████| 8/8 [00:01<00:00,  4.67it/s]\n"
     ]
    },
    {
     "name": "stdout",
     "output_type": "stream",
     "text": [
      "507 507\n"
     ]
    },
    {
     "name": "stderr",
     "output_type": "stream",
     "text": [
      "100%|██████████| 8/8 [00:01<00:00,  4.28it/s]\n",
      "100%|██████████| 8/8 [00:01<00:00,  4.69it/s]\n"
     ]
    },
    {
     "name": "stdout",
     "output_type": "stream",
     "text": [
      "507 507\n"
     ]
    },
    {
     "name": "stderr",
     "output_type": "stream",
     "text": [
      "100%|██████████| 8/8 [00:01<00:00,  4.30it/s]\n",
      "100%|██████████| 8/8 [00:01<00:00,  4.64it/s]\n"
     ]
    },
    {
     "name": "stdout",
     "output_type": "stream",
     "text": [
      "507 507\n"
     ]
    },
    {
     "name": "stderr",
     "output_type": "stream",
     "text": [
      "100%|██████████| 8/8 [00:01<00:00,  4.26it/s]\n",
      "100%|██████████| 8/8 [00:01<00:00,  4.58it/s]\n"
     ]
    },
    {
     "name": "stdout",
     "output_type": "stream",
     "text": [
      "504 504\n"
     ]
    },
    {
     "name": "stderr",
     "output_type": "stream",
     "text": [
      "100%|██████████| 8/8 [00:01<00:00,  4.32it/s]\n",
      "100%|██████████| 8/8 [00:01<00:00,  4.63it/s]\n"
     ]
    },
    {
     "name": "stdout",
     "output_type": "stream",
     "text": [
      "504 504\n"
     ]
    },
    {
     "name": "stderr",
     "output_type": "stream",
     "text": [
      "100%|██████████| 8/8 [00:01<00:00,  4.29it/s]\n",
      "100%|██████████| 8/8 [00:01<00:00,  4.64it/s]\n"
     ]
    },
    {
     "name": "stdout",
     "output_type": "stream",
     "text": [
      "504 504\n"
     ]
    },
    {
     "name": "stderr",
     "output_type": "stream",
     "text": [
      "100%|██████████| 8/8 [00:01<00:00,  4.29it/s]\n",
      "100%|██████████| 8/8 [00:01<00:00,  4.60it/s]\n"
     ]
    },
    {
     "name": "stdout",
     "output_type": "stream",
     "text": [
      "503 503\n"
     ]
    },
    {
     "name": "stderr",
     "output_type": "stream",
     "text": [
      "100%|██████████| 8/8 [00:01<00:00,  4.27it/s]\n",
      "100%|██████████| 8/8 [00:01<00:00,  4.64it/s]\n"
     ]
    },
    {
     "name": "stdout",
     "output_type": "stream",
     "text": [
      "503 503\n"
     ]
    },
    {
     "name": "stderr",
     "output_type": "stream",
     "text": [
      "100%|██████████| 8/8 [00:01<00:00,  4.28it/s]\n",
      "100%|██████████| 8/8 [00:01<00:00,  4.57it/s]\n"
     ]
    },
    {
     "name": "stdout",
     "output_type": "stream",
     "text": [
      "503 503\n"
     ]
    },
    {
     "name": "stderr",
     "output_type": "stream",
     "text": [
      "100%|██████████| 8/8 [00:01<00:00,  4.26it/s]\n",
      "100%|██████████| 8/8 [00:01<00:00,  4.62it/s]\n"
     ]
    },
    {
     "name": "stdout",
     "output_type": "stream",
     "text": [
      "506 506\n"
     ]
    },
    {
     "name": "stderr",
     "output_type": "stream",
     "text": [
      "100%|██████████| 8/8 [00:01<00:00,  4.21it/s]\n",
      "100%|██████████| 8/8 [00:01<00:00,  4.52it/s]\n"
     ]
    },
    {
     "name": "stdout",
     "output_type": "stream",
     "text": [
      "506 506\n"
     ]
    },
    {
     "name": "stderr",
     "output_type": "stream",
     "text": [
      "100%|██████████| 8/8 [00:01<00:00,  4.24it/s]\n",
      "100%|██████████| 8/8 [00:01<00:00,  4.59it/s]\n"
     ]
    },
    {
     "name": "stdout",
     "output_type": "stream",
     "text": [
      "506 506\n"
     ]
    },
    {
     "name": "stderr",
     "output_type": "stream",
     "text": [
      "100%|██████████| 8/8 [00:01<00:00,  4.20it/s]\n",
      "100%|██████████| 8/8 [00:01<00:00,  4.51it/s]\n"
     ]
    },
    {
     "name": "stdout",
     "output_type": "stream",
     "text": [
      "507 507\n"
     ]
    },
    {
     "name": "stderr",
     "output_type": "stream",
     "text": [
      "100%|██████████| 8/8 [00:01<00:00,  4.21it/s]\n",
      "100%|██████████| 8/8 [00:01<00:00,  4.51it/s]\n"
     ]
    },
    {
     "name": "stdout",
     "output_type": "stream",
     "text": [
      "507 507\n"
     ]
    },
    {
     "name": "stderr",
     "output_type": "stream",
     "text": [
      "100%|██████████| 8/8 [00:01<00:00,  4.21it/s]\n",
      "100%|██████████| 8/8 [00:01<00:00,  4.54it/s]\n"
     ]
    },
    {
     "name": "stdout",
     "output_type": "stream",
     "text": [
      "507 507\n"
     ]
    },
    {
     "name": "stderr",
     "output_type": "stream",
     "text": [
      "100%|██████████| 8/8 [00:01<00:00,  4.18it/s]\n",
      "100%|██████████| 8/8 [00:01<00:00,  4.57it/s]\n"
     ]
    },
    {
     "name": "stdout",
     "output_type": "stream",
     "text": [
      "504 504\n"
     ]
    },
    {
     "name": "stderr",
     "output_type": "stream",
     "text": [
      "100%|██████████| 8/8 [00:01<00:00,  4.23it/s]\n",
      "100%|██████████| 8/8 [00:01<00:00,  4.56it/s]\n"
     ]
    },
    {
     "name": "stdout",
     "output_type": "stream",
     "text": [
      "504 504\n"
     ]
    },
    {
     "name": "stderr",
     "output_type": "stream",
     "text": [
      "100%|██████████| 8/8 [00:01<00:00,  4.23it/s]\n",
      "100%|██████████| 8/8 [00:01<00:00,  4.56it/s]\n"
     ]
    },
    {
     "name": "stdout",
     "output_type": "stream",
     "text": [
      "504 504\n"
     ]
    },
    {
     "name": "stderr",
     "output_type": "stream",
     "text": [
      "100%|██████████| 8/8 [00:01<00:00,  4.26it/s]\n",
      "100%|██████████| 8/8 [00:01<00:00,  4.53it/s]\n"
     ]
    },
    {
     "data": {
      "text/html": [
       "<div>\n",
       "<style scoped>\n",
       "    .dataframe tbody tr th:only-of-type {\n",
       "        vertical-align: middle;\n",
       "    }\n",
       "\n",
       "    .dataframe tbody tr th {\n",
       "        vertical-align: top;\n",
       "    }\n",
       "\n",
       "    .dataframe thead th {\n",
       "        text-align: right;\n",
       "    }\n",
       "</style>\n",
       "<table border=\"1\" class=\"dataframe\">\n",
       "  <thead>\n",
       "    <tr style=\"text-align: right;\">\n",
       "      <th></th>\n",
       "      <th>sampling</th>\n",
       "      <th>beams</th>\n",
       "      <th>gammas</th>\n",
       "      <th>deltas</th>\n",
       "      <th>baseline_coherence</th>\n",
       "      <th>watermark_coherence</th>\n",
       "      <th>no_watermark_coherence</th>\n",
       "    </tr>\n",
       "  </thead>\n",
       "  <tbody>\n",
       "    <tr>\n",
       "      <th>0</th>\n",
       "      <td>True</td>\n",
       "      <td>1</td>\n",
       "      <td>0.90</td>\n",
       "      <td>2.0</td>\n",
       "      <td>0.614041</td>\n",
       "      <td>0.626746</td>\n",
       "      <td>0.617203</td>\n",
       "    </tr>\n",
       "    <tr>\n",
       "      <th>1</th>\n",
       "      <td>True</td>\n",
       "      <td>1</td>\n",
       "      <td>0.75</td>\n",
       "      <td>2.0</td>\n",
       "      <td>0.610991</td>\n",
       "      <td>0.620250</td>\n",
       "      <td>0.618411</td>\n",
       "    </tr>\n",
       "    <tr>\n",
       "      <th>2</th>\n",
       "      <td>True</td>\n",
       "      <td>1</td>\n",
       "      <td>0.50</td>\n",
       "      <td>2.0</td>\n",
       "      <td>0.611231</td>\n",
       "      <td>0.607747</td>\n",
       "      <td>0.619677</td>\n",
       "    </tr>\n",
       "    <tr>\n",
       "      <th>3</th>\n",
       "      <td>True</td>\n",
       "      <td>1</td>\n",
       "      <td>0.25</td>\n",
       "      <td>2.0</td>\n",
       "      <td>0.607566</td>\n",
       "      <td>0.596032</td>\n",
       "      <td>0.606140</td>\n",
       "    </tr>\n",
       "    <tr>\n",
       "      <th>4</th>\n",
       "      <td>True</td>\n",
       "      <td>1</td>\n",
       "      <td>0.10</td>\n",
       "      <td>2.0</td>\n",
       "      <td>0.609115</td>\n",
       "      <td>0.600189</td>\n",
       "      <td>0.609934</td>\n",
       "    </tr>\n",
       "    <tr>\n",
       "      <th>5</th>\n",
       "      <td>True</td>\n",
       "      <td>1</td>\n",
       "      <td>0.50</td>\n",
       "      <td>0.1</td>\n",
       "      <td>0.617045</td>\n",
       "      <td>0.612604</td>\n",
       "      <td>0.629051</td>\n",
       "    </tr>\n",
       "    <tr>\n",
       "      <th>6</th>\n",
       "      <td>True</td>\n",
       "      <td>1</td>\n",
       "      <td>0.50</td>\n",
       "      <td>0.5</td>\n",
       "      <td>0.620293</td>\n",
       "      <td>0.622709</td>\n",
       "      <td>0.624392</td>\n",
       "    </tr>\n",
       "    <tr>\n",
       "      <th>7</th>\n",
       "      <td>True</td>\n",
       "      <td>1</td>\n",
       "      <td>0.50</td>\n",
       "      <td>1.0</td>\n",
       "      <td>0.617551</td>\n",
       "      <td>0.622855</td>\n",
       "      <td>0.623764</td>\n",
       "    </tr>\n",
       "    <tr>\n",
       "      <th>8</th>\n",
       "      <td>True</td>\n",
       "      <td>1</td>\n",
       "      <td>0.50</td>\n",
       "      <td>2.0</td>\n",
       "      <td>0.611231</td>\n",
       "      <td>0.607747</td>\n",
       "      <td>0.619677</td>\n",
       "    </tr>\n",
       "    <tr>\n",
       "      <th>9</th>\n",
       "      <td>True</td>\n",
       "      <td>1</td>\n",
       "      <td>0.50</td>\n",
       "      <td>5.0</td>\n",
       "      <td>0.616102</td>\n",
       "      <td>0.597489</td>\n",
       "      <td>0.616284</td>\n",
       "    </tr>\n",
       "  </tbody>\n",
       "</table>\n",
       "</div>"
      ],
      "text/plain": [
       "   sampling  beams  gammas  deltas  baseline_coherence  watermark_coherence  \\\n",
       "0      True      1    0.90     2.0            0.614041             0.626746   \n",
       "1      True      1    0.75     2.0            0.610991             0.620250   \n",
       "2      True      1    0.50     2.0            0.611231             0.607747   \n",
       "3      True      1    0.25     2.0            0.607566             0.596032   \n",
       "4      True      1    0.10     2.0            0.609115             0.600189   \n",
       "5      True      1    0.50     0.1            0.617045             0.612604   \n",
       "6      True      1    0.50     0.5            0.620293             0.622709   \n",
       "7      True      1    0.50     1.0            0.617551             0.622855   \n",
       "8      True      1    0.50     2.0            0.611231             0.607747   \n",
       "9      True      1    0.50     5.0            0.616102             0.597489   \n",
       "\n",
       "   no_watermark_coherence  \n",
       "0                0.617203  \n",
       "1                0.618411  \n",
       "2                0.619677  \n",
       "3                0.606140  \n",
       "4                0.609934  \n",
       "5                0.629051  \n",
       "6                0.624392  \n",
       "7                0.623764  \n",
       "8                0.619677  \n",
       "9                0.616284  "
      ]
     },
     "execution_count": 27,
     "metadata": {},
     "output_type": "execute_result"
    }
   ],
   "source": [
    "# make coherence plot\n",
    "# Sampling\n",
    "group_list =(\n",
    "    (True, 1, 2.0, 0.9),\n",
    "    (True, 1, 2.0, 0.75),\n",
    "    (True, 1, 2.0, 0.5),\n",
    "    (True, 1, 2.0, 0.25),\n",
    "    (True, 1, 2.0, 0.1),\n",
    "\n",
    "    (True, 1, 0.1, 0.5),\n",
    "    (True, 1, 0.5, 0.5),\n",
    "    (True, 1, 1.0, 0.5),\n",
    "    (True, 1, 2.0, 0.5),\n",
    "    (True, 1, 5.0, 0.5),\n",
    ")\n",
    "\n",
    "sampling, beams, gammas, deltas = [], [], [], []\n",
    "baseline_coherence = []\n",
    "watermark_coherence = []\n",
    "no_watermark_coherence = []\n",
    "\n",
    "for idx, group in enumerate(group_list):\n",
    "    group_df = grouped_df.get_group(group)\n",
    "\n",
    "    sampling.append(group[0])\n",
    "    beams.append(group[1])\n",
    "    deltas.append(group[2])\n",
    "    gammas.append(group[3])\n",
    "    ## get coherence scores\n",
    "    prefix_text = group_df[\"truncated_input\"].values.tolist()\n",
    "\n",
    "    baseline_completion = group_df[\"baseline_completion\"].values.tolist()\n",
    "    w_bl_output = group_df[\"w_bl_output\"].values.tolist()\n",
    "    no_bl_output = group_df[\"no_bl_output\"].values.tolist()\n",
    "\n",
    "    baseline_coherence.append(get_coherence_score(prefix_text, baseline_completion))\n",
    "    watermark_coherence.append(get_coherence_score(prefix_text, w_bl_output))\n",
    "    no_watermark_coherence.append(get_coherence_score(prefix_text, no_bl_output))\n",
    "\n",
    "viz_df = pd.DataFrame()\n",
    "\n",
    "\n",
    "viz_df[\"sampling\"] = sampling\n",
    "viz_df[\"beams\"] = beams\n",
    "viz_df[\"gammas\"] = gammas\n",
    "viz_df[\"deltas\"] = deltas\n",
    "\n",
    "viz_df['baseline_coherence'] = baseline_coherence\n",
    "viz_df['watermark_coherence'] = watermark_coherence\n",
    "viz_df['no_watermark_coherence'] = no_watermark_coherence\n",
    "\n",
    "viz_df"
   ]
  },
  {
   "cell_type": "code",
   "execution_count": 31,
   "metadata": {},
   "outputs": [
    {
     "name": "stderr",
     "output_type": "stream",
     "text": [
      "03/31/2023 15:12:46 - INFO - matplotlib.texmanager -   No LaTeX-compatible font found for the serif fontfamily in rcParams. Using default.\n",
      "03/31/2023 15:12:46 - INFO - matplotlib.texmanager -   No LaTeX-compatible font found for the serif fontfamily in rcParams. Using default.\n",
      "03/31/2023 15:12:46 - INFO - matplotlib.texmanager -   No LaTeX-compatible font found for the serif fontfamily in rcParams. Using default.\n",
      "03/31/2023 15:12:46 - INFO - matplotlib.texmanager -   No LaTeX-compatible font found for the serif fontfamily in rcParams. Using default.\n",
      "03/31/2023 15:12:46 - INFO - matplotlib.texmanager -   No LaTeX-compatible font found for the serif fontfamily in rcParams. Using default.\n",
      "03/31/2023 15:12:46 - INFO - matplotlib.texmanager -   No LaTeX-compatible font found for the serif fontfamily in rcParams. Using default.\n",
      "03/31/2023 15:12:46 - INFO - matplotlib.texmanager -   No LaTeX-compatible font found for the serif fontfamily in rcParams. Using default.\n",
      "03/31/2023 15:12:46 - INFO - matplotlib.texmanager -   No LaTeX-compatible font found for the serif fontfamily in rcParams. Using default.\n",
      "03/31/2023 15:12:46 - INFO - matplotlib.texmanager -   No LaTeX-compatible font found for the serif fontfamily in rcParams. Using default.\n",
      "03/31/2023 15:12:46 - INFO - matplotlib.texmanager -   No LaTeX-compatible font found for the serif fontfamily in rcParams. Using default.\n",
      "03/31/2023 15:12:46 - INFO - matplotlib.texmanager -   No LaTeX-compatible font found for the serif fontfamily in rcParams. Using default.\n",
      "03/31/2023 15:12:46 - INFO - matplotlib.texmanager -   No LaTeX-compatible font found for the serif fontfamily in rcParams. Using default.\n",
      "03/31/2023 15:12:46 - INFO - matplotlib.texmanager -   No LaTeX-compatible font found for the serif fontfamily in rcParams. Using default.\n",
      "03/31/2023 15:12:46 - INFO - matplotlib.texmanager -   No LaTeX-compatible font found for the serif fontfamily in rcParams. Using default.\n",
      "03/31/2023 15:12:46 - INFO - matplotlib.texmanager -   No LaTeX-compatible font found for the serif fontfamily in rcParams. Using default.\n",
      "03/31/2023 15:12:46 - INFO - matplotlib.texmanager -   No LaTeX-compatible font found for the serif fontfamily in rcParams. Using default.\n",
      "03/31/2023 15:12:46 - INFO - matplotlib.texmanager -   No LaTeX-compatible font found for the serif fontfamily in rcParams. Using default.\n",
      "03/31/2023 15:12:46 - INFO - matplotlib.texmanager -   No LaTeX-compatible font found for the serif fontfamily in rcParams. Using default.\n",
      "03/31/2023 15:12:46 - INFO - matplotlib.texmanager -   No LaTeX-compatible font found for the serif fontfamily in rcParams. Using default.\n",
      "03/31/2023 15:12:46 - INFO - matplotlib.texmanager -   No LaTeX-compatible font found for the serif fontfamily in rcParams. Using default.\n",
      "03/31/2023 15:12:46 - INFO - matplotlib.texmanager -   No LaTeX-compatible font found for the serif fontfamily in rcParams. Using default.\n",
      "03/31/2023 15:12:46 - INFO - matplotlib.texmanager -   No LaTeX-compatible font found for the serif fontfamily in rcParams. Using default.\n",
      "03/31/2023 15:12:46 - INFO - matplotlib.texmanager -   No LaTeX-compatible font found for the serif fontfamily in rcParams. Using default.\n",
      "03/31/2023 15:12:46 - INFO - matplotlib.texmanager -   No LaTeX-compatible font found for the serif fontfamily in rcParams. Using default.\n",
      "03/31/2023 15:12:46 - INFO - matplotlib.texmanager -   No LaTeX-compatible font found for the serif fontfamily in rcParams. Using default.\n",
      "03/31/2023 15:12:46 - INFO - matplotlib.texmanager -   No LaTeX-compatible font found for the serif fontfamily in rcParams. Using default.\n",
      "03/31/2023 15:12:46 - INFO - matplotlib.texmanager -   No LaTeX-compatible font found for the serif fontfamily in rcParams. Using default.\n",
      "03/31/2023 15:12:46 - INFO - matplotlib.texmanager -   No LaTeX-compatible font found for the serif fontfamily in rcParams. Using default.\n",
      "03/31/2023 15:12:46 - INFO - matplotlib.texmanager -   No LaTeX-compatible font found for the serif fontfamily in rcParams. Using default.\n",
      "03/31/2023 15:12:46 - INFO - matplotlib.texmanager -   No LaTeX-compatible font found for the serif fontfamily in rcParams. Using default.\n",
      "03/31/2023 15:12:46 - INFO - matplotlib.texmanager -   No LaTeX-compatible font found for the serif fontfamily in rcParams. Using default.\n",
      "03/31/2023 15:12:46 - INFO - matplotlib.texmanager -   No LaTeX-compatible font found for the serif fontfamily in rcParams. Using default.\n",
      "03/31/2023 15:12:46 - INFO - matplotlib.texmanager -   No LaTeX-compatible font found for the serif fontfamily in rcParams. Using default.\n",
      "03/31/2023 15:12:46 - INFO - matplotlib.texmanager -   No LaTeX-compatible font found for the serif fontfamily in rcParams. Using default.\n",
      "03/31/2023 15:12:46 - INFO - matplotlib.texmanager -   No LaTeX-compatible font found for the serif fontfamily in rcParams. Using default.\n",
      "03/31/2023 15:12:46 - INFO - matplotlib.texmanager -   No LaTeX-compatible font found for the serif fontfamily in rcParams. Using default.\n",
      "03/31/2023 15:12:46 - INFO - matplotlib.texmanager -   No LaTeX-compatible font found for the serif fontfamily in rcParams. Using default.\n",
      "03/31/2023 15:12:46 - INFO - matplotlib.texmanager -   No LaTeX-compatible font found for the serif fontfamily in rcParams. Using default.\n",
      "03/31/2023 15:12:46 - INFO - matplotlib.texmanager -   No LaTeX-compatible font found for the serif fontfamily in rcParams. Using default.\n",
      "03/31/2023 15:12:46 - INFO - matplotlib.texmanager -   No LaTeX-compatible font found for the serif fontfamily in rcParams. Using default.\n",
      "03/31/2023 15:12:46 - INFO - matplotlib.texmanager -   No LaTeX-compatible font found for the serif fontfamily in rcParams. Using default.\n",
      "03/31/2023 15:12:46 - INFO - matplotlib.texmanager -   No LaTeX-compatible font found for the serif fontfamily in rcParams. Using default.\n",
      "03/31/2023 15:12:46 - INFO - matplotlib.texmanager -   No LaTeX-compatible font found for the serif fontfamily in rcParams. Using default.\n",
      "03/31/2023 15:12:46 - INFO - matplotlib.texmanager -   No LaTeX-compatible font found for the serif fontfamily in rcParams. Using default.\n",
      "03/31/2023 15:12:46 - INFO - matplotlib.texmanager -   No LaTeX-compatible font found for the serif fontfamily in rcParams. Using default.\n",
      "03/31/2023 15:12:46 - INFO - matplotlib.texmanager -   No LaTeX-compatible font found for the serif fontfamily in rcParams. Using default.\n",
      "03/31/2023 15:12:46 - INFO - matplotlib.texmanager -   No LaTeX-compatible font found for the serif fontfamily in rcParams. Using default.\n",
      "03/31/2023 15:12:46 - INFO - matplotlib.texmanager -   No LaTeX-compatible font found for the serif fontfamily in rcParams. Using default.\n",
      "03/31/2023 15:12:46 - INFO - matplotlib.texmanager -   No LaTeX-compatible font found for the serif fontfamily in rcParams. Using default.\n",
      "03/31/2023 15:12:46 - INFO - matplotlib.texmanager -   No LaTeX-compatible font found for the serif fontfamily in rcParams. Using default.\n",
      "03/31/2023 15:12:46 - INFO - matplotlib.texmanager -   No LaTeX-compatible font found for the serif fontfamily in rcParams. Using default.\n",
      "03/31/2023 15:12:46 - INFO - matplotlib.texmanager -   No LaTeX-compatible font found for the serif fontfamily in rcParams. Using default.\n",
      "03/31/2023 15:12:46 - INFO - matplotlib.texmanager -   No LaTeX-compatible font found for the serif fontfamily in rcParams. Using default.\n",
      "03/31/2023 15:12:46 - INFO - matplotlib.texmanager -   No LaTeX-compatible font found for the serif fontfamily in rcParams. Using default.\n",
      "03/31/2023 15:12:46 - INFO - matplotlib.texmanager -   No LaTeX-compatible font found for the serif fontfamily in rcParams. Using default.\n",
      "03/31/2023 15:12:46 - INFO - matplotlib.texmanager -   No LaTeX-compatible font found for the serif fontfamily in rcParams. Using default.\n",
      "03/31/2023 15:12:46 - INFO - matplotlib.texmanager -   No LaTeX-compatible font found for the serif fontfamily in rcParams. Using default.\n",
      "03/31/2023 15:12:46 - INFO - matplotlib.texmanager -   No LaTeX-compatible font found for the serif fontfamily in rcParams. Using default.\n",
      "03/31/2023 15:12:46 - INFO - matplotlib.texmanager -   No LaTeX-compatible font found for the serif fontfamily in rcParams. Using default.\n",
      "03/31/2023 15:12:46 - INFO - matplotlib.texmanager -   No LaTeX-compatible font found for the serif fontfamily in rcParams. Using default.\n",
      "03/31/2023 15:12:46 - INFO - matplotlib.texmanager -   No LaTeX-compatible font found for the serif fontfamily in rcParams. Using default.\n",
      "03/31/2023 15:12:46 - INFO - matplotlib.texmanager -   No LaTeX-compatible font found for the serif fontfamily in rcParams. Using default.\n",
      "03/31/2023 15:12:46 - INFO - matplotlib.texmanager -   No LaTeX-compatible font found for the serif fontfamily in rcParams. Using default.\n",
      "03/31/2023 15:12:46 - INFO - matplotlib.texmanager -   No LaTeX-compatible font found for the serif fontfamily in rcParams. Using default.\n",
      "03/31/2023 15:12:46 - INFO - matplotlib.texmanager -   No LaTeX-compatible font found for the serif fontfamily in rcParams. Using default.\n",
      "03/31/2023 15:12:46 - INFO - matplotlib.texmanager -   No LaTeX-compatible font found for the serif fontfamily in rcParams. Using default.\n",
      "03/31/2023 15:12:46 - INFO - matplotlib.texmanager -   No LaTeX-compatible font found for the serif fontfamily in rcParams. Using default.\n",
      "03/31/2023 15:12:46 - INFO - matplotlib.texmanager -   No LaTeX-compatible font found for the serif fontfamily in rcParams. Using default.\n",
      "03/31/2023 15:12:46 - INFO - matplotlib.texmanager -   No LaTeX-compatible font found for the serif fontfamily in rcParams. Using default.\n",
      "03/31/2023 15:12:46 - INFO - matplotlib.texmanager -   No LaTeX-compatible font found for the serif fontfamily in rcParams. Using default.\n",
      "03/31/2023 15:12:46 - INFO - matplotlib.texmanager -   No LaTeX-compatible font found for the serif fontfamily in rcParams. Using default.\n",
      "03/31/2023 15:12:46 - INFO - matplotlib.texmanager -   No LaTeX-compatible font found for the serif fontfamily in rcParams. Using default.\n",
      "03/31/2023 15:12:46 - INFO - matplotlib.texmanager -   No LaTeX-compatible font found for the serif fontfamily in rcParams. Using default.\n",
      "03/31/2023 15:12:46 - INFO - matplotlib.texmanager -   No LaTeX-compatible font found for the serif fontfamily in rcParams. Using default.\n",
      "03/31/2023 15:12:46 - INFO - matplotlib.texmanager -   No LaTeX-compatible font found for the serif fontfamily in rcParams. Using default.\n",
      "03/31/2023 15:12:46 - INFO - matplotlib.texmanager -   No LaTeX-compatible font found for the serif fontfamily in rcParams. Using default.\n",
      "03/31/2023 15:12:46 - INFO - matplotlib.texmanager -   No LaTeX-compatible font found for the serif fontfamily in rcParams. Using default.\n",
      "03/31/2023 15:12:46 - INFO - matplotlib.texmanager -   No LaTeX-compatible font found for the serif fontfamily in rcParams. Using default.\n",
      "03/31/2023 15:12:46 - INFO - matplotlib.texmanager -   No LaTeX-compatible font found for the serif fontfamily in rcParams. Using default.\n",
      "03/31/2023 15:12:46 - INFO - matplotlib.texmanager -   No LaTeX-compatible font found for the serif fontfamily in rcParams. Using default.\n",
      "03/31/2023 15:12:46 - INFO - matplotlib.texmanager -   No LaTeX-compatible font found for the serif fontfamily in rcParams. Using default.\n",
      "03/31/2023 15:12:46 - INFO - matplotlib.texmanager -   No LaTeX-compatible font found for the serif fontfamily in rcParams. Using default.\n",
      "03/31/2023 15:12:46 - INFO - matplotlib.texmanager -   No LaTeX-compatible font found for the serif fontfamily in rcParams. Using default.\n",
      "03/31/2023 15:12:46 - INFO - matplotlib.texmanager -   No LaTeX-compatible font found for the serif fontfamily in rcParams. Using default.\n",
      "03/31/2023 15:12:46 - INFO - matplotlib.texmanager -   No LaTeX-compatible font found for the serif fontfamily in rcParams. Using default.\n",
      "03/31/2023 15:12:46 - INFO - matplotlib.texmanager -   No LaTeX-compatible font found for the serif fontfamily in rcParams. Using default.\n",
      "03/31/2023 15:12:46 - INFO - matplotlib.texmanager -   No LaTeX-compatible font found for the serif fontfamily in rcParams. Using default.\n",
      "03/31/2023 15:12:46 - INFO - matplotlib.texmanager -   No LaTeX-compatible font found for the serif fontfamily in rcParams. Using default.\n",
      "03/31/2023 15:12:46 - INFO - matplotlib.texmanager -   No LaTeX-compatible font found for the serif fontfamily in rcParams. Using default.\n",
      "03/31/2023 15:12:46 - INFO - matplotlib.texmanager -   No LaTeX-compatible font found for the serif fontfamily in rcParams. Using default.\n",
      "03/31/2023 15:12:46 - INFO - matplotlib.texmanager -   No LaTeX-compatible font found for the serif fontfamily in rcParams. Using default.\n",
      "03/31/2023 15:12:46 - INFO - matplotlib.texmanager -   No LaTeX-compatible font found for the serif fontfamily in rcParams. Using default.\n",
      "03/31/2023 15:12:46 - INFO - matplotlib.texmanager -   No LaTeX-compatible font found for the serif fontfamily in rcParams. Using default.\n",
      "03/31/2023 15:12:46 - INFO - matplotlib.texmanager -   No LaTeX-compatible font found for the serif fontfamily in rcParams. Using default.\n",
      "03/31/2023 15:12:46 - INFO - matplotlib.texmanager -   No LaTeX-compatible font found for the serif fontfamily in rcParams. Using default.\n",
      "03/31/2023 15:12:46 - INFO - matplotlib.texmanager -   No LaTeX-compatible font found for the serif fontfamily in rcParams. Using default.\n",
      "03/31/2023 15:12:46 - INFO - matplotlib.texmanager -   No LaTeX-compatible font found for the serif fontfamily in rcParams. Using default.\n",
      "03/31/2023 15:12:46 - INFO - matplotlib.texmanager -   No LaTeX-compatible font found for the serif fontfamily in rcParams. Using default.\n",
      "03/31/2023 15:12:46 - INFO - matplotlib.texmanager -   No LaTeX-compatible font found for the serif fontfamily in rcParams. Using default.\n",
      "03/31/2023 15:12:46 - INFO - matplotlib.texmanager -   No LaTeX-compatible font found for the serif fontfamily in rcParams. Using default.\n",
      "03/31/2023 15:12:46 - INFO - matplotlib.texmanager -   No LaTeX-compatible font found for the serif fontfamily in rcParams. Using default.\n",
      "03/31/2023 15:12:46 - INFO - matplotlib.texmanager -   No LaTeX-compatible font found for the serif fontfamily in rcParams. Using default.\n",
      "03/31/2023 15:12:46 - INFO - matplotlib.texmanager -   No LaTeX-compatible font found for the serif fontfamily in rcParams. Using default.\n",
      "03/31/2023 15:12:46 - INFO - matplotlib.texmanager -   No LaTeX-compatible font found for the serif fontfamily in rcParams. Using default.\n",
      "03/31/2023 15:12:46 - INFO - matplotlib.texmanager -   No LaTeX-compatible font found for the serif fontfamily in rcParams. Using default.\n",
      "03/31/2023 15:12:46 - INFO - matplotlib.texmanager -   No LaTeX-compatible font found for the serif fontfamily in rcParams. Using default.\n",
      "03/31/2023 15:12:46 - INFO - matplotlib.texmanager -   No LaTeX-compatible font found for the serif fontfamily in rcParams. Using default.\n",
      "03/31/2023 15:12:46 - INFO - matplotlib.texmanager -   No LaTeX-compatible font found for the serif fontfamily in rcParams. Using default.\n",
      "03/31/2023 15:12:46 - INFO - matplotlib.texmanager -   No LaTeX-compatible font found for the serif fontfamily in rcParams. Using default.\n",
      "03/31/2023 15:12:46 - INFO - matplotlib.texmanager -   No LaTeX-compatible font found for the serif fontfamily in rcParams. Using default.\n",
      "03/31/2023 15:12:46 - INFO - matplotlib.texmanager -   No LaTeX-compatible font found for the serif fontfamily in rcParams. Using default.\n",
      "03/31/2023 15:12:46 - INFO - matplotlib.texmanager -   No LaTeX-compatible font found for the serif fontfamily in rcParams. Using default.\n",
      "03/31/2023 15:12:46 - INFO - matplotlib.texmanager -   No LaTeX-compatible font found for the serif fontfamily in rcParams. Using default.\n",
      "03/31/2023 15:12:46 - INFO - matplotlib.texmanager -   No LaTeX-compatible font found for the serif fontfamily in rcParams. Using default.\n",
      "03/31/2023 15:12:46 - INFO - matplotlib.texmanager -   No LaTeX-compatible font found for the serif fontfamily in rcParams. Using default.\n",
      "03/31/2023 15:12:46 - INFO - matplotlib.texmanager -   No LaTeX-compatible font found for the serif fontfamily in rcParams. Using default.\n",
      "03/31/2023 15:12:46 - INFO - matplotlib.texmanager -   No LaTeX-compatible font found for the serif fontfamily in rcParams. Using default.\n",
      "03/31/2023 15:12:46 - INFO - matplotlib.texmanager -   No LaTeX-compatible font found for the serif fontfamily in rcParams. Using default.\n",
      "03/31/2023 15:12:46 - INFO - matplotlib.texmanager -   No LaTeX-compatible font found for the serif fontfamily in rcParams. Using default.\n",
      "03/31/2023 15:12:46 - INFO - matplotlib.texmanager -   No LaTeX-compatible font found for the serif fontfamily in rcParams. Using default.\n",
      "03/31/2023 15:12:46 - INFO - matplotlib.texmanager -   No LaTeX-compatible font found for the serif fontfamily in rcParams. Using default.\n",
      "03/31/2023 15:12:46 - INFO - matplotlib.texmanager -   No LaTeX-compatible font found for the serif fontfamily in rcParams. Using default.\n",
      "03/31/2023 15:12:46 - INFO - matplotlib.texmanager -   No LaTeX-compatible font found for the serif fontfamily in rcParams. Using default.\n",
      "03/31/2023 15:12:46 - INFO - matplotlib.texmanager -   No LaTeX-compatible font found for the serif fontfamily in rcParams. Using default.\n",
      "03/31/2023 15:12:46 - INFO - matplotlib.texmanager -   No LaTeX-compatible font found for the serif fontfamily in rcParams. Using default.\n",
      "03/31/2023 15:12:46 - INFO - matplotlib.texmanager -   No LaTeX-compatible font found for the serif fontfamily in rcParams. Using default.\n",
      "03/31/2023 15:12:46 - INFO - matplotlib.texmanager -   No LaTeX-compatible font found for the serif fontfamily in rcParams. Using default.\n",
      "03/31/2023 15:12:46 - INFO - matplotlib.texmanager -   No LaTeX-compatible font found for the serif fontfamily in rcParams. Using default.\n",
      "03/31/2023 15:12:46 - INFO - matplotlib.texmanager -   No LaTeX-compatible font found for the serif fontfamily in rcParams. Using default.\n",
      "03/31/2023 15:12:46 - INFO - matplotlib.texmanager -   No LaTeX-compatible font found for the serif fontfamily in rcParams. Using default.\n",
      "03/31/2023 15:12:46 - INFO - matplotlib.texmanager -   No LaTeX-compatible font found for the serif fontfamily in rcParams. Using default.\n",
      "03/31/2023 15:12:46 - INFO - matplotlib.texmanager -   No LaTeX-compatible font found for the serif fontfamily in rcParams. Using default.\n",
      "03/31/2023 15:12:46 - INFO - matplotlib.texmanager -   No LaTeX-compatible font found for the serif fontfamily in rcParams. Using default.\n",
      "03/31/2023 15:12:46 - INFO - matplotlib.texmanager -   No LaTeX-compatible font found for the serif fontfamily in rcParams. Using default.\n",
      "03/31/2023 15:12:46 - INFO - matplotlib.texmanager -   No LaTeX-compatible font found for the serif fontfamily in rcParams. Using default.\n",
      "03/31/2023 15:12:46 - INFO - matplotlib.texmanager -   No LaTeX-compatible font found for the serif fontfamily in rcParams. Using default.\n",
      "03/31/2023 15:12:46 - INFO - matplotlib.texmanager -   No LaTeX-compatible font found for the serif fontfamily in rcParams. Using default.\n",
      "03/31/2023 15:12:46 - INFO - matplotlib.texmanager -   No LaTeX-compatible font found for the serif fontfamily in rcParams. Using default.\n",
      "03/31/2023 15:12:46 - INFO - matplotlib.texmanager -   No LaTeX-compatible font found for the serif fontfamily in rcParams. Using default.\n",
      "03/31/2023 15:12:46 - INFO - matplotlib.texmanager -   No LaTeX-compatible font found for the serif fontfamily in rcParams. Using default.\n",
      "03/31/2023 15:12:46 - INFO - matplotlib.texmanager -   No LaTeX-compatible font found for the serif fontfamily in rcParams. Using default.\n",
      "03/31/2023 15:12:46 - INFO - matplotlib.texmanager -   No LaTeX-compatible font found for the serif fontfamily in rcParams. Using default.\n",
      "03/31/2023 15:12:46 - INFO - matplotlib.texmanager -   No LaTeX-compatible font found for the serif fontfamily in rcParams. Using default.\n",
      "03/31/2023 15:12:46 - INFO - matplotlib.texmanager -   No LaTeX-compatible font found for the serif fontfamily in rcParams. Using default.\n",
      "03/31/2023 15:12:46 - INFO - matplotlib.texmanager -   No LaTeX-compatible font found for the serif fontfamily in rcParams. Using default.\n",
      "03/31/2023 15:12:46 - INFO - matplotlib.texmanager -   No LaTeX-compatible font found for the serif fontfamily in rcParams. Using default.\n",
      "03/31/2023 15:12:46 - INFO - matplotlib.texmanager -   No LaTeX-compatible font found for the serif fontfamily in rcParams. Using default.\n",
      "03/31/2023 15:12:46 - INFO - matplotlib.texmanager -   No LaTeX-compatible font found for the serif fontfamily in rcParams. Using default.\n",
      "03/31/2023 15:12:46 - INFO - matplotlib.texmanager -   No LaTeX-compatible font found for the serif fontfamily in rcParams. Using default.\n",
      "03/31/2023 15:12:46 - INFO - matplotlib.texmanager -   No LaTeX-compatible font found for the serif fontfamily in rcParams. Using default.\n",
      "03/31/2023 15:12:46 - INFO - matplotlib.texmanager -   No LaTeX-compatible font found for the serif fontfamily in rcParams. Using default.\n",
      "03/31/2023 15:12:46 - INFO - matplotlib.texmanager -   No LaTeX-compatible font found for the serif fontfamily in rcParams. Using default.\n",
      "03/31/2023 15:12:46 - INFO - matplotlib.texmanager -   No LaTeX-compatible font found for the serif fontfamily in rcParams. Using default.\n",
      "03/31/2023 15:12:46 - INFO - matplotlib.texmanager -   No LaTeX-compatible font found for the serif fontfamily in rcParams. Using default.\n",
      "03/31/2023 15:12:46 - INFO - matplotlib.texmanager -   No LaTeX-compatible font found for the serif fontfamily in rcParams. Using default.\n",
      "03/31/2023 15:12:46 - INFO - matplotlib.texmanager -   No LaTeX-compatible font found for the serif fontfamily in rcParams. Using default.\n",
      "03/31/2023 15:12:46 - INFO - matplotlib.texmanager -   No LaTeX-compatible font found for the serif fontfamily in rcParams. Using default.\n",
      "03/31/2023 15:12:46 - INFO - matplotlib.texmanager -   No LaTeX-compatible font found for the serif fontfamily in rcParams. Using default.\n",
      "03/31/2023 15:12:46 - INFO - matplotlib.texmanager -   No LaTeX-compatible font found for the serif fontfamily in rcParams. Using default.\n",
      "03/31/2023 15:12:46 - INFO - matplotlib.texmanager -   No LaTeX-compatible font found for the serif fontfamily in rcParams. Using default.\n",
      "03/31/2023 15:12:46 - INFO - matplotlib.texmanager -   No LaTeX-compatible font found for the serif fontfamily in rcParams. Using default.\n",
      "03/31/2023 15:12:46 - INFO - matplotlib.texmanager -   No LaTeX-compatible font found for the serif fontfamily in rcParams. Using default.\n",
      "03/31/2023 15:12:46 - INFO - matplotlib.texmanager -   No LaTeX-compatible font found for the serif fontfamily in rcParams. Using default.\n",
      "03/31/2023 15:12:46 - INFO - matplotlib.texmanager -   No LaTeX-compatible font found for the serif fontfamily in rcParams. Using default.\n",
      "03/31/2023 15:12:46 - INFO - matplotlib.texmanager -   No LaTeX-compatible font found for the serif fontfamily in rcParams. Using default.\n",
      "03/31/2023 15:12:46 - INFO - matplotlib.texmanager -   No LaTeX-compatible font found for the serif fontfamily in rcParams. Using default.\n",
      "03/31/2023 15:12:46 - INFO - matplotlib.texmanager -   No LaTeX-compatible font found for the serif fontfamily in rcParams. Using default.\n",
      "03/31/2023 15:12:46 - INFO - matplotlib.texmanager -   No LaTeX-compatible font found for the serif fontfamily in rcParams. Using default.\n",
      "03/31/2023 15:12:46 - INFO - matplotlib.texmanager -   No LaTeX-compatible font found for the serif fontfamily in rcParams. Using default.\n",
      "03/31/2023 15:12:46 - INFO - matplotlib.texmanager -   No LaTeX-compatible font found for the serif fontfamily in rcParams. Using default.\n",
      "03/31/2023 15:12:46 - INFO - matplotlib.texmanager -   No LaTeX-compatible font found for the serif fontfamily in rcParams. Using default.\n",
      "03/31/2023 15:12:46 - INFO - matplotlib.texmanager -   No LaTeX-compatible font found for the serif fontfamily in rcParams. Using default.\n",
      "03/31/2023 15:12:46 - INFO - matplotlib.texmanager -   No LaTeX-compatible font found for the serif fontfamily in rcParams. Using default.\n",
      "03/31/2023 15:12:46 - INFO - matplotlib.texmanager -   No LaTeX-compatible font found for the serif fontfamily in rcParams. Using default.\n",
      "03/31/2023 15:12:46 - INFO - matplotlib.texmanager -   No LaTeX-compatible font found for the serif fontfamily in rcParams. Using default.\n",
      "03/31/2023 15:12:46 - INFO - matplotlib.texmanager -   No LaTeX-compatible font found for the serif fontfamily in rcParams. Using default.\n",
      "03/31/2023 15:12:46 - INFO - matplotlib.texmanager -   No LaTeX-compatible font found for the serif fontfamily in rcParams. Using default.\n",
      "03/31/2023 15:12:46 - INFO - matplotlib.texmanager -   No LaTeX-compatible font found for the serif fontfamily in rcParams. Using default.\n",
      "03/31/2023 15:12:46 - INFO - matplotlib.texmanager -   No LaTeX-compatible font found for the serif fontfamily in rcParams. Using default.\n",
      "03/31/2023 15:12:46 - INFO - matplotlib.texmanager -   No LaTeX-compatible font found for the serif fontfamily in rcParams. Using default.\n",
      "03/31/2023 15:12:46 - INFO - matplotlib.texmanager -   No LaTeX-compatible font found for the serif fontfamily in rcParams. Using default.\n",
      "03/31/2023 15:12:46 - INFO - matplotlib.texmanager -   No LaTeX-compatible font found for the serif fontfamily in rcParams. Using default.\n",
      "03/31/2023 15:12:46 - INFO - matplotlib.texmanager -   No LaTeX-compatible font found for the serif fontfamily in rcParams. Using default.\n",
      "03/31/2023 15:12:46 - INFO - matplotlib.texmanager -   No LaTeX-compatible font found for the serif fontfamily in rcParams. Using default.\n",
      "03/31/2023 15:12:46 - INFO - matplotlib.texmanager -   No LaTeX-compatible font found for the serif fontfamily in rcParams. Using default.\n",
      "03/31/2023 15:12:46 - INFO - matplotlib.texmanager -   No LaTeX-compatible font found for the serif fontfamily in rcParams. Using default.\n",
      "03/31/2023 15:12:46 - INFO - matplotlib.texmanager -   No LaTeX-compatible font found for the serif fontfamily in rcParams. Using default.\n",
      "03/31/2023 15:12:46 - INFO - matplotlib.texmanager -   No LaTeX-compatible font found for the serif fontfamily in rcParams. Using default.\n",
      "03/31/2023 15:12:46 - INFO - matplotlib.texmanager -   No LaTeX-compatible font found for the serif fontfamily in rcParams. Using default.\n",
      "03/31/2023 15:12:46 - INFO - matplotlib.texmanager -   No LaTeX-compatible font found for the serif fontfamily in rcParams. Using default.\n",
      "03/31/2023 15:12:46 - INFO - matplotlib.texmanager -   No LaTeX-compatible font found for the serif fontfamily in rcParams. Using default.\n",
      "03/31/2023 15:12:46 - INFO - matplotlib.texmanager -   No LaTeX-compatible font found for the serif fontfamily in rcParams. Using default.\n",
      "03/31/2023 15:12:46 - INFO - matplotlib.texmanager -   No LaTeX-compatible font found for the serif fontfamily in rcParams. Using default.\n",
      "03/31/2023 15:12:46 - INFO - matplotlib.texmanager -   No LaTeX-compatible font found for the serif fontfamily in rcParams. Using default.\n",
      "03/31/2023 15:12:46 - INFO - matplotlib.texmanager -   No LaTeX-compatible font found for the serif fontfamily in rcParams. Using default.\n",
      "03/31/2023 15:12:46 - INFO - matplotlib.texmanager -   No LaTeX-compatible font found for the serif fontfamily in rcParams. Using default.\n",
      "03/31/2023 15:12:46 - INFO - matplotlib.texmanager -   No LaTeX-compatible font found for the serif fontfamily in rcParams. Using default.\n",
      "03/31/2023 15:12:46 - INFO - matplotlib.texmanager -   No LaTeX-compatible font found for the serif fontfamily in rcParams. Using default.\n",
      "03/31/2023 15:12:46 - INFO - matplotlib.texmanager -   No LaTeX-compatible font found for the serif fontfamily in rcParams. Using default.\n",
      "03/31/2023 15:12:46 - INFO - matplotlib.texmanager -   No LaTeX-compatible font found for the serif fontfamily in rcParams. Using default.\n",
      "03/31/2023 15:12:46 - INFO - matplotlib.texmanager -   No LaTeX-compatible font found for the serif fontfamily in rcParams. Using default.\n",
      "03/31/2023 15:12:46 - INFO - matplotlib.texmanager -   No LaTeX-compatible font found for the serif fontfamily in rcParams. Using default.\n",
      "03/31/2023 15:12:46 - INFO - matplotlib.texmanager -   No LaTeX-compatible font found for the serif fontfamily in rcParams. Using default.\n",
      "03/31/2023 15:12:46 - INFO - matplotlib.texmanager -   No LaTeX-compatible font found for the serif fontfamily in rcParams. Using default.\n",
      "03/31/2023 15:12:46 - INFO - matplotlib.texmanager -   No LaTeX-compatible font found for the serif fontfamily in rcParams. Using default.\n",
      "03/31/2023 15:12:46 - INFO - matplotlib.texmanager -   No LaTeX-compatible font found for the serif fontfamily in rcParams. Using default.\n",
      "03/31/2023 15:12:46 - INFO - matplotlib.texmanager -   No LaTeX-compatible font found for the serif fontfamily in rcParams. Using default.\n",
      "03/31/2023 15:12:46 - INFO - matplotlib.texmanager -   No LaTeX-compatible font found for the serif fontfamily in rcParams. Using default.\n",
      "03/31/2023 15:12:46 - INFO - matplotlib.texmanager -   No LaTeX-compatible font found for the serif fontfamily in rcParams. Using default.\n",
      "03/31/2023 15:12:46 - INFO - matplotlib.texmanager -   No LaTeX-compatible font found for the serif fontfamily in rcParams. Using default.\n",
      "03/31/2023 15:12:46 - INFO - matplotlib.texmanager -   No LaTeX-compatible font found for the serif fontfamily in rcParams. Using default.\n",
      "03/31/2023 15:12:46 - INFO - matplotlib.texmanager -   No LaTeX-compatible font found for the serif fontfamily in rcParams. Using default.\n",
      "03/31/2023 15:12:46 - INFO - matplotlib.texmanager -   No LaTeX-compatible font found for the serif fontfamily in rcParams. Using default.\n",
      "03/31/2023 15:12:46 - INFO - matplotlib.texmanager -   No LaTeX-compatible font found for the serif fontfamily in rcParams. Using default.\n",
      "03/31/2023 15:12:46 - INFO - matplotlib.texmanager -   No LaTeX-compatible font found for the serif fontfamily in rcParams. Using default.\n",
      "03/31/2023 15:12:46 - INFO - matplotlib.texmanager -   No LaTeX-compatible font found for the serif fontfamily in rcParams. Using default.\n",
      "03/31/2023 15:12:46 - INFO - matplotlib.texmanager -   No LaTeX-compatible font found for the serif fontfamily in rcParams. Using default.\n",
      "03/31/2023 15:12:46 - INFO - matplotlib.texmanager -   No LaTeX-compatible font found for the serif fontfamily in rcParams. Using default.\n",
      "03/31/2023 15:12:46 - INFO - matplotlib.texmanager -   No LaTeX-compatible font found for the serif fontfamily in rcParams. Using default.\n",
      "03/31/2023 15:12:46 - INFO - matplotlib.texmanager -   No LaTeX-compatible font found for the serif fontfamily in rcParams. Using default.\n",
      "03/31/2023 15:12:46 - INFO - matplotlib.texmanager -   No LaTeX-compatible font found for the serif fontfamily in rcParams. Using default.\n",
      "03/31/2023 15:12:46 - INFO - matplotlib.texmanager -   No LaTeX-compatible font found for the serif fontfamily in rcParams. Using default.\n",
      "03/31/2023 15:12:46 - INFO - matplotlib.texmanager -   No LaTeX-compatible font found for the serif fontfamily in rcParams. Using default.\n",
      "03/31/2023 15:12:46 - INFO - matplotlib.texmanager -   No LaTeX-compatible font found for the serif fontfamily in rcParams. Using default.\n",
      "03/31/2023 15:12:46 - INFO - matplotlib.texmanager -   No LaTeX-compatible font found for the serif fontfamily in rcParams. Using default.\n",
      "03/31/2023 15:12:46 - INFO - matplotlib.texmanager -   No LaTeX-compatible font found for the serif fontfamily in rcParams. Using default.\n",
      "03/31/2023 15:12:46 - INFO - matplotlib.texmanager -   No LaTeX-compatible font found for the serif fontfamily in rcParams. Using default.\n",
      "03/31/2023 15:12:46 - INFO - matplotlib.texmanager -   No LaTeX-compatible font found for the serif fontfamily in rcParams. Using default.\n",
      "03/31/2023 15:12:46 - INFO - matplotlib.texmanager -   No LaTeX-compatible font found for the serif fontfamily in rcParams. Using default.\n",
      "03/31/2023 15:12:46 - INFO - matplotlib.texmanager -   No LaTeX-compatible font found for the serif fontfamily in rcParams. Using default.\n",
      "03/31/2023 15:12:46 - INFO - matplotlib.texmanager -   No LaTeX-compatible font found for the serif fontfamily in rcParams. Using default.\n",
      "03/31/2023 15:12:46 - INFO - matplotlib.texmanager -   No LaTeX-compatible font found for the serif fontfamily in rcParams. Using default.\n",
      "03/31/2023 15:12:46 - INFO - matplotlib.texmanager -   No LaTeX-compatible font found for the serif fontfamily in rcParams. Using default.\n",
      "03/31/2023 15:12:46 - INFO - matplotlib.texmanager -   No LaTeX-compatible font found for the serif fontfamily in rcParams. Using default.\n",
      "03/31/2023 15:12:46 - INFO - matplotlib.texmanager -   No LaTeX-compatible font found for the serif fontfamily in rcParams. Using default.\n",
      "03/31/2023 15:12:46 - INFO - matplotlib.texmanager -   No LaTeX-compatible font found for the serif fontfamily in rcParams. Using default.\n",
      "03/31/2023 15:12:46 - INFO - matplotlib.texmanager -   No LaTeX-compatible font found for the serif fontfamily in rcParams. Using default.\n",
      "03/31/2023 15:12:46 - INFO - matplotlib.texmanager -   No LaTeX-compatible font found for the serif fontfamily in rcParams. Using default.\n",
      "03/31/2023 15:12:46 - INFO - matplotlib.texmanager -   No LaTeX-compatible font found for the serif fontfamily in rcParams. Using default.\n",
      "03/31/2023 15:12:46 - INFO - matplotlib.texmanager -   No LaTeX-compatible font found for the serif fontfamily in rcParams. Using default.\n",
      "03/31/2023 15:12:46 - INFO - matplotlib.texmanager -   No LaTeX-compatible font found for the serif fontfamily in rcParams. Using default.\n",
      "03/31/2023 15:12:46 - INFO - matplotlib.texmanager -   No LaTeX-compatible font found for the serif fontfamily in rcParams. Using default.\n",
      "03/31/2023 15:12:46 - INFO - matplotlib.texmanager -   No LaTeX-compatible font found for the serif fontfamily in rcParams. Using default.\n",
      "03/31/2023 15:12:46 - INFO - matplotlib.texmanager -   No LaTeX-compatible font found for the serif fontfamily in rcParams. Using default.\n",
      "03/31/2023 15:12:46 - INFO - matplotlib.texmanager -   No LaTeX-compatible font found for the serif fontfamily in rcParams. Using default.\n",
      "03/31/2023 15:12:46 - INFO - matplotlib.texmanager -   No LaTeX-compatible font found for the serif fontfamily in rcParams. Using default.\n",
      "03/31/2023 15:12:46 - INFO - matplotlib.texmanager -   No LaTeX-compatible font found for the serif fontfamily in rcParams. Using default.\n",
      "03/31/2023 15:12:46 - INFO - matplotlib.texmanager -   No LaTeX-compatible font found for the serif fontfamily in rcParams. Using default.\n",
      "03/31/2023 15:12:46 - INFO - matplotlib.texmanager -   No LaTeX-compatible font found for the serif fontfamily in rcParams. Using default.\n",
      "03/31/2023 15:12:46 - INFO - matplotlib.texmanager -   No LaTeX-compatible font found for the serif fontfamily in rcParams. Using default.\n",
      "03/31/2023 15:12:46 - INFO - matplotlib.texmanager -   No LaTeX-compatible font found for the serif fontfamily in rcParams. Using default.\n",
      "03/31/2023 15:12:46 - INFO - matplotlib.texmanager -   No LaTeX-compatible font found for the serif fontfamily in rcParams. Using default.\n",
      "03/31/2023 15:12:46 - INFO - matplotlib.texmanager -   No LaTeX-compatible font found for the serif fontfamily in rcParams. Using default.\n",
      "03/31/2023 15:12:46 - INFO - matplotlib.texmanager -   No LaTeX-compatible font found for the serif fontfamily in rcParams. Using default.\n",
      "03/31/2023 15:12:46 - INFO - matplotlib.texmanager -   No LaTeX-compatible font found for the serif fontfamily in rcParams. Using default.\n",
      "03/31/2023 15:12:46 - INFO - matplotlib.texmanager -   No LaTeX-compatible font found for the serif fontfamily in rcParams. Using default.\n",
      "03/31/2023 15:12:46 - INFO - matplotlib.texmanager -   No LaTeX-compatible font found for the serif fontfamily in rcParams. Using default.\n",
      "03/31/2023 15:12:46 - INFO - matplotlib.texmanager -   No LaTeX-compatible font found for the serif fontfamily in rcParams. Using default.\n",
      "03/31/2023 15:12:46 - INFO - matplotlib.texmanager -   No LaTeX-compatible font found for the serif fontfamily in rcParams. Using default.\n",
      "03/31/2023 15:12:46 - INFO - matplotlib.texmanager -   No LaTeX-compatible font found for the serif fontfamily in rcParams. Using default.\n",
      "03/31/2023 15:12:46 - INFO - matplotlib.texmanager -   No LaTeX-compatible font found for the serif fontfamily in rcParams. Using default.\n",
      "03/31/2023 15:12:46 - INFO - matplotlib.texmanager -   No LaTeX-compatible font found for the serif fontfamily in rcParams. Using default.\n",
      "03/31/2023 15:12:46 - INFO - matplotlib.texmanager -   No LaTeX-compatible font found for the serif fontfamily in rcParams. Using default.\n",
      "03/31/2023 15:12:46 - INFO - matplotlib.texmanager -   No LaTeX-compatible font found for the serif fontfamily in rcParams. Using default.\n",
      "03/31/2023 15:12:46 - INFO - matplotlib.texmanager -   No LaTeX-compatible font found for the serif fontfamily in rcParams. Using default.\n",
      "03/31/2023 15:12:46 - INFO - matplotlib.texmanager -   No LaTeX-compatible font found for the serif fontfamily in rcParams. Using default.\n",
      "03/31/2023 15:12:46 - INFO - matplotlib.texmanager -   No LaTeX-compatible font found for the serif fontfamily in rcParams. Using default.\n",
      "03/31/2023 15:12:46 - INFO - matplotlib.texmanager -   No LaTeX-compatible font found for the serif fontfamily in rcParams. Using default.\n",
      "03/31/2023 15:12:46 - INFO - matplotlib.texmanager -   No LaTeX-compatible font found for the serif fontfamily in rcParams. Using default.\n",
      "03/31/2023 15:12:46 - INFO - matplotlib.texmanager -   No LaTeX-compatible font found for the serif fontfamily in rcParams. Using default.\n",
      "03/31/2023 15:12:46 - INFO - matplotlib.texmanager -   No LaTeX-compatible font found for the serif fontfamily in rcParams. Using default.\n",
      "03/31/2023 15:12:46 - INFO - matplotlib.texmanager -   No LaTeX-compatible font found for the serif fontfamily in rcParams. Using default.\n"
     ]
    },
    {
     "data": {
      "image/png": "[encoded data removed]",
      "text/plain": [
       "<Figure size 800x300 with 2 Axes>"
      ]
     },
     "metadata": {},
     "output_type": "display_data"
    }
   ],
   "source": [
    "gammas = viz_df[\"gammas\"].values.tolist()\n",
    "deltas = viz_df[\"deltas\"].values.tolist()\n",
    "\n",
    "baseline_coherence = viz_df[\"baseline_coherence\"].values.tolist()\n",
    "watermark_coherence = viz_df[\"watermark_coherence\"].values.tolist()\n",
    "no_watermark_coherence = viz_df[\"no_watermark_coherence\"].values.tolist()\n",
    "\n",
    "fig, axs = plt.subplots(ncols=2, nrows=1, figsize=(8,3), sharey=True)\n",
    "slice_idx = len(baseline_coherence)//2\n",
    "\n",
    "plt.subplot(1, 2, 1)\n",
    "plt.subplot(1, 2, 1)\n",
    "plt.plot(gammas[:slice_idx], baseline_coherence[:slice_idx], label=\"baseline\")\n",
    "plt.plot(gammas[:slice_idx], no_watermark_coherence[:slice_idx], label=\"no watermark\")\n",
    "plt.plot(gammas[:slice_idx], watermark_coherence[:slice_idx], label=\"watermark\")\n",
    "plt.xticks(gammas[:slice_idx])\n",
    "plt.xlim(0, 1)\n",
    "# reverse x axis\n",
    "axs[0].invert_xaxis()\n",
    "plt.xlabel(\"gamma\")\n",
    "plt.ylabel(\"coherence\")\n",
    "\n",
    "plt.subplot(1, 2, 2)\n",
    "plt.plot(deltas[slice_idx:], baseline_coherence[slice_idx:], label=\"baseline\")\n",
    "plt.plot(deltas[slice_idx:], no_watermark_coherence[slice_idx:], label=\"no watermark\")\n",
    "plt.plot(deltas[slice_idx:], watermark_coherence[slice_idx:], label=\"watermark\")\n",
    "plt.xticks(deltas[slice_idx:])\n",
    "plt.xlim(0, 5.1)\n",
    "plt.xlabel(\"delta\")\n",
    "plt.ylabel(\"coherence\")\n",
    "\n",
    "\n",
    "# legend to right of both charts\n",
    "plt.legend(bbox_to_anchor=(1.05, 1), loc='upper left', borderaxespad=0.)\n",
    "plt.tight_layout()\n",
    "plt.savefig(f\"{OUTPUT_DIR}/sampling_coherence_score.png\")\n",
    "\n",
    "plt.show()"
   ]
  },
  {
   "cell_type": "code",
   "execution_count": 29,
   "metadata": {},
   "outputs": [
    {
     "name": "stdout",
     "output_type": "stream",
     "text": [
      "497 497\n"
     ]
    },
    {
     "name": "stderr",
     "output_type": "stream",
     "text": [
      "100%|██████████| 8/8 [00:01<00:00,  4.72it/s]\n",
      "100%|██████████| 8/8 [00:01<00:00,  5.08it/s]\n"
     ]
    },
    {
     "name": "stdout",
     "output_type": "stream",
     "text": [
      "497 497\n"
     ]
    },
    {
     "name": "stderr",
     "output_type": "stream",
     "text": [
      "100%|██████████| 8/8 [00:01<00:00,  4.70it/s]\n",
      "100%|██████████| 8/8 [00:01<00:00,  5.03it/s]\n"
     ]
    },
    {
     "name": "stdout",
     "output_type": "stream",
     "text": [
      "497 497\n"
     ]
    },
    {
     "name": "stderr",
     "output_type": "stream",
     "text": [
      "100%|██████████| 8/8 [00:01<00:00,  4.63it/s]\n",
      "100%|██████████| 8/8 [00:01<00:00,  5.03it/s]\n"
     ]
    },
    {
     "name": "stdout",
     "output_type": "stream",
     "text": [
      "496 496\n"
     ]
    },
    {
     "name": "stderr",
     "output_type": "stream",
     "text": [
      "100%|██████████| 8/8 [00:01<00:00,  4.77it/s]\n",
      "100%|██████████| 8/8 [00:01<00:00,  5.03it/s]\n"
     ]
    },
    {
     "name": "stdout",
     "output_type": "stream",
     "text": [
      "496 496\n"
     ]
    },
    {
     "name": "stderr",
     "output_type": "stream",
     "text": [
      "100%|██████████| 8/8 [00:01<00:00,  4.61it/s]\n",
      "100%|██████████| 8/8 [00:01<00:00,  5.05it/s]\n"
     ]
    },
    {
     "name": "stdout",
     "output_type": "stream",
     "text": [
      "496 496\n"
     ]
    },
    {
     "name": "stderr",
     "output_type": "stream",
     "text": [
      "100%|██████████| 8/8 [00:01<00:00,  4.70it/s]\n",
      "100%|██████████| 8/8 [00:01<00:00,  4.99it/s]\n"
     ]
    },
    {
     "name": "stdout",
     "output_type": "stream",
     "text": [
      "497 497\n"
     ]
    },
    {
     "name": "stderr",
     "output_type": "stream",
     "text": [
      "100%|██████████| 8/8 [00:01<00:00,  4.57it/s]\n",
      "100%|██████████| 8/8 [00:01<00:00,  4.92it/s]\n"
     ]
    },
    {
     "name": "stdout",
     "output_type": "stream",
     "text": [
      "497 497\n"
     ]
    },
    {
     "name": "stderr",
     "output_type": "stream",
     "text": [
      "100%|██████████| 8/8 [00:01<00:00,  4.28it/s]\n",
      "100%|██████████| 8/8 [00:01<00:00,  4.90it/s]\n"
     ]
    },
    {
     "name": "stdout",
     "output_type": "stream",
     "text": [
      "497 497\n"
     ]
    },
    {
     "name": "stderr",
     "output_type": "stream",
     "text": [
      "100%|██████████| 8/8 [00:01<00:00,  4.56it/s]\n",
      "100%|██████████| 8/8 [00:01<00:00,  4.83it/s]\n"
     ]
    },
    {
     "name": "stdout",
     "output_type": "stream",
     "text": [
      "495 495\n"
     ]
    },
    {
     "name": "stderr",
     "output_type": "stream",
     "text": [
      "100%|██████████| 8/8 [00:01<00:00,  4.41it/s]\n",
      "100%|██████████| 8/8 [00:01<00:00,  4.89it/s]\n"
     ]
    },
    {
     "name": "stdout",
     "output_type": "stream",
     "text": [
      "495 495\n"
     ]
    },
    {
     "name": "stderr",
     "output_type": "stream",
     "text": [
      "100%|██████████| 8/8 [00:01<00:00,  4.59it/s]\n",
      "100%|██████████| 8/8 [00:01<00:00,  4.86it/s]\n"
     ]
    },
    {
     "name": "stdout",
     "output_type": "stream",
     "text": [
      "495 495\n"
     ]
    },
    {
     "name": "stderr",
     "output_type": "stream",
     "text": [
      "100%|██████████| 8/8 [00:01<00:00,  4.50it/s]\n",
      "100%|██████████| 8/8 [00:01<00:00,  4.76it/s]\n"
     ]
    },
    {
     "name": "stdout",
     "output_type": "stream",
     "text": [
      "495 495\n"
     ]
    },
    {
     "name": "stderr",
     "output_type": "stream",
     "text": [
      "100%|██████████| 8/8 [00:01<00:00,  4.32it/s]\n",
      "100%|██████████| 8/8 [00:01<00:00,  4.68it/s]\n"
     ]
    },
    {
     "name": "stdout",
     "output_type": "stream",
     "text": [
      "495 495\n"
     ]
    },
    {
     "name": "stderr",
     "output_type": "stream",
     "text": [
      "100%|██████████| 8/8 [00:01<00:00,  4.43it/s]\n",
      "100%|██████████| 8/8 [00:01<00:00,  4.75it/s]\n"
     ]
    },
    {
     "name": "stdout",
     "output_type": "stream",
     "text": [
      "495 495\n"
     ]
    },
    {
     "name": "stderr",
     "output_type": "stream",
     "text": [
      "100%|██████████| 8/8 [00:01<00:00,  4.47it/s]\n",
      "100%|██████████| 8/8 [00:01<00:00,  4.77it/s]\n"
     ]
    },
    {
     "name": "stdout",
     "output_type": "stream",
     "text": [
      "500 500\n"
     ]
    },
    {
     "name": "stderr",
     "output_type": "stream",
     "text": [
      "100%|██████████| 8/8 [00:01<00:00,  4.41it/s]\n",
      "100%|██████████| 8/8 [00:01<00:00,  4.69it/s]\n"
     ]
    },
    {
     "name": "stdout",
     "output_type": "stream",
     "text": [
      "500 500\n"
     ]
    },
    {
     "name": "stderr",
     "output_type": "stream",
     "text": [
      "100%|██████████| 8/8 [00:01<00:00,  4.42it/s]\n",
      "100%|██████████| 8/8 [00:01<00:00,  4.69it/s]\n"
     ]
    },
    {
     "name": "stdout",
     "output_type": "stream",
     "text": [
      "500 500\n"
     ]
    },
    {
     "name": "stderr",
     "output_type": "stream",
     "text": [
      "100%|██████████| 8/8 [00:01<00:00,  4.40it/s]\n",
      "100%|██████████| 8/8 [00:01<00:00,  4.68it/s]\n"
     ]
    },
    {
     "name": "stdout",
     "output_type": "stream",
     "text": [
      "504 504\n"
     ]
    },
    {
     "name": "stderr",
     "output_type": "stream",
     "text": [
      "100%|██████████| 8/8 [00:01<00:00,  4.20it/s]\n",
      "100%|██████████| 8/8 [00:01<00:00,  4.61it/s]\n"
     ]
    },
    {
     "name": "stdout",
     "output_type": "stream",
     "text": [
      "504 504\n"
     ]
    },
    {
     "name": "stderr",
     "output_type": "stream",
     "text": [
      "100%|██████████| 8/8 [00:01<00:00,  4.37it/s]\n",
      "100%|██████████| 8/8 [00:01<00:00,  4.65it/s]\n"
     ]
    },
    {
     "name": "stdout",
     "output_type": "stream",
     "text": [
      "504 504\n"
     ]
    },
    {
     "name": "stderr",
     "output_type": "stream",
     "text": [
      "100%|██████████| 8/8 [00:01<00:00,  4.32it/s]\n",
      "100%|██████████| 8/8 [00:01<00:00,  4.60it/s]\n"
     ]
    },
    {
     "name": "stdout",
     "output_type": "stream",
     "text": [
      "506 506\n"
     ]
    },
    {
     "name": "stderr",
     "output_type": "stream",
     "text": [
      "100%|██████████| 8/8 [00:01<00:00,  4.31it/s]\n",
      "100%|██████████| 8/8 [00:01<00:00,  4.57it/s]\n"
     ]
    },
    {
     "name": "stdout",
     "output_type": "stream",
     "text": [
      "506 506\n"
     ]
    },
    {
     "name": "stderr",
     "output_type": "stream",
     "text": [
      "100%|██████████| 8/8 [00:01<00:00,  4.28it/s]\n",
      "100%|██████████| 8/8 [00:01<00:00,  4.60it/s]\n"
     ]
    },
    {
     "name": "stdout",
     "output_type": "stream",
     "text": [
      "506 506\n"
     ]
    },
    {
     "name": "stderr",
     "output_type": "stream",
     "text": [
      "100%|██████████| 8/8 [00:01<00:00,  4.26it/s]\n",
      "100%|██████████| 8/8 [00:01<00:00,  4.58it/s]\n"
     ]
    },
    {
     "name": "stdout",
     "output_type": "stream",
     "text": [
      "504 504\n"
     ]
    },
    {
     "name": "stderr",
     "output_type": "stream",
     "text": [
      "100%|██████████| 8/8 [00:01<00:00,  4.27it/s]\n",
      "100%|██████████| 8/8 [00:01<00:00,  4.58it/s]\n"
     ]
    },
    {
     "name": "stdout",
     "output_type": "stream",
     "text": [
      "504 504\n"
     ]
    },
    {
     "name": "stderr",
     "output_type": "stream",
     "text": [
      "100%|██████████| 8/8 [00:01<00:00,  4.30it/s]\n",
      "100%|██████████| 8/8 [00:01<00:00,  4.62it/s]\n"
     ]
    },
    {
     "name": "stdout",
     "output_type": "stream",
     "text": [
      "504 504\n"
     ]
    },
    {
     "name": "stderr",
     "output_type": "stream",
     "text": [
      "100%|██████████| 8/8 [00:01<00:00,  4.29it/s]\n",
      "100%|██████████| 8/8 [00:01<00:00,  4.58it/s]\n"
     ]
    },
    {
     "name": "stdout",
     "output_type": "stream",
     "text": [
      "507 507\n"
     ]
    },
    {
     "name": "stderr",
     "output_type": "stream",
     "text": [
      "100%|██████████| 8/8 [00:01<00:00,  4.20it/s]\n",
      "100%|██████████| 8/8 [00:01<00:00,  4.49it/s]\n"
     ]
    },
    {
     "name": "stdout",
     "output_type": "stream",
     "text": [
      "507 507\n"
     ]
    },
    {
     "name": "stderr",
     "output_type": "stream",
     "text": [
      "100%|██████████| 8/8 [00:01<00:00,  4.22it/s]\n",
      "100%|██████████| 8/8 [00:01<00:00,  4.54it/s]\n"
     ]
    },
    {
     "name": "stdout",
     "output_type": "stream",
     "text": [
      "507 507\n"
     ]
    },
    {
     "name": "stderr",
     "output_type": "stream",
     "text": [
      "100%|██████████| 8/8 [00:01<00:00,  4.24it/s]\n",
      "100%|██████████| 8/8 [00:01<00:00,  4.56it/s]\n"
     ]
    },
    {
     "name": "stdout",
     "output_type": "stream",
     "text": [
      "501 501\n"
     ]
    },
    {
     "name": "stderr",
     "output_type": "stream",
     "text": [
      "100%|██████████| 8/8 [00:01<00:00,  4.27it/s]\n",
      "100%|██████████| 8/8 [00:01<00:00,  4.57it/s]\n"
     ]
    },
    {
     "name": "stdout",
     "output_type": "stream",
     "text": [
      "501 501\n"
     ]
    },
    {
     "name": "stderr",
     "output_type": "stream",
     "text": [
      "100%|██████████| 8/8 [00:01<00:00,  4.28it/s]\n",
      "100%|██████████| 8/8 [00:01<00:00,  4.57it/s]\n"
     ]
    },
    {
     "name": "stdout",
     "output_type": "stream",
     "text": [
      "501 501\n"
     ]
    },
    {
     "name": "stderr",
     "output_type": "stream",
     "text": [
      "100%|██████████| 8/8 [00:01<00:00,  4.29it/s]\n",
      "100%|██████████| 8/8 [00:01<00:00,  4.59it/s]\n"
     ]
    },
    {
     "name": "stdout",
     "output_type": "stream",
     "text": [
      "503 503\n"
     ]
    },
    {
     "name": "stderr",
     "output_type": "stream",
     "text": [
      "100%|██████████| 8/8 [00:01<00:00,  4.29it/s]\n",
      "100%|██████████| 8/8 [00:01<00:00,  4.52it/s]\n"
     ]
    },
    {
     "name": "stdout",
     "output_type": "stream",
     "text": [
      "503 503\n"
     ]
    },
    {
     "name": "stderr",
     "output_type": "stream",
     "text": [
      "100%|██████████| 8/8 [00:01<00:00,  4.23it/s]\n",
      "100%|██████████| 8/8 [00:01<00:00,  4.56it/s]\n"
     ]
    },
    {
     "name": "stdout",
     "output_type": "stream",
     "text": [
      "503 503\n"
     ]
    },
    {
     "name": "stderr",
     "output_type": "stream",
     "text": [
      "100%|██████████| 8/8 [00:01<00:00,  4.28it/s]\n",
      "100%|██████████| 8/8 [00:01<00:00,  4.54it/s]\n"
     ]
    },
    {
     "name": "stdout",
     "output_type": "stream",
     "text": [
      "501 501\n"
     ]
    },
    {
     "name": "stderr",
     "output_type": "stream",
     "text": [
      "100%|██████████| 8/8 [00:01<00:00,  4.28it/s]\n",
      "100%|██████████| 8/8 [00:01<00:00,  4.56it/s]\n"
     ]
    },
    {
     "name": "stdout",
     "output_type": "stream",
     "text": [
      "501 501\n"
     ]
    },
    {
     "name": "stderr",
     "output_type": "stream",
     "text": [
      "100%|██████████| 8/8 [00:01<00:00,  4.28it/s]\n",
      "100%|██████████| 8/8 [00:01<00:00,  4.58it/s]\n"
     ]
    },
    {
     "name": "stdout",
     "output_type": "stream",
     "text": [
      "501 501\n"
     ]
    },
    {
     "name": "stderr",
     "output_type": "stream",
     "text": [
      "100%|██████████| 8/8 [00:01<00:00,  4.26it/s]\n",
      "100%|██████████| 8/8 [00:01<00:00,  4.57it/s]\n"
     ]
    },
    {
     "name": "stdout",
     "output_type": "stream",
     "text": [
      "502 502\n"
     ]
    },
    {
     "name": "stderr",
     "output_type": "stream",
     "text": [
      "100%|██████████| 8/8 [00:01<00:00,  4.25it/s]\n",
      "100%|██████████| 8/8 [00:01<00:00,  4.57it/s]\n"
     ]
    },
    {
     "name": "stdout",
     "output_type": "stream",
     "text": [
      "502 502\n"
     ]
    },
    {
     "name": "stderr",
     "output_type": "stream",
     "text": [
      "100%|██████████| 8/8 [00:01<00:00,  4.25it/s]\n",
      "100%|██████████| 8/8 [00:01<00:00,  4.58it/s]\n"
     ]
    },
    {
     "name": "stdout",
     "output_type": "stream",
     "text": [
      "502 502\n"
     ]
    },
    {
     "name": "stderr",
     "output_type": "stream",
     "text": [
      "100%|██████████| 8/8 [00:01<00:00,  4.26it/s]\n",
      "100%|██████████| 8/8 [00:01<00:00,  4.54it/s]\n"
     ]
    },
    {
     "name": "stdout",
     "output_type": "stream",
     "text": [
      "498 498\n"
     ]
    },
    {
     "name": "stderr",
     "output_type": "stream",
     "text": [
      "100%|██████████| 8/8 [00:01<00:00,  4.29it/s]\n",
      "100%|██████████| 8/8 [00:01<00:00,  4.54it/s]\n"
     ]
    },
    {
     "name": "stdout",
     "output_type": "stream",
     "text": [
      "498 498\n"
     ]
    },
    {
     "name": "stderr",
     "output_type": "stream",
     "text": [
      "100%|██████████| 8/8 [00:01<00:00,  4.27it/s]\n",
      "100%|██████████| 8/8 [00:01<00:00,  4.56it/s]\n"
     ]
    },
    {
     "name": "stdout",
     "output_type": "stream",
     "text": [
      "498 498\n"
     ]
    },
    {
     "name": "stderr",
     "output_type": "stream",
     "text": [
      "100%|██████████| 8/8 [00:01<00:00,  4.29it/s]\n",
      "100%|██████████| 8/8 [00:01<00:00,  4.57it/s]\n"
     ]
    },
    {
     "data": {
      "text/html": [
       "<div>\n",
       "<style scoped>\n",
       "    .dataframe tbody tr th:only-of-type {\n",
       "        vertical-align: middle;\n",
       "    }\n",
       "\n",
       "    .dataframe tbody tr th {\n",
       "        vertical-align: top;\n",
       "    }\n",
       "\n",
       "    .dataframe thead th {\n",
       "        text-align: right;\n",
       "    }\n",
       "</style>\n",
       "<table border=\"1\" class=\"dataframe\">\n",
       "  <thead>\n",
       "    <tr style=\"text-align: right;\">\n",
       "      <th></th>\n",
       "      <th>sampling</th>\n",
       "      <th>beams</th>\n",
       "      <th>gammas</th>\n",
       "      <th>deltas</th>\n",
       "      <th>baseline_coherence</th>\n",
       "      <th>watermark_coherence</th>\n",
       "      <th>no_watermark_coherence</th>\n",
       "    </tr>\n",
       "  </thead>\n",
       "  <tbody>\n",
       "    <tr>\n",
       "      <th>0</th>\n",
       "      <td>False</td>\n",
       "      <td>1</td>\n",
       "      <td>0.5</td>\n",
       "      <td>0.1</td>\n",
       "      <td>0.614911</td>\n",
       "      <td>0.557207</td>\n",
       "      <td>0.565086</td>\n",
       "    </tr>\n",
       "    <tr>\n",
       "      <th>1</th>\n",
       "      <td>False</td>\n",
       "      <td>1</td>\n",
       "      <td>0.5</td>\n",
       "      <td>0.5</td>\n",
       "      <td>0.613323</td>\n",
       "      <td>0.572616</td>\n",
       "      <td>0.566163</td>\n",
       "    </tr>\n",
       "    <tr>\n",
       "      <th>2</th>\n",
       "      <td>False</td>\n",
       "      <td>1</td>\n",
       "      <td>0.5</td>\n",
       "      <td>1.0</td>\n",
       "      <td>0.613967</td>\n",
       "      <td>0.568145</td>\n",
       "      <td>0.561886</td>\n",
       "    </tr>\n",
       "    <tr>\n",
       "      <th>3</th>\n",
       "      <td>False</td>\n",
       "      <td>1</td>\n",
       "      <td>0.5</td>\n",
       "      <td>2.0</td>\n",
       "      <td>0.613299</td>\n",
       "      <td>0.564281</td>\n",
       "      <td>0.563407</td>\n",
       "    </tr>\n",
       "    <tr>\n",
       "      <th>4</th>\n",
       "      <td>False</td>\n",
       "      <td>1</td>\n",
       "      <td>0.5</td>\n",
       "      <td>5.0</td>\n",
       "      <td>0.616185</td>\n",
       "      <td>0.551181</td>\n",
       "      <td>0.566810</td>\n",
       "    </tr>\n",
       "    <tr>\n",
       "      <th>5</th>\n",
       "      <td>False</td>\n",
       "      <td>4</td>\n",
       "      <td>0.5</td>\n",
       "      <td>0.1</td>\n",
       "      <td>0.613063</td>\n",
       "      <td>0.592225</td>\n",
       "      <td>0.591852</td>\n",
       "    </tr>\n",
       "    <tr>\n",
       "      <th>6</th>\n",
       "      <td>False</td>\n",
       "      <td>4</td>\n",
       "      <td>0.5</td>\n",
       "      <td>0.5</td>\n",
       "      <td>0.610608</td>\n",
       "      <td>0.584787</td>\n",
       "      <td>0.587506</td>\n",
       "    </tr>\n",
       "    <tr>\n",
       "      <th>7</th>\n",
       "      <td>False</td>\n",
       "      <td>4</td>\n",
       "      <td>0.5</td>\n",
       "      <td>1.0</td>\n",
       "      <td>0.608079</td>\n",
       "      <td>0.581858</td>\n",
       "      <td>0.579531</td>\n",
       "    </tr>\n",
       "    <tr>\n",
       "      <th>8</th>\n",
       "      <td>False</td>\n",
       "      <td>4</td>\n",
       "      <td>0.5</td>\n",
       "      <td>2.0</td>\n",
       "      <td>0.611976</td>\n",
       "      <td>0.572840</td>\n",
       "      <td>0.586869</td>\n",
       "    </tr>\n",
       "    <tr>\n",
       "      <th>9</th>\n",
       "      <td>False</td>\n",
       "      <td>4</td>\n",
       "      <td>0.5</td>\n",
       "      <td>5.0</td>\n",
       "      <td>0.612457</td>\n",
       "      <td>0.542646</td>\n",
       "      <td>0.588146</td>\n",
       "    </tr>\n",
       "    <tr>\n",
       "      <th>10</th>\n",
       "      <td>False</td>\n",
       "      <td>8</td>\n",
       "      <td>0.5</td>\n",
       "      <td>0.1</td>\n",
       "      <td>0.605458</td>\n",
       "      <td>0.570576</td>\n",
       "      <td>0.562856</td>\n",
       "    </tr>\n",
       "    <tr>\n",
       "      <th>11</th>\n",
       "      <td>False</td>\n",
       "      <td>8</td>\n",
       "      <td>0.5</td>\n",
       "      <td>0.5</td>\n",
       "      <td>0.611551</td>\n",
       "      <td>0.568605</td>\n",
       "      <td>0.567262</td>\n",
       "    </tr>\n",
       "    <tr>\n",
       "      <th>12</th>\n",
       "      <td>False</td>\n",
       "      <td>8</td>\n",
       "      <td>0.5</td>\n",
       "      <td>1.0</td>\n",
       "      <td>0.610274</td>\n",
       "      <td>0.563093</td>\n",
       "      <td>0.566433</td>\n",
       "    </tr>\n",
       "    <tr>\n",
       "      <th>13</th>\n",
       "      <td>False</td>\n",
       "      <td>8</td>\n",
       "      <td>0.5</td>\n",
       "      <td>2.0</td>\n",
       "      <td>0.616798</td>\n",
       "      <td>0.556067</td>\n",
       "      <td>0.572001</td>\n",
       "    </tr>\n",
       "    <tr>\n",
       "      <th>14</th>\n",
       "      <td>False</td>\n",
       "      <td>8</td>\n",
       "      <td>0.5</td>\n",
       "      <td>5.0</td>\n",
       "      <td>0.615927</td>\n",
       "      <td>0.526028</td>\n",
       "      <td>0.571735</td>\n",
       "    </tr>\n",
       "  </tbody>\n",
       "</table>\n",
       "</div>"
      ],
      "text/plain": [
       "    sampling  beams  gammas  deltas  baseline_coherence  watermark_coherence  \\\n",
       "0      False      1     0.5     0.1            0.614911             0.557207   \n",
       "1      False      1     0.5     0.5            0.613323             0.572616   \n",
       "2      False      1     0.5     1.0            0.613967             0.568145   \n",
       "3      False      1     0.5     2.0            0.613299             0.564281   \n",
       "4      False      1     0.5     5.0            0.616185             0.551181   \n",
       "5      False      4     0.5     0.1            0.613063             0.592225   \n",
       "6      False      4     0.5     0.5            0.610608             0.584787   \n",
       "7      False      4     0.5     1.0            0.608079             0.581858   \n",
       "8      False      4     0.5     2.0            0.611976             0.572840   \n",
       "9      False      4     0.5     5.0            0.612457             0.542646   \n",
       "10     False      8     0.5     0.1            0.605458             0.570576   \n",
       "11     False      8     0.5     0.5            0.611551             0.568605   \n",
       "12     False      8     0.5     1.0            0.610274             0.563093   \n",
       "13     False      8     0.5     2.0            0.616798             0.556067   \n",
       "14     False      8     0.5     5.0            0.615927             0.526028   \n",
       "\n",
       "    no_watermark_coherence  \n",
       "0                 0.565086  \n",
       "1                 0.566163  \n",
       "2                 0.561886  \n",
       "3                 0.563407  \n",
       "4                 0.566810  \n",
       "5                 0.591852  \n",
       "6                 0.587506  \n",
       "7                 0.579531  \n",
       "8                 0.586869  \n",
       "9                 0.588146  \n",
       "10                0.562856  \n",
       "11                0.567262  \n",
       "12                0.566433  \n",
       "13                0.572001  \n",
       "14                0.571735  "
      ]
     },
     "execution_count": 29,
     "metadata": {},
     "output_type": "execute_result"
    }
   ],
   "source": [
    "# Greedy\n",
    "group_list =(\n",
    "    (False, 1, 0.1, 0.5),\n",
    "    (False, 1, 0.5, 0.5),\n",
    "    (False, 1, 1.0, 0.5),\n",
    "    (False, 1, 2.0, 0.5),\n",
    "    (False, 1, 5.0, 0.5),\n",
    "\n",
    "    (False, 4, 0.1, 0.5),\n",
    "    (False, 4, 0.5, 0.5),\n",
    "    (False, 4, 1.0, 0.5),\n",
    "    (False, 4, 2.0, 0.5),\n",
    "    (False, 4, 5.0, 0.5),\n",
    "\n",
    "    (False, 8, 0.1, 0.5),\n",
    "    (False, 8, 0.5, 0.5),\n",
    "    (False, 8, 1.0, 0.5),\n",
    "    (False, 8, 2.0, 0.5),\n",
    "    (False, 8, 5.0, 0.5),\n",
    ")\n",
    "\n",
    "sampling, beams, gammas, deltas = [], [], [], []\n",
    "baseline_coherence = []\n",
    "watermark_coherence = []\n",
    "no_watermark_coherence = []\n",
    "\n",
    "for idx, group in enumerate(group_list):\n",
    "    group_df = grouped_df.get_group(group)\n",
    "\n",
    "    sampling.append(group[0])\n",
    "    beams.append(group[1])\n",
    "    deltas.append(group[2])\n",
    "    gammas.append(group[3])\n",
    "    ## get coherence scores\n",
    "    prefix_text = group_df[\"truncated_input\"].values.tolist()\n",
    "\n",
    "    baseline_completion = group_df[\"baseline_completion\"].values.tolist()\n",
    "    w_bl_output = group_df[\"w_bl_output\"].values.tolist()\n",
    "    no_bl_output = group_df[\"no_bl_output\"].values.tolist()\n",
    "\n",
    "    baseline_coherence.append(get_coherence_score(prefix_text, baseline_completion))\n",
    "    watermark_coherence.append(get_coherence_score(prefix_text, w_bl_output))\n",
    "    no_watermark_coherence.append(get_coherence_score(prefix_text, no_bl_output))\n",
    "\n",
    "viz_df_greedy = pd.DataFrame()\n",
    "\n",
    "\n",
    "viz_df_greedy[\"sampling\"] = sampling\n",
    "viz_df_greedy[\"beams\"] = beams\n",
    "viz_df_greedy[\"gammas\"] = gammas\n",
    "viz_df_greedy[\"deltas\"] = deltas\n",
    "\n",
    "viz_df_greedy['baseline_coherence'] = baseline_coherence\n",
    "viz_df_greedy['watermark_coherence'] = watermark_coherence\n",
    "viz_df_greedy['no_watermark_coherence'] = no_watermark_coherence\n",
    "\n",
    "viz_df_greedy\n",
    "\n"
   ]
  },
  {
   "cell_type": "code",
   "execution_count": 33,
   "metadata": {},
   "outputs": [
    {
     "name": "stderr",
     "output_type": "stream",
     "text": [
      "03/31/2023 15:34:14 - INFO - matplotlib.texmanager -   No LaTeX-compatible font found for the serif fontfamily in rcParams. Using default.\n",
      "03/31/2023 15:34:14 - INFO - matplotlib.texmanager -   No LaTeX-compatible font found for the serif fontfamily in rcParams. Using default.\n",
      "03/31/2023 15:34:14 - INFO - matplotlib.texmanager -   No LaTeX-compatible font found for the serif fontfamily in rcParams. Using default.\n",
      "03/31/2023 15:34:14 - INFO - matplotlib.texmanager -   No LaTeX-compatible font found for the serif fontfamily in rcParams. Using default.\n",
      "03/31/2023 15:34:14 - INFO - matplotlib.texmanager -   No LaTeX-compatible font found for the serif fontfamily in rcParams. Using default.\n",
      "03/31/2023 15:34:14 - INFO - matplotlib.texmanager -   No LaTeX-compatible font found for the serif fontfamily in rcParams. Using default.\n",
      "03/31/2023 15:34:14 - INFO - matplotlib.texmanager -   No LaTeX-compatible font found for the serif fontfamily in rcParams. Using default.\n",
      "03/31/2023 15:34:14 - INFO - matplotlib.texmanager -   No LaTeX-compatible font found for the serif fontfamily in rcParams. Using default.\n",
      "03/31/2023 15:34:14 - INFO - matplotlib.texmanager -   No LaTeX-compatible font found for the serif fontfamily in rcParams. Using default.\n",
      "03/31/2023 15:34:14 - INFO - matplotlib.texmanager -   No LaTeX-compatible font found for the serif fontfamily in rcParams. Using default.\n",
      "03/31/2023 15:34:14 - INFO - matplotlib.texmanager -   No LaTeX-compatible font found for the serif fontfamily in rcParams. Using default.\n",
      "03/31/2023 15:34:14 - INFO - matplotlib.texmanager -   No LaTeX-compatible font found for the serif fontfamily in rcParams. Using default.\n",
      "03/31/2023 15:34:14 - INFO - matplotlib.texmanager -   No LaTeX-compatible font found for the serif fontfamily in rcParams. Using default.\n",
      "03/31/2023 15:34:14 - INFO - matplotlib.texmanager -   No LaTeX-compatible font found for the serif fontfamily in rcParams. Using default.\n",
      "03/31/2023 15:34:14 - INFO - matplotlib.texmanager -   No LaTeX-compatible font found for the serif fontfamily in rcParams. Using default.\n",
      "03/31/2023 15:34:14 - INFO - matplotlib.texmanager -   No LaTeX-compatible font found for the serif fontfamily in rcParams. Using default.\n",
      "03/31/2023 15:34:14 - INFO - matplotlib.texmanager -   No LaTeX-compatible font found for the serif fontfamily in rcParams. Using default.\n",
      "03/31/2023 15:34:14 - INFO - matplotlib.texmanager -   No LaTeX-compatible font found for the serif fontfamily in rcParams. Using default.\n",
      "03/31/2023 15:34:14 - INFO - matplotlib.texmanager -   No LaTeX-compatible font found for the serif fontfamily in rcParams. Using default.\n",
      "03/31/2023 15:34:14 - INFO - matplotlib.texmanager -   No LaTeX-compatible font found for the serif fontfamily in rcParams. Using default.\n",
      "03/31/2023 15:34:14 - INFO - matplotlib.texmanager -   No LaTeX-compatible font found for the serif fontfamily in rcParams. Using default.\n",
      "03/31/2023 15:34:14 - INFO - matplotlib.texmanager -   No LaTeX-compatible font found for the serif fontfamily in rcParams. Using default.\n",
      "03/31/2023 15:34:14 - INFO - matplotlib.texmanager -   No LaTeX-compatible font found for the serif fontfamily in rcParams. Using default.\n",
      "03/31/2023 15:34:14 - INFO - matplotlib.texmanager -   No LaTeX-compatible font found for the serif fontfamily in rcParams. Using default.\n",
      "03/31/2023 15:34:14 - INFO - matplotlib.texmanager -   No LaTeX-compatible font found for the serif fontfamily in rcParams. Using default.\n",
      "03/31/2023 15:34:14 - INFO - matplotlib.texmanager -   No LaTeX-compatible font found for the serif fontfamily in rcParams. Using default.\n",
      "03/31/2023 15:34:14 - INFO - matplotlib.texmanager -   No LaTeX-compatible font found for the serif fontfamily in rcParams. Using default.\n",
      "03/31/2023 15:34:14 - INFO - matplotlib.texmanager -   No LaTeX-compatible font found for the serif fontfamily in rcParams. Using default.\n",
      "03/31/2023 15:34:14 - INFO - matplotlib.texmanager -   No LaTeX-compatible font found for the serif fontfamily in rcParams. Using default.\n",
      "03/31/2023 15:34:14 - INFO - matplotlib.texmanager -   No LaTeX-compatible font found for the serif fontfamily in rcParams. Using default.\n",
      "03/31/2023 15:34:14 - INFO - matplotlib.texmanager -   No LaTeX-compatible font found for the serif fontfamily in rcParams. Using default.\n",
      "03/31/2023 15:34:14 - INFO - matplotlib.texmanager -   No LaTeX-compatible font found for the serif fontfamily in rcParams. Using default.\n",
      "03/31/2023 15:34:14 - INFO - matplotlib.texmanager -   No LaTeX-compatible font found for the serif fontfamily in rcParams. Using default.\n",
      "03/31/2023 15:34:14 - INFO - matplotlib.texmanager -   No LaTeX-compatible font found for the serif fontfamily in rcParams. Using default.\n",
      "03/31/2023 15:34:14 - INFO - matplotlib.texmanager -   No LaTeX-compatible font found for the serif fontfamily in rcParams. Using default.\n",
      "03/31/2023 15:34:14 - INFO - matplotlib.texmanager -   No LaTeX-compatible font found for the serif fontfamily in rcParams. Using default.\n",
      "03/31/2023 15:34:14 - INFO - matplotlib.texmanager -   No LaTeX-compatible font found for the serif fontfamily in rcParams. Using default.\n",
      "03/31/2023 15:34:14 - INFO - matplotlib.texmanager -   No LaTeX-compatible font found for the serif fontfamily in rcParams. Using default.\n",
      "03/31/2023 15:34:14 - INFO - matplotlib.texmanager -   No LaTeX-compatible font found for the serif fontfamily in rcParams. Using default.\n",
      "03/31/2023 15:34:14 - INFO - matplotlib.texmanager -   No LaTeX-compatible font found for the serif fontfamily in rcParams. Using default.\n",
      "03/31/2023 15:34:14 - INFO - matplotlib.texmanager -   No LaTeX-compatible font found for the serif fontfamily in rcParams. Using default.\n",
      "03/31/2023 15:34:14 - INFO - matplotlib.texmanager -   No LaTeX-compatible font found for the serif fontfamily in rcParams. Using default.\n",
      "03/31/2023 15:34:14 - INFO - matplotlib.texmanager -   No LaTeX-compatible font found for the serif fontfamily in rcParams. Using default.\n",
      "03/31/2023 15:34:14 - INFO - matplotlib.texmanager -   No LaTeX-compatible font found for the serif fontfamily in rcParams. Using default.\n",
      "03/31/2023 15:34:14 - INFO - matplotlib.texmanager -   No LaTeX-compatible font found for the serif fontfamily in rcParams. Using default.\n",
      "03/31/2023 15:34:14 - INFO - matplotlib.texmanager -   No LaTeX-compatible font found for the serif fontfamily in rcParams. Using default.\n",
      "03/31/2023 15:34:14 - INFO - matplotlib.texmanager -   No LaTeX-compatible font found for the serif fontfamily in rcParams. Using default.\n",
      "03/31/2023 15:34:14 - INFO - matplotlib.texmanager -   No LaTeX-compatible font found for the serif fontfamily in rcParams. Using default.\n",
      "03/31/2023 15:34:14 - INFO - matplotlib.texmanager -   No LaTeX-compatible font found for the serif fontfamily in rcParams. Using default.\n",
      "03/31/2023 15:34:14 - INFO - matplotlib.texmanager -   No LaTeX-compatible font found for the serif fontfamily in rcParams. Using default.\n",
      "03/31/2023 15:34:14 - INFO - matplotlib.texmanager -   No LaTeX-compatible font found for the serif fontfamily in rcParams. Using default.\n",
      "03/31/2023 15:34:14 - INFO - matplotlib.texmanager -   No LaTeX-compatible font found for the serif fontfamily in rcParams. Using default.\n",
      "03/31/2023 15:34:14 - INFO - matplotlib.texmanager -   No LaTeX-compatible font found for the serif fontfamily in rcParams. Using default.\n",
      "03/31/2023 15:34:14 - INFO - matplotlib.texmanager -   No LaTeX-compatible font found for the serif fontfamily in rcParams. Using default.\n",
      "03/31/2023 15:34:14 - INFO - matplotlib.texmanager -   No LaTeX-compatible font found for the serif fontfamily in rcParams. Using default.\n",
      "03/31/2023 15:34:14 - INFO - matplotlib.texmanager -   No LaTeX-compatible font found for the serif fontfamily in rcParams. Using default.\n",
      "03/31/2023 15:34:14 - INFO - matplotlib.texmanager -   No LaTeX-compatible font found for the serif fontfamily in rcParams. Using default.\n",
      "03/31/2023 15:34:14 - INFO - matplotlib.texmanager -   No LaTeX-compatible font found for the serif fontfamily in rcParams. Using default.\n",
      "03/31/2023 15:34:14 - INFO - matplotlib.texmanager -   No LaTeX-compatible font found for the serif fontfamily in rcParams. Using default.\n",
      "03/31/2023 15:34:14 - INFO - matplotlib.texmanager -   No LaTeX-compatible font found for the serif fontfamily in rcParams. Using default.\n",
      "03/31/2023 15:34:14 - INFO - matplotlib.texmanager -   No LaTeX-compatible font found for the serif fontfamily in rcParams. Using default.\n",
      "03/31/2023 15:34:14 - INFO - matplotlib.texmanager -   No LaTeX-compatible font found for the serif fontfamily in rcParams. Using default.\n",
      "03/31/2023 15:34:14 - INFO - matplotlib.texmanager -   No LaTeX-compatible font found for the serif fontfamily in rcParams. Using default.\n",
      "03/31/2023 15:34:14 - INFO - matplotlib.texmanager -   No LaTeX-compatible font found for the serif fontfamily in rcParams. Using default.\n",
      "03/31/2023 15:34:14 - INFO - matplotlib.texmanager -   No LaTeX-compatible font found for the serif fontfamily in rcParams. Using default.\n",
      "03/31/2023 15:34:14 - INFO - matplotlib.texmanager -   No LaTeX-compatible font found for the serif fontfamily in rcParams. Using default.\n",
      "03/31/2023 15:34:14 - INFO - matplotlib.texmanager -   No LaTeX-compatible font found for the serif fontfamily in rcParams. Using default.\n",
      "03/31/2023 15:34:14 - INFO - matplotlib.texmanager -   No LaTeX-compatible font found for the serif fontfamily in rcParams. Using default.\n",
      "03/31/2023 15:34:14 - INFO - matplotlib.texmanager -   No LaTeX-compatible font found for the serif fontfamily in rcParams. Using default.\n",
      "03/31/2023 15:34:14 - INFO - matplotlib.texmanager -   No LaTeX-compatible font found for the serif fontfamily in rcParams. Using default.\n",
      "03/31/2023 15:34:14 - INFO - matplotlib.texmanager -   No LaTeX-compatible font found for the serif fontfamily in rcParams. Using default.\n",
      "03/31/2023 15:34:14 - INFO - matplotlib.texmanager -   No LaTeX-compatible font found for the serif fontfamily in rcParams. Using default.\n",
      "03/31/2023 15:34:14 - INFO - matplotlib.texmanager -   No LaTeX-compatible font found for the serif fontfamily in rcParams. Using default.\n",
      "03/31/2023 15:34:14 - INFO - matplotlib.texmanager -   No LaTeX-compatible font found for the serif fontfamily in rcParams. Using default.\n",
      "03/31/2023 15:34:14 - INFO - matplotlib.texmanager -   No LaTeX-compatible font found for the serif fontfamily in rcParams. Using default.\n",
      "03/31/2023 15:34:14 - INFO - matplotlib.texmanager -   No LaTeX-compatible font found for the serif fontfamily in rcParams. Using default.\n",
      "03/31/2023 15:34:14 - INFO - matplotlib.texmanager -   No LaTeX-compatible font found for the serif fontfamily in rcParams. Using default.\n",
      "03/31/2023 15:34:14 - INFO - matplotlib.texmanager -   No LaTeX-compatible font found for the serif fontfamily in rcParams. Using default.\n",
      "03/31/2023 15:34:14 - INFO - matplotlib.texmanager -   No LaTeX-compatible font found for the serif fontfamily in rcParams. Using default.\n",
      "03/31/2023 15:34:14 - INFO - matplotlib.texmanager -   No LaTeX-compatible font found for the serif fontfamily in rcParams. Using default.\n",
      "03/31/2023 15:34:14 - INFO - matplotlib.texmanager -   No LaTeX-compatible font found for the serif fontfamily in rcParams. Using default.\n",
      "03/31/2023 15:34:14 - INFO - matplotlib.texmanager -   No LaTeX-compatible font found for the serif fontfamily in rcParams. Using default.\n",
      "03/31/2023 15:34:14 - INFO - matplotlib.texmanager -   No LaTeX-compatible font found for the serif fontfamily in rcParams. Using default.\n",
      "03/31/2023 15:34:14 - INFO - matplotlib.texmanager -   No LaTeX-compatible font found for the serif fontfamily in rcParams. Using default.\n",
      "03/31/2023 15:34:14 - INFO - matplotlib.texmanager -   No LaTeX-compatible font found for the serif fontfamily in rcParams. Using default.\n",
      "03/31/2023 15:34:14 - INFO - matplotlib.texmanager -   No LaTeX-compatible font found for the serif fontfamily in rcParams. Using default.\n",
      "03/31/2023 15:34:14 - INFO - matplotlib.texmanager -   No LaTeX-compatible font found for the serif fontfamily in rcParams. Using default.\n",
      "03/31/2023 15:34:14 - INFO - matplotlib.texmanager -   No LaTeX-compatible font found for the serif fontfamily in rcParams. Using default.\n",
      "03/31/2023 15:34:14 - INFO - matplotlib.texmanager -   No LaTeX-compatible font found for the serif fontfamily in rcParams. Using default.\n",
      "03/31/2023 15:34:14 - INFO - matplotlib.texmanager -   No LaTeX-compatible font found for the serif fontfamily in rcParams. Using default.\n",
      "03/31/2023 15:34:14 - INFO - matplotlib.texmanager -   No LaTeX-compatible font found for the serif fontfamily in rcParams. Using default.\n",
      "03/31/2023 15:34:14 - INFO - matplotlib.texmanager -   No LaTeX-compatible font found for the serif fontfamily in rcParams. Using default.\n",
      "03/31/2023 15:34:14 - INFO - matplotlib.texmanager -   No LaTeX-compatible font found for the serif fontfamily in rcParams. Using default.\n",
      "03/31/2023 15:34:14 - INFO - matplotlib.texmanager -   No LaTeX-compatible font found for the serif fontfamily in rcParams. Using default.\n",
      "03/31/2023 15:34:14 - INFO - matplotlib.texmanager -   No LaTeX-compatible font found for the serif fontfamily in rcParams. Using default.\n",
      "03/31/2023 15:34:14 - INFO - matplotlib.texmanager -   No LaTeX-compatible font found for the serif fontfamily in rcParams. Using default.\n",
      "03/31/2023 15:34:14 - INFO - matplotlib.texmanager -   No LaTeX-compatible font found for the serif fontfamily in rcParams. Using default.\n",
      "03/31/2023 15:34:14 - INFO - matplotlib.texmanager -   No LaTeX-compatible font found for the serif fontfamily in rcParams. Using default.\n",
      "03/31/2023 15:34:14 - INFO - matplotlib.texmanager -   No LaTeX-compatible font found for the serif fontfamily in rcParams. Using default.\n",
      "03/31/2023 15:34:14 - INFO - matplotlib.texmanager -   No LaTeX-compatible font found for the serif fontfamily in rcParams. Using default.\n",
      "03/31/2023 15:34:14 - INFO - matplotlib.texmanager -   No LaTeX-compatible font found for the serif fontfamily in rcParams. Using default.\n",
      "03/31/2023 15:34:14 - INFO - matplotlib.texmanager -   No LaTeX-compatible font found for the serif fontfamily in rcParams. Using default.\n",
      "03/31/2023 15:34:14 - INFO - matplotlib.texmanager -   No LaTeX-compatible font found for the serif fontfamily in rcParams. Using default.\n",
      "03/31/2023 15:34:14 - INFO - matplotlib.texmanager -   No LaTeX-compatible font found for the serif fontfamily in rcParams. Using default.\n",
      "03/31/2023 15:34:14 - INFO - matplotlib.texmanager -   No LaTeX-compatible font found for the serif fontfamily in rcParams. Using default.\n",
      "03/31/2023 15:34:14 - INFO - matplotlib.texmanager -   No LaTeX-compatible font found for the serif fontfamily in rcParams. Using default.\n",
      "03/31/2023 15:34:14 - INFO - matplotlib.texmanager -   No LaTeX-compatible font found for the serif fontfamily in rcParams. Using default.\n",
      "03/31/2023 15:34:14 - INFO - matplotlib.texmanager -   No LaTeX-compatible font found for the serif fontfamily in rcParams. Using default.\n",
      "03/31/2023 15:34:14 - INFO - matplotlib.texmanager -   No LaTeX-compatible font found for the serif fontfamily in rcParams. Using default.\n",
      "03/31/2023 15:34:14 - INFO - matplotlib.texmanager -   No LaTeX-compatible font found for the serif fontfamily in rcParams. Using default.\n",
      "03/31/2023 15:34:14 - INFO - matplotlib.texmanager -   No LaTeX-compatible font found for the serif fontfamily in rcParams. Using default.\n",
      "03/31/2023 15:34:14 - INFO - matplotlib.texmanager -   No LaTeX-compatible font found for the serif fontfamily in rcParams. Using default.\n",
      "03/31/2023 15:34:14 - INFO - matplotlib.texmanager -   No LaTeX-compatible font found for the serif fontfamily in rcParams. Using default.\n",
      "03/31/2023 15:34:14 - INFO - matplotlib.texmanager -   No LaTeX-compatible font found for the serif fontfamily in rcParams. Using default.\n",
      "03/31/2023 15:34:14 - INFO - matplotlib.texmanager -   No LaTeX-compatible font found for the serif fontfamily in rcParams. Using default.\n",
      "03/31/2023 15:34:14 - INFO - matplotlib.texmanager -   No LaTeX-compatible font found for the serif fontfamily in rcParams. Using default.\n",
      "03/31/2023 15:34:14 - INFO - matplotlib.texmanager -   No LaTeX-compatible font found for the serif fontfamily in rcParams. Using default.\n",
      "03/31/2023 15:34:14 - INFO - matplotlib.texmanager -   No LaTeX-compatible font found for the serif fontfamily in rcParams. Using default.\n",
      "03/31/2023 15:34:14 - INFO - matplotlib.texmanager -   No LaTeX-compatible font found for the serif fontfamily in rcParams. Using default.\n",
      "03/31/2023 15:34:14 - INFO - matplotlib.texmanager -   No LaTeX-compatible font found for the serif fontfamily in rcParams. Using default.\n",
      "03/31/2023 15:34:14 - INFO - matplotlib.texmanager -   No LaTeX-compatible font found for the serif fontfamily in rcParams. Using default.\n",
      "03/31/2023 15:34:14 - INFO - matplotlib.texmanager -   No LaTeX-compatible font found for the serif fontfamily in rcParams. Using default.\n",
      "03/31/2023 15:34:14 - INFO - matplotlib.texmanager -   No LaTeX-compatible font found for the serif fontfamily in rcParams. Using default.\n",
      "03/31/2023 15:34:14 - INFO - matplotlib.texmanager -   No LaTeX-compatible font found for the serif fontfamily in rcParams. Using default.\n",
      "03/31/2023 15:34:14 - INFO - matplotlib.texmanager -   No LaTeX-compatible font found for the serif fontfamily in rcParams. Using default.\n",
      "03/31/2023 15:34:14 - INFO - matplotlib.texmanager -   No LaTeX-compatible font found for the serif fontfamily in rcParams. Using default.\n",
      "03/31/2023 15:34:14 - INFO - matplotlib.texmanager -   No LaTeX-compatible font found for the serif fontfamily in rcParams. Using default.\n",
      "03/31/2023 15:34:14 - INFO - matplotlib.texmanager -   No LaTeX-compatible font found for the serif fontfamily in rcParams. Using default.\n",
      "03/31/2023 15:34:14 - INFO - matplotlib.texmanager -   No LaTeX-compatible font found for the serif fontfamily in rcParams. Using default.\n",
      "03/31/2023 15:34:14 - INFO - matplotlib.texmanager -   No LaTeX-compatible font found for the serif fontfamily in rcParams. Using default.\n",
      "03/31/2023 15:34:14 - INFO - matplotlib.texmanager -   No LaTeX-compatible font found for the serif fontfamily in rcParams. Using default.\n",
      "03/31/2023 15:34:14 - INFO - matplotlib.texmanager -   No LaTeX-compatible font found for the serif fontfamily in rcParams. Using default.\n",
      "03/31/2023 15:34:14 - INFO - matplotlib.texmanager -   No LaTeX-compatible font found for the serif fontfamily in rcParams. Using default.\n",
      "03/31/2023 15:34:14 - INFO - matplotlib.texmanager -   No LaTeX-compatible font found for the serif fontfamily in rcParams. Using default.\n",
      "03/31/2023 15:34:14 - INFO - matplotlib.texmanager -   No LaTeX-compatible font found for the serif fontfamily in rcParams. Using default.\n",
      "03/31/2023 15:34:14 - INFO - matplotlib.texmanager -   No LaTeX-compatible font found for the serif fontfamily in rcParams. Using default.\n",
      "03/31/2023 15:34:14 - INFO - matplotlib.texmanager -   No LaTeX-compatible font found for the serif fontfamily in rcParams. Using default.\n",
      "03/31/2023 15:34:14 - INFO - matplotlib.texmanager -   No LaTeX-compatible font found for the serif fontfamily in rcParams. Using default.\n",
      "03/31/2023 15:34:14 - INFO - matplotlib.texmanager -   No LaTeX-compatible font found for the serif fontfamily in rcParams. Using default.\n",
      "03/31/2023 15:34:14 - INFO - matplotlib.texmanager -   No LaTeX-compatible font found for the serif fontfamily in rcParams. Using default.\n",
      "03/31/2023 15:34:14 - INFO - matplotlib.texmanager -   No LaTeX-compatible font found for the serif fontfamily in rcParams. Using default.\n",
      "03/31/2023 15:34:14 - INFO - matplotlib.texmanager -   No LaTeX-compatible font found for the serif fontfamily in rcParams. Using default.\n",
      "03/31/2023 15:34:14 - INFO - matplotlib.texmanager -   No LaTeX-compatible font found for the serif fontfamily in rcParams. Using default.\n",
      "03/31/2023 15:34:14 - INFO - matplotlib.texmanager -   No LaTeX-compatible font found for the serif fontfamily in rcParams. Using default.\n",
      "03/31/2023 15:34:14 - INFO - matplotlib.texmanager -   No LaTeX-compatible font found for the serif fontfamily in rcParams. Using default.\n",
      "03/31/2023 15:34:14 - INFO - matplotlib.texmanager -   No LaTeX-compatible font found for the serif fontfamily in rcParams. Using default.\n",
      "03/31/2023 15:34:14 - INFO - matplotlib.texmanager -   No LaTeX-compatible font found for the serif fontfamily in rcParams. Using default.\n",
      "03/31/2023 15:34:14 - INFO - matplotlib.texmanager -   No LaTeX-compatible font found for the serif fontfamily in rcParams. Using default.\n",
      "03/31/2023 15:34:14 - INFO - matplotlib.texmanager -   No LaTeX-compatible font found for the serif fontfamily in rcParams. Using default.\n",
      "03/31/2023 15:34:14 - INFO - matplotlib.texmanager -   No LaTeX-compatible font found for the serif fontfamily in rcParams. Using default.\n",
      "03/31/2023 15:34:14 - INFO - matplotlib.texmanager -   No LaTeX-compatible font found for the serif fontfamily in rcParams. Using default.\n",
      "03/31/2023 15:34:14 - INFO - matplotlib.texmanager -   No LaTeX-compatible font found for the serif fontfamily in rcParams. Using default.\n",
      "03/31/2023 15:34:14 - INFO - matplotlib.texmanager -   No LaTeX-compatible font found for the serif fontfamily in rcParams. Using default.\n",
      "03/31/2023 15:34:14 - INFO - matplotlib.texmanager -   No LaTeX-compatible font found for the serif fontfamily in rcParams. Using default.\n",
      "03/31/2023 15:34:14 - INFO - matplotlib.texmanager -   No LaTeX-compatible font found for the serif fontfamily in rcParams. Using default.\n",
      "03/31/2023 15:34:14 - INFO - matplotlib.texmanager -   No LaTeX-compatible font found for the serif fontfamily in rcParams. Using default.\n",
      "03/31/2023 15:34:14 - INFO - matplotlib.texmanager -   No LaTeX-compatible font found for the serif fontfamily in rcParams. Using default.\n",
      "03/31/2023 15:34:14 - INFO - matplotlib.texmanager -   No LaTeX-compatible font found for the serif fontfamily in rcParams. Using default.\n",
      "03/31/2023 15:34:14 - INFO - matplotlib.texmanager -   No LaTeX-compatible font found for the serif fontfamily in rcParams. Using default.\n",
      "03/31/2023 15:34:14 - INFO - matplotlib.texmanager -   No LaTeX-compatible font found for the serif fontfamily in rcParams. Using default.\n",
      "03/31/2023 15:34:14 - INFO - matplotlib.texmanager -   No LaTeX-compatible font found for the serif fontfamily in rcParams. Using default.\n",
      "03/31/2023 15:34:14 - INFO - matplotlib.texmanager -   No LaTeX-compatible font found for the serif fontfamily in rcParams. Using default.\n",
      "03/31/2023 15:34:14 - INFO - matplotlib.texmanager -   No LaTeX-compatible font found for the serif fontfamily in rcParams. Using default.\n",
      "03/31/2023 15:34:14 - INFO - matplotlib.texmanager -   No LaTeX-compatible font found for the serif fontfamily in rcParams. Using default.\n",
      "03/31/2023 15:34:14 - INFO - matplotlib.texmanager -   No LaTeX-compatible font found for the serif fontfamily in rcParams. Using default.\n",
      "03/31/2023 15:34:14 - INFO - matplotlib.texmanager -   No LaTeX-compatible font found for the serif fontfamily in rcParams. Using default.\n",
      "03/31/2023 15:34:14 - INFO - matplotlib.texmanager -   No LaTeX-compatible font found for the serif fontfamily in rcParams. Using default.\n",
      "03/31/2023 15:34:14 - INFO - matplotlib.texmanager -   No LaTeX-compatible font found for the serif fontfamily in rcParams. Using default.\n",
      "03/31/2023 15:34:14 - INFO - matplotlib.texmanager -   No LaTeX-compatible font found for the serif fontfamily in rcParams. Using default.\n",
      "03/31/2023 15:34:14 - INFO - matplotlib.texmanager -   No LaTeX-compatible font found for the serif fontfamily in rcParams. Using default.\n",
      "03/31/2023 15:34:14 - INFO - matplotlib.texmanager -   No LaTeX-compatible font found for the serif fontfamily in rcParams. Using default.\n",
      "03/31/2023 15:34:14 - INFO - matplotlib.texmanager -   No LaTeX-compatible font found for the serif fontfamily in rcParams. Using default.\n",
      "03/31/2023 15:34:14 - INFO - matplotlib.texmanager -   No LaTeX-compatible font found for the serif fontfamily in rcParams. Using default.\n",
      "03/31/2023 15:34:14 - INFO - matplotlib.texmanager -   No LaTeX-compatible font found for the serif fontfamily in rcParams. Using default.\n",
      "03/31/2023 15:34:14 - INFO - matplotlib.texmanager -   No LaTeX-compatible font found for the serif fontfamily in rcParams. Using default.\n",
      "03/31/2023 15:34:14 - INFO - matplotlib.texmanager -   No LaTeX-compatible font found for the serif fontfamily in rcParams. Using default.\n",
      "03/31/2023 15:34:14 - INFO - matplotlib.texmanager -   No LaTeX-compatible font found for the serif fontfamily in rcParams. Using default.\n",
      "03/31/2023 15:34:14 - INFO - matplotlib.texmanager -   No LaTeX-compatible font found for the serif fontfamily in rcParams. Using default.\n",
      "03/31/2023 15:34:14 - INFO - matplotlib.texmanager -   No LaTeX-compatible font found for the serif fontfamily in rcParams. Using default.\n",
      "03/31/2023 15:34:14 - INFO - matplotlib.texmanager -   No LaTeX-compatible font found for the serif fontfamily in rcParams. Using default.\n",
      "03/31/2023 15:34:14 - INFO - matplotlib.texmanager -   No LaTeX-compatible font found for the serif fontfamily in rcParams. Using default.\n",
      "03/31/2023 15:34:15 - INFO - matplotlib.texmanager -   No LaTeX-compatible font found for the serif fontfamily in rcParams. Using default.\n",
      "03/31/2023 15:34:15 - INFO - matplotlib.texmanager -   No LaTeX-compatible font found for the serif fontfamily in rcParams. Using default.\n",
      "03/31/2023 15:34:15 - INFO - matplotlib.texmanager -   No LaTeX-compatible font found for the serif fontfamily in rcParams. Using default.\n",
      "03/31/2023 15:34:15 - INFO - matplotlib.texmanager -   No LaTeX-compatible font found for the serif fontfamily in rcParams. Using default.\n",
      "03/31/2023 15:34:15 - INFO - matplotlib.texmanager -   No LaTeX-compatible font found for the serif fontfamily in rcParams. Using default.\n",
      "03/31/2023 15:34:15 - INFO - matplotlib.texmanager -   No LaTeX-compatible font found for the serif fontfamily in rcParams. Using default.\n",
      "03/31/2023 15:34:15 - INFO - matplotlib.texmanager -   No LaTeX-compatible font found for the serif fontfamily in rcParams. Using default.\n",
      "03/31/2023 15:34:15 - INFO - matplotlib.texmanager -   No LaTeX-compatible font found for the serif fontfamily in rcParams. Using default.\n",
      "03/31/2023 15:34:15 - INFO - matplotlib.texmanager -   No LaTeX-compatible font found for the serif fontfamily in rcParams. Using default.\n",
      "03/31/2023 15:34:15 - INFO - matplotlib.texmanager -   No LaTeX-compatible font found for the serif fontfamily in rcParams. Using default.\n",
      "03/31/2023 15:34:15 - INFO - matplotlib.texmanager -   No LaTeX-compatible font found for the serif fontfamily in rcParams. Using default.\n",
      "03/31/2023 15:34:15 - INFO - matplotlib.texmanager -   No LaTeX-compatible font found for the serif fontfamily in rcParams. Using default.\n",
      "03/31/2023 15:34:15 - INFO - matplotlib.texmanager -   No LaTeX-compatible font found for the serif fontfamily in rcParams. Using default.\n",
      "03/31/2023 15:34:15 - INFO - matplotlib.texmanager -   No LaTeX-compatible font found for the serif fontfamily in rcParams. Using default.\n",
      "03/31/2023 15:34:15 - INFO - matplotlib.texmanager -   No LaTeX-compatible font found for the serif fontfamily in rcParams. Using default.\n",
      "03/31/2023 15:34:15 - INFO - matplotlib.texmanager -   No LaTeX-compatible font found for the serif fontfamily in rcParams. Using default.\n",
      "03/31/2023 15:34:15 - INFO - matplotlib.texmanager -   No LaTeX-compatible font found for the serif fontfamily in rcParams. Using default.\n",
      "03/31/2023 15:34:15 - INFO - matplotlib.texmanager -   No LaTeX-compatible font found for the serif fontfamily in rcParams. Using default.\n",
      "03/31/2023 15:34:15 - INFO - matplotlib.texmanager -   No LaTeX-compatible font found for the serif fontfamily in rcParams. Using default.\n",
      "03/31/2023 15:34:15 - INFO - matplotlib.texmanager -   No LaTeX-compatible font found for the serif fontfamily in rcParams. Using default.\n",
      "03/31/2023 15:34:15 - INFO - matplotlib.texmanager -   No LaTeX-compatible font found for the serif fontfamily in rcParams. Using default.\n",
      "03/31/2023 15:34:15 - INFO - matplotlib.texmanager -   No LaTeX-compatible font found for the serif fontfamily in rcParams. Using default.\n",
      "03/31/2023 15:34:15 - INFO - matplotlib.texmanager -   No LaTeX-compatible font found for the serif fontfamily in rcParams. Using default.\n",
      "03/31/2023 15:34:15 - INFO - matplotlib.texmanager -   No LaTeX-compatible font found for the serif fontfamily in rcParams. Using default.\n",
      "03/31/2023 15:34:15 - INFO - matplotlib.texmanager -   No LaTeX-compatible font found for the serif fontfamily in rcParams. Using default.\n",
      "03/31/2023 15:34:15 - INFO - matplotlib.texmanager -   No LaTeX-compatible font found for the serif fontfamily in rcParams. Using default.\n",
      "03/31/2023 15:34:15 - INFO - matplotlib.texmanager -   No LaTeX-compatible font found for the serif fontfamily in rcParams. Using default.\n",
      "03/31/2023 15:34:15 - INFO - matplotlib.texmanager -   No LaTeX-compatible font found for the serif fontfamily in rcParams. Using default.\n",
      "03/31/2023 15:34:15 - INFO - matplotlib.texmanager -   No LaTeX-compatible font found for the serif fontfamily in rcParams. Using default.\n",
      "03/31/2023 15:34:15 - INFO - matplotlib.texmanager -   No LaTeX-compatible font found for the serif fontfamily in rcParams. Using default.\n",
      "03/31/2023 15:34:15 - INFO - matplotlib.texmanager -   No LaTeX-compatible font found for the serif fontfamily in rcParams. Using default.\n",
      "03/31/2023 15:34:15 - INFO - matplotlib.texmanager -   No LaTeX-compatible font found for the serif fontfamily in rcParams. Using default.\n",
      "03/31/2023 15:34:15 - INFO - matplotlib.texmanager -   No LaTeX-compatible font found for the serif fontfamily in rcParams. Using default.\n",
      "03/31/2023 15:34:15 - INFO - matplotlib.texmanager -   No LaTeX-compatible font found for the serif fontfamily in rcParams. Using default.\n",
      "03/31/2023 15:34:15 - INFO - matplotlib.texmanager -   No LaTeX-compatible font found for the serif fontfamily in rcParams. Using default.\n",
      "03/31/2023 15:34:15 - INFO - matplotlib.texmanager -   No LaTeX-compatible font found for the serif fontfamily in rcParams. Using default.\n",
      "03/31/2023 15:34:15 - INFO - matplotlib.texmanager -   No LaTeX-compatible font found for the serif fontfamily in rcParams. Using default.\n",
      "03/31/2023 15:34:15 - INFO - matplotlib.texmanager -   No LaTeX-compatible font found for the serif fontfamily in rcParams. Using default.\n",
      "03/31/2023 15:34:15 - INFO - matplotlib.texmanager -   No LaTeX-compatible font found for the serif fontfamily in rcParams. Using default.\n",
      "03/31/2023 15:34:15 - INFO - matplotlib.texmanager -   No LaTeX-compatible font found for the serif fontfamily in rcParams. Using default.\n",
      "03/31/2023 15:34:15 - INFO - matplotlib.texmanager -   No LaTeX-compatible font found for the serif fontfamily in rcParams. Using default.\n",
      "03/31/2023 15:34:15 - INFO - matplotlib.texmanager -   No LaTeX-compatible font found for the serif fontfamily in rcParams. Using default.\n",
      "03/31/2023 15:34:15 - INFO - matplotlib.texmanager -   No LaTeX-compatible font found for the serif fontfamily in rcParams. Using default.\n",
      "03/31/2023 15:34:15 - INFO - matplotlib.texmanager -   No LaTeX-compatible font found for the serif fontfamily in rcParams. Using default.\n",
      "03/31/2023 15:34:15 - INFO - matplotlib.texmanager -   No LaTeX-compatible font found for the serif fontfamily in rcParams. Using default.\n",
      "03/31/2023 15:34:15 - INFO - matplotlib.texmanager -   No LaTeX-compatible font found for the serif fontfamily in rcParams. Using default.\n",
      "03/31/2023 15:34:15 - INFO - matplotlib.texmanager -   No LaTeX-compatible font found for the serif fontfamily in rcParams. Using default.\n",
      "03/31/2023 15:34:15 - INFO - matplotlib.texmanager -   No LaTeX-compatible font found for the serif fontfamily in rcParams. Using default.\n",
      "03/31/2023 15:34:15 - INFO - matplotlib.texmanager -   No LaTeX-compatible font found for the serif fontfamily in rcParams. Using default.\n",
      "03/31/2023 15:34:15 - INFO - matplotlib.texmanager -   No LaTeX-compatible font found for the serif fontfamily in rcParams. Using default.\n",
      "03/31/2023 15:34:15 - INFO - matplotlib.texmanager -   No LaTeX-compatible font found for the serif fontfamily in rcParams. Using default.\n",
      "03/31/2023 15:34:15 - INFO - matplotlib.texmanager -   No LaTeX-compatible font found for the serif fontfamily in rcParams. Using default.\n",
      "03/31/2023 15:34:15 - INFO - matplotlib.texmanager -   No LaTeX-compatible font found for the serif fontfamily in rcParams. Using default.\n",
      "03/31/2023 15:34:15 - INFO - matplotlib.texmanager -   No LaTeX-compatible font found for the serif fontfamily in rcParams. Using default.\n",
      "03/31/2023 15:34:15 - INFO - matplotlib.texmanager -   No LaTeX-compatible font found for the serif fontfamily in rcParams. Using default.\n",
      "03/31/2023 15:34:15 - INFO - matplotlib.texmanager -   No LaTeX-compatible font found for the serif fontfamily in rcParams. Using default.\n",
      "03/31/2023 15:34:15 - INFO - matplotlib.texmanager -   No LaTeX-compatible font found for the serif fontfamily in rcParams. Using default.\n",
      "03/31/2023 15:34:15 - INFO - matplotlib.texmanager -   No LaTeX-compatible font found for the serif fontfamily in rcParams. Using default.\n",
      "03/31/2023 15:34:15 - INFO - matplotlib.texmanager -   No LaTeX-compatible font found for the serif fontfamily in rcParams. Using default.\n",
      "03/31/2023 15:34:15 - INFO - matplotlib.texmanager -   No LaTeX-compatible font found for the serif fontfamily in rcParams. Using default.\n",
      "03/31/2023 15:34:15 - INFO - matplotlib.texmanager -   No LaTeX-compatible font found for the serif fontfamily in rcParams. Using default.\n",
      "03/31/2023 15:34:15 - INFO - matplotlib.texmanager -   No LaTeX-compatible font found for the serif fontfamily in rcParams. Using default.\n",
      "03/31/2023 15:34:15 - INFO - matplotlib.texmanager -   No LaTeX-compatible font found for the serif fontfamily in rcParams. Using default.\n",
      "03/31/2023 15:34:15 - INFO - matplotlib.texmanager -   No LaTeX-compatible font found for the serif fontfamily in rcParams. Using default.\n",
      "03/31/2023 15:34:15 - INFO - matplotlib.texmanager -   No LaTeX-compatible font found for the serif fontfamily in rcParams. Using default.\n",
      "03/31/2023 15:34:15 - INFO - matplotlib.texmanager -   No LaTeX-compatible font found for the serif fontfamily in rcParams. Using default.\n",
      "03/31/2023 15:34:15 - INFO - matplotlib.texmanager -   No LaTeX-compatible font found for the serif fontfamily in rcParams. Using default.\n",
      "03/31/2023 15:34:15 - INFO - matplotlib.texmanager -   No LaTeX-compatible font found for the serif fontfamily in rcParams. Using default.\n",
      "03/31/2023 15:34:15 - INFO - matplotlib.texmanager -   No LaTeX-compatible font found for the serif fontfamily in rcParams. Using default.\n",
      "03/31/2023 15:34:15 - INFO - matplotlib.texmanager -   No LaTeX-compatible font found for the serif fontfamily in rcParams. Using default.\n",
      "03/31/2023 15:34:15 - INFO - matplotlib.texmanager -   No LaTeX-compatible font found for the serif fontfamily in rcParams. Using default.\n",
      "03/31/2023 15:34:15 - INFO - matplotlib.texmanager -   No LaTeX-compatible font found for the serif fontfamily in rcParams. Using default.\n",
      "03/31/2023 15:34:15 - INFO - matplotlib.texmanager -   No LaTeX-compatible font found for the serif fontfamily in rcParams. Using default.\n",
      "03/31/2023 15:34:15 - INFO - matplotlib.texmanager -   No LaTeX-compatible font found for the serif fontfamily in rcParams. Using default.\n",
      "03/31/2023 15:34:15 - INFO - matplotlib.texmanager -   No LaTeX-compatible font found for the serif fontfamily in rcParams. Using default.\n",
      "03/31/2023 15:34:15 - INFO - matplotlib.texmanager -   No LaTeX-compatible font found for the serif fontfamily in rcParams. Using default.\n",
      "03/31/2023 15:34:15 - INFO - matplotlib.texmanager -   No LaTeX-compatible font found for the serif fontfamily in rcParams. Using default.\n",
      "03/31/2023 15:34:15 - INFO - matplotlib.texmanager -   No LaTeX-compatible font found for the serif fontfamily in rcParams. Using default.\n",
      "03/31/2023 15:34:15 - INFO - matplotlib.texmanager -   No LaTeX-compatible font found for the serif fontfamily in rcParams. Using default.\n",
      "03/31/2023 15:34:15 - INFO - matplotlib.texmanager -   No LaTeX-compatible font found for the serif fontfamily in rcParams. Using default.\n",
      "03/31/2023 15:34:15 - INFO - matplotlib.texmanager -   No LaTeX-compatible font found for the serif fontfamily in rcParams. Using default.\n",
      "03/31/2023 15:34:15 - INFO - matplotlib.texmanager -   No LaTeX-compatible font found for the serif fontfamily in rcParams. Using default.\n",
      "03/31/2023 15:34:15 - INFO - matplotlib.texmanager -   No LaTeX-compatible font found for the serif fontfamily in rcParams. Using default.\n",
      "03/31/2023 15:34:15 - INFO - matplotlib.texmanager -   No LaTeX-compatible font found for the serif fontfamily in rcParams. Using default.\n",
      "03/31/2023 15:34:15 - INFO - matplotlib.texmanager -   No LaTeX-compatible font found for the serif fontfamily in rcParams. Using default.\n",
      "03/31/2023 15:34:15 - INFO - matplotlib.texmanager -   No LaTeX-compatible font found for the serif fontfamily in rcParams. Using default.\n",
      "03/31/2023 15:34:15 - INFO - matplotlib.texmanager -   No LaTeX-compatible font found for the serif fontfamily in rcParams. Using default.\n",
      "03/31/2023 15:34:15 - INFO - matplotlib.texmanager -   No LaTeX-compatible font found for the serif fontfamily in rcParams. Using default.\n",
      "03/31/2023 15:34:15 - INFO - matplotlib.texmanager -   No LaTeX-compatible font found for the serif fontfamily in rcParams. Using default.\n",
      "03/31/2023 15:34:15 - INFO - matplotlib.texmanager -   No LaTeX-compatible font found for the serif fontfamily in rcParams. Using default.\n",
      "03/31/2023 15:34:15 - INFO - matplotlib.texmanager -   No LaTeX-compatible font found for the serif fontfamily in rcParams. Using default.\n",
      "03/31/2023 15:34:15 - INFO - matplotlib.texmanager -   No LaTeX-compatible font found for the serif fontfamily in rcParams. Using default.\n",
      "03/31/2023 15:34:15 - INFO - matplotlib.texmanager -   No LaTeX-compatible font found for the serif fontfamily in rcParams. Using default.\n",
      "03/31/2023 15:34:15 - INFO - matplotlib.texmanager -   No LaTeX-compatible font found for the serif fontfamily in rcParams. Using default.\n",
      "03/31/2023 15:34:15 - INFO - matplotlib.texmanager -   No LaTeX-compatible font found for the serif fontfamily in rcParams. Using default.\n",
      "03/31/2023 15:34:15 - INFO - matplotlib.texmanager -   No LaTeX-compatible font found for the serif fontfamily in rcParams. Using default.\n",
      "03/31/2023 15:34:15 - INFO - matplotlib.texmanager -   No LaTeX-compatible font found for the serif fontfamily in rcParams. Using default.\n",
      "03/31/2023 15:34:15 - INFO - matplotlib.texmanager -   No LaTeX-compatible font found for the serif fontfamily in rcParams. Using default.\n",
      "03/31/2023 15:34:15 - INFO - matplotlib.texmanager -   No LaTeX-compatible font found for the serif fontfamily in rcParams. Using default.\n",
      "03/31/2023 15:34:15 - INFO - matplotlib.texmanager -   No LaTeX-compatible font found for the serif fontfamily in rcParams. Using default.\n",
      "03/31/2023 15:34:15 - INFO - matplotlib.texmanager -   No LaTeX-compatible font found for the serif fontfamily in rcParams. Using default.\n",
      "03/31/2023 15:34:15 - INFO - matplotlib.texmanager -   No LaTeX-compatible font found for the serif fontfamily in rcParams. Using default.\n",
      "03/31/2023 15:34:15 - INFO - matplotlib.texmanager -   No LaTeX-compatible font found for the serif fontfamily in rcParams. Using default.\n",
      "03/31/2023 15:34:15 - INFO - matplotlib.texmanager -   No LaTeX-compatible font found for the serif fontfamily in rcParams. Using default.\n",
      "03/31/2023 15:34:15 - INFO - matplotlib.texmanager -   No LaTeX-compatible font found for the serif fontfamily in rcParams. Using default.\n",
      "03/31/2023 15:34:15 - INFO - matplotlib.texmanager -   No LaTeX-compatible font found for the serif fontfamily in rcParams. Using default.\n",
      "03/31/2023 15:34:15 - INFO - matplotlib.texmanager -   No LaTeX-compatible font found for the serif fontfamily in rcParams. Using default.\n",
      "03/31/2023 15:34:15 - INFO - matplotlib.texmanager -   No LaTeX-compatible font found for the serif fontfamily in rcParams. Using default.\n",
      "03/31/2023 15:34:15 - INFO - matplotlib.texmanager -   No LaTeX-compatible font found for the serif fontfamily in rcParams. Using default.\n",
      "03/31/2023 15:34:15 - INFO - matplotlib.texmanager -   No LaTeX-compatible font found for the serif fontfamily in rcParams. Using default.\n",
      "03/31/2023 15:34:15 - INFO - matplotlib.texmanager -   No LaTeX-compatible font found for the serif fontfamily in rcParams. Using default.\n",
      "03/31/2023 15:34:15 - INFO - matplotlib.texmanager -   No LaTeX-compatible font found for the serif fontfamily in rcParams. Using default.\n",
      "03/31/2023 15:34:15 - INFO - matplotlib.texmanager -   No LaTeX-compatible font found for the serif fontfamily in rcParams. Using default.\n",
      "03/31/2023 15:34:15 - INFO - matplotlib.texmanager -   No LaTeX-compatible font found for the serif fontfamily in rcParams. Using default.\n",
      "03/31/2023 15:34:15 - INFO - matplotlib.texmanager -   No LaTeX-compatible font found for the serif fontfamily in rcParams. Using default.\n",
      "03/31/2023 15:34:15 - INFO - matplotlib.texmanager -   No LaTeX-compatible font found for the serif fontfamily in rcParams. Using default.\n",
      "03/31/2023 15:34:15 - INFO - matplotlib.texmanager -   No LaTeX-compatible font found for the serif fontfamily in rcParams. Using default.\n",
      "03/31/2023 15:34:15 - INFO - matplotlib.texmanager -   No LaTeX-compatible font found for the serif fontfamily in rcParams. Using default.\n",
      "03/31/2023 15:34:15 - INFO - matplotlib.texmanager -   No LaTeX-compatible font found for the serif fontfamily in rcParams. Using default.\n",
      "03/31/2023 15:34:15 - INFO - matplotlib.texmanager -   No LaTeX-compatible font found for the serif fontfamily in rcParams. Using default.\n",
      "03/31/2023 15:34:15 - INFO - matplotlib.texmanager -   No LaTeX-compatible font found for the serif fontfamily in rcParams. Using default.\n",
      "03/31/2023 15:34:15 - INFO - matplotlib.texmanager -   No LaTeX-compatible font found for the serif fontfamily in rcParams. Using default.\n",
      "03/31/2023 15:34:15 - INFO - matplotlib.texmanager -   No LaTeX-compatible font found for the serif fontfamily in rcParams. Using default.\n"
     ]
    },
    {
     "data": {
      "image/png": "[encoded data removed]",
      "text/plain": [
       "<Figure size 1200x300 with 3 Axes>"
      ]
     },
     "metadata": {},
     "output_type": "display_data"
    }
   ],
   "source": [
    "gammas = viz_df_greedy[\"gammas\"].values.tolist()\n",
    "deltas = viz_df_greedy[\"deltas\"].values.tolist()\n",
    "\n",
    "baseline_coherence = viz_df_greedy[\"baseline_coherence\"].values.tolist()\n",
    "watermark_coherence = viz_df_greedy[\"watermark_coherence\"].values.tolist()\n",
    "no_watermark_coherence = viz_df_greedy[\"no_watermark_coherence\"].values.tolist()\n",
    "\n",
    "fig, axs = plt.subplots(ncols=3, nrows=1, figsize=(12,3), sharey=True)\n",
    "slice_idx = len(baseline_coherence)//3\n",
    "\n",
    "\n",
    "plt.subplot(1, 3, 1)\n",
    "plt.plot(deltas[:slice_idx], baseline_coherence[:slice_idx], label=\"baseline\")\n",
    "plt.plot(deltas[:slice_idx], no_watermark_coherence[:slice_idx], label=\"no watermark\")\n",
    "plt.plot(deltas[:slice_idx], watermark_coherence[:slice_idx], label=\"watermark\")\n",
    "plt.xticks(deltas[:slice_idx])\n",
    "plt.xlim(0, 5.1)\n",
    "# reverse x axis\n",
    "# axs[0].invert_xaxis()\n",
    "plt.title(\"Number of beams = 1\")\n",
    "plt.xlabel(\"delta\")\n",
    "plt.ylabel(\"coherence\")\n",
    "\n",
    "plt.subplot(1, 3, 2)\n",
    "plt.plot(deltas[slice_idx:slice_idx*2], baseline_coherence[slice_idx:slice_idx*2], label=\"baseline\")\n",
    "plt.plot(deltas[slice_idx:slice_idx*2], no_watermark_coherence[slice_idx:slice_idx*2], label=\"no watermark\")\n",
    "plt.plot(deltas[slice_idx:slice_idx*2], watermark_coherence[slice_idx:slice_idx*2], label=\"watermark\")\n",
    "plt.xticks(deltas[slice_idx:slice_idx*2])\n",
    "plt.xlim(0, 5.1)\n",
    "plt.title(\"Number of beams = 4\")\n",
    "plt.xlabel(\"delta\")\n",
    "plt.ylabel(\"coherence\")\n",
    "\n",
    "plt.subplot(1, 3, 3)\n",
    "plt.plot(deltas[slice_idx*2:], baseline_coherence[slice_idx*2:], label=\"baseline\")\n",
    "plt.plot(deltas[slice_idx*2:], no_watermark_coherence[slice_idx*2:], label=\"no watermark\")\n",
    "plt.plot(deltas[slice_idx*2:], watermark_coherence[slice_idx*2:], label=\"watermark\")\n",
    "plt.xticks(deltas[slice_idx*2:])\n",
    "plt.xlim(0, 5.1)\n",
    "plt.title(\"Number of beams = 8\")\n",
    "plt.xlabel(\"delta\")\n",
    "plt.ylabel(\"coherence\")\n",
    "\n",
    "\n",
    "# legend to right of both charts\n",
    "plt.legend(bbox_to_anchor=(1.05, 1), loc='upper left', borderaxespad=0.)\n",
    "plt.tight_layout()\n",
    "plt.savefig(f\"{OUTPUT_DIR}/beams_coherence_score.png\")\n",
    "\n",
    "plt.show()"
   ]
  }
 ],
 "metadata": {
  "kernelspec": {
   "display_name": "watermarking-dev",
   "language": "python",
   "name": "python3"
  },
  "language_info": {
   "codemirror_mode": {
    "name": "ipython",
    "version": 3
   },
   "file_extension": ".py",
   "mimetype": "text/x-python",
   "name": "python",
   "nbconvert_exporter": "python",
   "pygments_lexer": "ipython3",
   "version": "3.10.10"
  },
  "vscode": {
   "interpreter": {
    "hash": "0a3c400d5c70e043163c46602e00ff3a948562bdc78a022eac13a63666386981"
   }
  }
 },
 "nbformat": 4,
 "nbformat_minor": 4
}
